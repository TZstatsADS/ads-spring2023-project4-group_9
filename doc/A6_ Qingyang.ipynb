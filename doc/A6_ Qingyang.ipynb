{
 "cells": [
  {
   "cell_type": "code",
   "execution_count": 160,
   "id": "a71d1fdf",
   "metadata": {},
   "outputs": [],
   "source": [
    "import numpy as np\n",
    "import pandas as pd\n",
    "from sklearn.model_selection import train_test_split\n",
    "from sklearn.linear_model import LogisticRegression"
   ]
  },
  {
   "cell_type": "markdown",
   "id": "8847abab",
   "metadata": {},
   "source": [
    "# Data Loading and Preprocessing"
   ]
  },
  {
   "cell_type": "code",
   "execution_count": 161,
   "id": "f1ab5f2a",
   "metadata": {},
   "outputs": [],
   "source": [
    "compas_df=pd.read_csv(\"C:\\\\Users\\\\tqy52\\\\Desktop\\\\Courses\\\\Applied Data Science\\\\Project4\\\\compas-scores-two-years.csv\")\n",
    "\n",
    "#Use the data of African American and Caucasian\n",
    "\n",
    "races = ['African-American','Caucasian']\n",
    "\n",
    "compas_df=compas_df[compas_df.race.isin(races)]\n",
    "\n",
    "compas_df.head()\n",
    "\n",
    "#use only specific columns for future prediction\n",
    "compas_df_filtered = compas_df.loc[:, ['race']].join(compas_df.select_dtypes(include=['int64']))\n",
    "#drop id and duplicate columns\n",
    "compas_df_filtered = compas_df_filtered.drop(['id','decile_score.1', 'priors_count.1'], axis=1)\n",
    "\n",
    "# split the data into train, validation and test set, ratio 5:1:1\n",
    "\n",
    "# Split data into training and validation/test sets\n",
    "train_df, val_test_df = train_test_split(compas_df_filtered, test_size=0.2, random_state=42)\n",
    "\n",
    "# Split validation/test set into validation and test sets\n",
    "val_df, test_df = train_test_split(val_test_df, test_size=0.5, random_state=42)\n"
   ]
  },
  {
   "cell_type": "code",
   "execution_count": 162,
   "id": "bbe66de9",
   "metadata": {},
   "outputs": [
    {
     "name": "stdout",
     "output_type": "stream",
     "text": [
      "race                object\n",
      "age                  int64\n",
      "juv_fel_count        int64\n",
      "decile_score         int64\n",
      "juv_misd_count       int64\n",
      "juv_other_count      int64\n",
      "priors_count         int64\n",
      "is_recid             int64\n",
      "is_violent_recid     int64\n",
      "v_decile_score       int64\n",
      "start                int64\n",
      "end                  int64\n",
      "event                int64\n",
      "two_year_recid       int64\n",
      "dtype: object\n"
     ]
    }
   ],
   "source": [
    "\n",
    "print(train_df.dtypes)\n"
   ]
  },
  {
   "cell_type": "markdown",
   "id": "a9d6a0f8",
   "metadata": {},
   "source": [
    "# Implemntaion of algorithms"
   ]
  },
  {
   "cell_type": "code",
   "execution_count": 163,
   "id": "5a40b160",
   "metadata": {},
   "outputs": [],
   "source": [
    "#for the algorithms below, we apply on the whole dataset\n",
    "X=compas_df_filtered\n",
    "s=X.race\n",
    "e=X.decile_score \n",
    "y=X.two_year_recid \n",
    "\n",
    "\n",
    "\n",
    "\n",
    "def PARTITION(X, e):\n",
    "    unique_values = e.unique()  # find unique values of e\n",
    "    groups = {}  # initialize empty dictionary to store resulting DataFrames\n",
    "    \n",
    "    for val in unique_values:\n",
    "        group_df = X[e == val]  # filter rows in X where e equals current unique value\n",
    "        groups[val] = group_df  # store resulting DataFrame in dictionary with key = unique value\n",
    "        \n",
    "    return groups  # return dictionary of resulting DataFrames\n",
    "\n",
    "\n",
    "\n",
    "\n",
    "\n"
   ]
  },
  {
   "cell_type": "code",
   "execution_count": 164,
   "id": "e0343d9c",
   "metadata": {},
   "outputs": [
    {
     "name": "stdout",
     "output_type": "stream",
     "text": [
      "[ 3  4  8  6  1 10  5  9  2  7]\n"
     ]
    }
   ],
   "source": [
    "resulting_groups = PARTITION(X, e)\n",
    "first_group_df = resulting_groups[1]\n",
    "#print(first_group_df.head)\n",
    "\n",
    "unique_values = e.unique() \n",
    "print(unique_values)"
   ]
  },
  {
   "cell_type": "code",
   "execution_count": 167,
   "id": "8270d1ba",
   "metadata": {},
   "outputs": [],
   "source": [
    "\n",
    "def delta(X, gender):\n",
    "    # calculate the baseline probabilities\n",
    "    p_pos_base = X.two_year_recid.mean()\n",
    "\n",
    "    # calculate probabilities conditioned on gender\n",
    "    p_pos_gender = X[X.race == gender].two_year_recid.mean()\n",
    "    \n",
    "\n",
    "    # calculate the number of gender people in X\n",
    "    G = len(X[X.race == gender])\n",
    "\n",
    "    # calculate delta\n",
    "    \n",
    "    delta_val = G * abs(p_pos_gender - p_pos_base)\n",
    "    \n",
    "\n",
    "    return int(delta_val)\n"
   ]
  },
  {
   "cell_type": "code",
   "execution_count": 168,
   "id": "432f91dc",
   "metadata": {},
   "outputs": [
    {
     "name": "stdout",
     "output_type": "stream",
     "text": [
      "11\n",
      "10\n",
      "3\n",
      "1\n",
      "5\n",
      "4\n",
      "3\n",
      "1\n",
      "1\n",
      "2\n"
     ]
    }
   ],
   "source": [
    "for group in resulting_groups.values():\n",
    "    print(delta(group,'Caucasian'))"
   ]
  },
  {
   "cell_type": "code",
   "execution_count": 189,
   "id": "2d90c728",
   "metadata": {},
   "outputs": [
    {
     "name": "stderr",
     "output_type": "stream",
     "text": [
      "c:\\users\\tqy52\\appdata\\local\\programs\\python\\python37-32\\lib\\site-packages\\pandas\\core\\indexing.py:1676: SettingWithCopyWarning: \n",
      "A value is trying to be set on a copy of a slice from a DataFrame.\n",
      "Try using .loc[row_indexer,col_indexer] = value instead\n",
      "\n",
      "See the caveats in the documentation: https://pandas.pydata.org/pandas-docs/stable/user_guide/indexing.html#returning-a-view-versus-a-copy\n",
      "  self._setitem_single_column(ilocs[0], value, pi)\n",
      "c:\\users\\tqy52\\appdata\\local\\programs\\python\\python37-32\\lib\\site-packages\\pandas\\core\\indexing.py:1676: SettingWithCopyWarning: \n",
      "A value is trying to be set on a copy of a slice from a DataFrame.\n",
      "Try using .loc[row_indexer,col_indexer] = value instead\n",
      "\n",
      "See the caveats in the documentation: https://pandas.pydata.org/pandas-docs/stable/user_guide/indexing.html#returning-a-view-versus-a-copy\n",
      "  self._setitem_single_column(ilocs[0], value, pi)\n",
      "c:\\users\\tqy52\\appdata\\local\\programs\\python\\python37-32\\lib\\site-packages\\pandas\\core\\indexing.py:1676: SettingWithCopyWarning: \n",
      "A value is trying to be set on a copy of a slice from a DataFrame.\n",
      "Try using .loc[row_indexer,col_indexer] = value instead\n",
      "\n",
      "See the caveats in the documentation: https://pandas.pydata.org/pandas-docs/stable/user_guide/indexing.html#returning-a-view-versus-a-copy\n",
      "  self._setitem_single_column(ilocs[0], value, pi)\n",
      "c:\\users\\tqy52\\appdata\\local\\programs\\python\\python37-32\\lib\\site-packages\\pandas\\core\\indexing.py:1676: SettingWithCopyWarning: \n",
      "A value is trying to be set on a copy of a slice from a DataFrame.\n",
      "Try using .loc[row_indexer,col_indexer] = value instead\n",
      "\n",
      "See the caveats in the documentation: https://pandas.pydata.org/pandas-docs/stable/user_guide/indexing.html#returning-a-view-versus-a-copy\n",
      "  self._setitem_single_column(ilocs[0], value, pi)\n",
      "c:\\users\\tqy52\\appdata\\local\\programs\\python\\python37-32\\lib\\site-packages\\pandas\\core\\indexing.py:1676: SettingWithCopyWarning: \n",
      "A value is trying to be set on a copy of a slice from a DataFrame.\n",
      "Try using .loc[row_indexer,col_indexer] = value instead\n",
      "\n",
      "See the caveats in the documentation: https://pandas.pydata.org/pandas-docs/stable/user_guide/indexing.html#returning-a-view-versus-a-copy\n",
      "  self._setitem_single_column(ilocs[0], value, pi)\n",
      "c:\\users\\tqy52\\appdata\\local\\programs\\python\\python37-32\\lib\\site-packages\\pandas\\core\\indexing.py:1676: SettingWithCopyWarning: \n",
      "A value is trying to be set on a copy of a slice from a DataFrame.\n",
      "Try using .loc[row_indexer,col_indexer] = value instead\n",
      "\n",
      "See the caveats in the documentation: https://pandas.pydata.org/pandas-docs/stable/user_guide/indexing.html#returning-a-view-versus-a-copy\n",
      "  self._setitem_single_column(ilocs[0], value, pi)\n",
      "c:\\users\\tqy52\\appdata\\local\\programs\\python\\python37-32\\lib\\site-packages\\pandas\\core\\indexing.py:1676: SettingWithCopyWarning: \n",
      "A value is trying to be set on a copy of a slice from a DataFrame.\n",
      "Try using .loc[row_indexer,col_indexer] = value instead\n",
      "\n",
      "See the caveats in the documentation: https://pandas.pydata.org/pandas-docs/stable/user_guide/indexing.html#returning-a-view-versus-a-copy\n",
      "  self._setitem_single_column(ilocs[0], value, pi)\n",
      "c:\\users\\tqy52\\appdata\\local\\programs\\python\\python37-32\\lib\\site-packages\\pandas\\core\\indexing.py:1676: SettingWithCopyWarning: \n",
      "A value is trying to be set on a copy of a slice from a DataFrame.\n",
      "Try using .loc[row_indexer,col_indexer] = value instead\n",
      "\n",
      "See the caveats in the documentation: https://pandas.pydata.org/pandas-docs/stable/user_guide/indexing.html#returning-a-view-versus-a-copy\n",
      "  self._setitem_single_column(ilocs[0], value, pi)\n",
      "c:\\users\\tqy52\\appdata\\local\\programs\\python\\python37-32\\lib\\site-packages\\pandas\\core\\indexing.py:1676: SettingWithCopyWarning: \n",
      "A value is trying to be set on a copy of a slice from a DataFrame.\n",
      "Try using .loc[row_indexer,col_indexer] = value instead\n",
      "\n",
      "See the caveats in the documentation: https://pandas.pydata.org/pandas-docs/stable/user_guide/indexing.html#returning-a-view-versus-a-copy\n",
      "  self._setitem_single_column(ilocs[0], value, pi)\n",
      "c:\\users\\tqy52\\appdata\\local\\programs\\python\\python37-32\\lib\\site-packages\\pandas\\core\\indexing.py:1676: SettingWithCopyWarning: \n",
      "A value is trying to be set on a copy of a slice from a DataFrame.\n",
      "Try using .loc[row_indexer,col_indexer] = value instead\n",
      "\n",
      "See the caveats in the documentation: https://pandas.pydata.org/pandas-docs/stable/user_guide/indexing.html#returning-a-view-versus-a-copy\n",
      "  self._setitem_single_column(ilocs[0], value, pi)\n",
      "c:\\users\\tqy52\\appdata\\local\\programs\\python\\python37-32\\lib\\site-packages\\pandas\\core\\indexing.py:1676: SettingWithCopyWarning: \n",
      "A value is trying to be set on a copy of a slice from a DataFrame.\n",
      "Try using .loc[row_indexer,col_indexer] = value instead\n",
      "\n",
      "See the caveats in the documentation: https://pandas.pydata.org/pandas-docs/stable/user_guide/indexing.html#returning-a-view-versus-a-copy\n",
      "  self._setitem_single_column(ilocs[0], value, pi)\n",
      "c:\\users\\tqy52\\appdata\\local\\programs\\python\\python37-32\\lib\\site-packages\\pandas\\core\\indexing.py:1676: SettingWithCopyWarning: \n",
      "A value is trying to be set on a copy of a slice from a DataFrame.\n",
      "Try using .loc[row_indexer,col_indexer] = value instead\n",
      "\n",
      "See the caveats in the documentation: https://pandas.pydata.org/pandas-docs/stable/user_guide/indexing.html#returning-a-view-versus-a-copy\n",
      "  self._setitem_single_column(ilocs[0], value, pi)\n",
      "c:\\users\\tqy52\\appdata\\local\\programs\\python\\python37-32\\lib\\site-packages\\pandas\\core\\indexing.py:1676: SettingWithCopyWarning: \n",
      "A value is trying to be set on a copy of a slice from a DataFrame.\n",
      "Try using .loc[row_indexer,col_indexer] = value instead\n",
      "\n",
      "See the caveats in the documentation: https://pandas.pydata.org/pandas-docs/stable/user_guide/indexing.html#returning-a-view-versus-a-copy\n",
      "  self._setitem_single_column(ilocs[0], value, pi)\n",
      "c:\\users\\tqy52\\appdata\\local\\programs\\python\\python37-32\\lib\\site-packages\\pandas\\core\\indexing.py:1676: SettingWithCopyWarning: \n",
      "A value is trying to be set on a copy of a slice from a DataFrame.\n",
      "Try using .loc[row_indexer,col_indexer] = value instead\n",
      "\n",
      "See the caveats in the documentation: https://pandas.pydata.org/pandas-docs/stable/user_guide/indexing.html#returning-a-view-versus-a-copy\n",
      "  self._setitem_single_column(ilocs[0], value, pi)\n",
      "c:\\users\\tqy52\\appdata\\local\\programs\\python\\python37-32\\lib\\site-packages\\pandas\\core\\indexing.py:1676: SettingWithCopyWarning: \n",
      "A value is trying to be set on a copy of a slice from a DataFrame.\n",
      "Try using .loc[row_indexer,col_indexer] = value instead\n",
      "\n",
      "See the caveats in the documentation: https://pandas.pydata.org/pandas-docs/stable/user_guide/indexing.html#returning-a-view-versus-a-copy\n",
      "  self._setitem_single_column(ilocs[0], value, pi)\n",
      "c:\\users\\tqy52\\appdata\\local\\programs\\python\\python37-32\\lib\\site-packages\\pandas\\core\\indexing.py:1676: SettingWithCopyWarning: \n",
      "A value is trying to be set on a copy of a slice from a DataFrame.\n",
      "Try using .loc[row_indexer,col_indexer] = value instead\n",
      "\n",
      "See the caveats in the documentation: https://pandas.pydata.org/pandas-docs/stable/user_guide/indexing.html#returning-a-view-versus-a-copy\n",
      "  self._setitem_single_column(ilocs[0], value, pi)\n",
      "c:\\users\\tqy52\\appdata\\local\\programs\\python\\python37-32\\lib\\site-packages\\pandas\\core\\indexing.py:1676: SettingWithCopyWarning: \n",
      "A value is trying to be set on a copy of a slice from a DataFrame.\n",
      "Try using .loc[row_indexer,col_indexer] = value instead\n",
      "\n",
      "See the caveats in the documentation: https://pandas.pydata.org/pandas-docs/stable/user_guide/indexing.html#returning-a-view-versus-a-copy\n",
      "  self._setitem_single_column(ilocs[0], value, pi)\n",
      "c:\\users\\tqy52\\appdata\\local\\programs\\python\\python37-32\\lib\\site-packages\\pandas\\core\\indexing.py:1676: SettingWithCopyWarning: \n",
      "A value is trying to be set on a copy of a slice from a DataFrame.\n",
      "Try using .loc[row_indexer,col_indexer] = value instead\n",
      "\n",
      "See the caveats in the documentation: https://pandas.pydata.org/pandas-docs/stable/user_guide/indexing.html#returning-a-view-versus-a-copy\n",
      "  self._setitem_single_column(ilocs[0], value, pi)\n",
      "c:\\users\\tqy52\\appdata\\local\\programs\\python\\python37-32\\lib\\site-packages\\pandas\\core\\indexing.py:1676: SettingWithCopyWarning: \n",
      "A value is trying to be set on a copy of a slice from a DataFrame.\n",
      "Try using .loc[row_indexer,col_indexer] = value instead\n",
      "\n",
      "See the caveats in the documentation: https://pandas.pydata.org/pandas-docs/stable/user_guide/indexing.html#returning-a-view-versus-a-copy\n",
      "  self._setitem_single_column(ilocs[0], value, pi)\n",
      "c:\\users\\tqy52\\appdata\\local\\programs\\python\\python37-32\\lib\\site-packages\\pandas\\core\\indexing.py:1676: SettingWithCopyWarning: \n",
      "A value is trying to be set on a copy of a slice from a DataFrame.\n",
      "Try using .loc[row_indexer,col_indexer] = value instead\n",
      "\n",
      "See the caveats in the documentation: https://pandas.pydata.org/pandas-docs/stable/user_guide/indexing.html#returning-a-view-versus-a-copy\n",
      "  self._setitem_single_column(ilocs[0], value, pi)\n"
     ]
    }
   ],
   "source": [
    "\n",
    "#Algorithm 1: Local massaging\n",
    "resulting_groups = PARTITION(X, e)\n",
    "updated_groups_1 = []\n",
    "for group in resulting_groups.values():\n",
    "    males = group[group.race == 'Caucasian']\n",
    "    females = group[group.race == 'African-American']\n",
    "    \n",
    "    # learn a ranker H for this group\n",
    "    H = LogisticRegression(random_state=42,max_iter=500)\n",
    "    H.fit(group.drop(['race','two_year_recid'], axis=1), group.two_year_recid)\n",
    "    \n",
    "    # rank and relabel males\n",
    "    males_females = pd.concat([males,females])\n",
    "    males_females['proba'] = H.predict_proba(males_females.drop(['two_year_recid','race'], axis=1))[:, 1]\n",
    "\n",
    "   \n",
    "    males_females = males_females.sort_values(by='proba')\n",
    "    \n",
    "    \n",
    "    delta_males = int(delta(group, 'Caucasian'))\n",
    " \n",
    "    males_to_relabel = males_females[(males_females['race'] == 'Caucasian') & (males_females['two_year_recid'] == 0) & (males_females['proba'] < 0.5)].head(delta_males)\n",
    "    group.loc[males_to_relabel.index, 'two_year_recid'] = 1 - males_to_relabel.two_year_recid\n",
    "    \n",
    "    # rank and relabel females\n",
    "    delta_females = int(delta(group, 'African-American'))\n",
    "    females_to_relabel = males_females[(males_females['race'] == 'African-American') & (males_females['two_year_recid'] == 1) & (males_females['proba'] > 0.5)].head(delta_females)\n",
    "    group.loc[females_to_relabel.index, 'two_year_recid'] = 1 - females_to_relabel.two_year_recid\n",
    "    \n",
    "    updated_groups_1.append(group)\n"
   ]
  },
  {
   "cell_type": "code",
   "execution_count": 190,
   "id": "4413aa4d",
   "metadata": {},
   "outputs": [
    {
     "name": "stdout",
     "output_type": "stream",
     "text": [
      "67\n"
     ]
    }
   ],
   "source": [
    "updated_df_1 = pd.concat(updated_groups_1)\n",
    "updated_df_1 = updated_df_1.sort_index()\n",
    "print(sum(updated_df_1['two_year_recid']!=compas_df_filtered['two_year_recid']))\n",
    "#67 labels have been changed"
   ]
  },
  {
   "cell_type": "code",
   "execution_count": 139,
   "id": "008556c4",
   "metadata": {},
   "outputs": [
    {
     "name": "stdout",
     "output_type": "stream",
     "text": [
      "0\n"
     ]
    }
   ],
   "source": []
  },
  {
   "cell_type": "code",
   "execution_count": 191,
   "id": "1b8192bd",
   "metadata": {},
   "outputs": [],
   "source": [
    "\n",
    "#Algorithm 2:  Local preferential sampling\n",
    "resulting_groups = PARTITION(X, e)\n",
    "updated_groups_2 = []\n",
    "for group in resulting_groups.values():\n",
    "    males = group[group.race == 'Caucasian']\n",
    "    females = group[group.race == 'African-American']\n",
    "    \n",
    "    # learn a ranker H for this group\n",
    "    H = LogisticRegression(random_state=42,max_iter=500)\n",
    "    H.fit(group.drop(['race','two_year_recid'], axis=1), group.two_year_recid)\n",
    "    \n",
    "    # rank delete,and relabel males\n",
    "    males_females = pd.concat([males, females])\n",
    "    males_females['proba'] = H.predict_proba(males_females.drop(['two_year_recid', 'race'], axis=1))[:, 1]\n",
    "    males_females = males_females.sort_values(by='proba')\n",
    "    delta_males = int(0.5*delta(group, 'Caucasian'))\n",
    "    \n",
    "    \n",
    "    males_to_delete = males_females[(males_females['race'] == 'Caucasian') & (males_females['two_year_recid'] == 1) & (males_females['proba'] < 0.5)].tail(delta_males)\n",
    "    males_to_duplicate = males_females[(males_females['race'] == 'Caucasian') & (males_females['two_year_recid'] == 0) & (males_females['proba'] > 0.5)].head(delta_males)\n",
    "    group = group[~group.index.isin(males_to_delete.index)]\n",
    "    group = pd.concat([group, males_to_duplicate], ignore_index=True)\n",
    "    \n",
    "    # rank delete,and relabel females\n",
    "    delta_females = int(0.5*delta(group, 'African-American'))\n",
    "    females_to_delete = males_females[(males_females['race'] == 'African-American') & (males_females['two_year_recid'] == 0) & (males_females['proba'] > 0.5)].tail(delta_females)\n",
    "    females_to_duplicate = males_females[(males_females['race'] == 'African-American') & (males_females['two_year_recid'] == 1) & (males_females['proba'] < 0.5)].head(delta_females)\n",
    "    group = group[~group.index.isin(females_to_delete.index)]\n",
    "    group = pd.concat([group, females_to_duplicate], ignore_index=True)\n",
    "    \n",
    "    updated_groups_2.append(group)\n",
    "    \n",
    "   \n"
   ]
  },
  {
   "cell_type": "code",
   "execution_count": 197,
   "id": "3f8d91b1",
   "metadata": {},
   "outputs": [
    {
     "name": "stdout",
     "output_type": "stream",
     "text": [
      "0       1\n",
      "0       1\n",
      "0       0\n",
      "0       1\n",
      "0       0\n",
      "       ..\n",
      "1075    1\n",
      "1076    0\n",
      "1077    0\n",
      "1078    0\n",
      "1079    1\n",
      "Name: two_year_recid, Length: 6159, dtype: int64\n"
     ]
    }
   ],
   "source": [
    "updated_df_2 = pd.concat(updated_groups_2)\n",
    "\n",
    "\n",
    "\n",
    "\n"
   ]
  },
  {
   "cell_type": "code",
   "execution_count": null,
   "id": "d768909e",
   "metadata": {},
   "outputs": [],
   "source": []
  }
 ],
 "metadata": {
  "kernelspec": {
   "display_name": "Python 3",
   "language": "python",
   "name": "python3"
  },
  "language_info": {
   "codemirror_mode": {
    "name": "ipython",
    "version": 3
   },
   "file_extension": ".py",
   "mimetype": "text/x-python",
   "name": "python",
   "nbconvert_exporter": "python",
   "pygments_lexer": "ipython3",
   "version": "3.7.2"
  }
 },
 "nbformat": 4,
 "nbformat_minor": 5
}
