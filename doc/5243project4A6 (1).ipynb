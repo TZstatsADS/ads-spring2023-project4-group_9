{
  "cells": [
    {
      "cell_type": "markdown",
      "metadata": {
        "id": "wANV-HWZ4XEf"
      },
      "source": [
        "# Pre-Process"
      ]
    },
    {
      "cell_type": "code",
      "source": [
        "import pandas as pd\n",
        "df = pd.read_csv('compas-scores-two-years.csv')"
      ],
      "metadata": {
        "id": "3rHJBFkTbe2W"
      },
      "execution_count": null,
      "outputs": []
    },
    {
      "cell_type": "code",
      "execution_count": null,
      "metadata": {
        "id": "k1WHo4Iddz7l",
        "colab": {
          "base_uri": "https://localhost:8080/"
        },
        "outputId": "8c5a0bfa-db24-4c21-cd96-d34b3111a5eb"
      },
      "outputs": [
        {
          "output_type": "stream",
          "name": "stderr",
          "text": [
            "<ipython-input-2-d7967d858aac>:3: SettingWithCopyWarning: \n",
            "A value is trying to be set on a copy of a slice from a DataFrame\n",
            "\n",
            "See the caveats in the documentation: https://pandas.pydata.org/pandas-docs/stable/user_guide/indexing.html#returning-a-view-versus-a-copy\n",
            "  df[\"race\"].replace(['African-American', 'Caucasian'],[0, 1], inplace=True)\n",
            "<ipython-input-2-d7967d858aac>:4: SettingWithCopyWarning: \n",
            "A value is trying to be set on a copy of a slice from a DataFrame\n",
            "\n",
            "See the caveats in the documentation: https://pandas.pydata.org/pandas-docs/stable/user_guide/indexing.html#returning-a-view-versus-a-copy\n",
            "  df[\"score_text\"].replace([\"Low\",\"Medium\",\"High\"],[0,1,2],inplace=True)\n",
            "<ipython-input-2-d7967d858aac>:5: SettingWithCopyWarning: \n",
            "A value is trying to be set on a copy of a slice from a DataFrame\n",
            "\n",
            "See the caveats in the documentation: https://pandas.pydata.org/pandas-docs/stable/user_guide/indexing.html#returning-a-view-versus-a-copy\n",
            "  df[\"sex\"].replace([\"Male\",\"Female\"],[0,1],inplace=True)\n",
            "<ipython-input-2-d7967d858aac>:6: SettingWithCopyWarning: \n",
            "A value is trying to be set on a copy of a slice from a DataFrame\n",
            "\n",
            "See the caveats in the documentation: https://pandas.pydata.org/pandas-docs/stable/user_guide/indexing.html#returning-a-view-versus-a-copy\n",
            "  df[\"c_charge_degree\"].replace([\"M\",\"F\"],[0,1],inplace=True)\n",
            "<ipython-input-2-d7967d858aac>:7: SettingWithCopyWarning: \n",
            "A value is trying to be set on a copy of a slice from a DataFrame.\n",
            "Try using .loc[row_indexer,col_indexer] = value instead\n",
            "\n",
            "See the caveats in the documentation: https://pandas.pydata.org/pandas-docs/stable/user_guide/indexing.html#returning-a-view-versus-a-copy\n",
            "  df[\"priors_count\"] = np.where(df['priors_count'] > 0, 1, 0)\n",
            "<ipython-input-2-d7967d858aac>:9: SettingWithCopyWarning: \n",
            "A value is trying to be set on a copy of a slice from a DataFrame.\n",
            "Try using .loc[row_indexer,col_indexer] = value instead\n",
            "\n",
            "See the caveats in the documentation: https://pandas.pydata.org/pandas-docs/stable/user_guide/indexing.html#returning-a-view-versus-a-copy\n",
            "  df['juv_count'] = np.where(juv_cond, 1, 0)\n"
          ]
        }
      ],
      "source": [
        "\n",
        "import numpy as np\n",
        "df = df.loc[df[\"race\"].isin([\"African-American\", \"Caucasian\"])]\n",
        "df[\"race\"].replace(['African-American', 'Caucasian'],[0, 1], inplace=True)\n",
        "df[\"score_text\"].replace([\"Low\",\"Medium\",\"High\"],[0,1,2],inplace=True)\n",
        "df[\"sex\"].replace([\"Male\",\"Female\"],[0,1],inplace=True)\n",
        "df[\"c_charge_degree\"].replace([\"M\",\"F\"],[0,1],inplace=True)\n",
        "df[\"priors_count\"] = np.where(df['priors_count'] > 0, 1, 0)\n",
        "juv_cond = (df['juv_fel_count'] > 0) | (df['juv_misd_count'] > 0) | (df['juv_other_count'] > 0)\n",
        "df['juv_count'] = np.where(juv_cond, 1, 0)"
      ]
    },
    {
      "cell_type": "code",
      "execution_count": null,
      "metadata": {
        "colab": {
          "base_uri": "https://localhost:8080/"
        },
        "id": "4lSZo05Gd_Lo",
        "outputId": "2cf2b59e-d76e-46ae-e13e-f150186e8811"
      },
      "outputs": [
        {
          "output_type": "stream",
          "name": "stdout",
          "text": [
            "(5271, 7) (5271,) (879, 7) (879,)\n",
            "(4392, 7) (4392,) (879, 7) (879,)\n"
          ]
        }
      ],
      "source": [
        "y = df[\"two_year_recid\"]\n",
        "X = pd.DataFrame(df, columns=[\"race\",\"age\",\"priors_count\",\"juv_count\",'score_text',\"sex\",\"c_charge_degree\"])\n",
        "from sklearn.model_selection import train_test_split\n",
        "X_train, X_test, y_train, y_test=train_test_split(X,y,test_size=1/7, random_state=67, stratify=y)\n",
        "print(X_train.shape, y_train.shape, X_test.shape, y_test.shape)\n",
        "X_train, X_valid, y_train, y_valid=train_test_split(X_train,y_train,test_size=879, random_state=67, stratify=y_train)\n",
        "print(X_train.shape, y_train.shape, X_valid.shape, y_valid.shape)"
      ]
    },
    {
      "cell_type": "markdown",
      "metadata": {
        "id": "5XH3AmE1wide"
      },
      "source": [
        "# Baseline"
      ]
    },
    {
      "cell_type": "code",
      "execution_count": null,
      "metadata": {
        "colab": {
          "base_uri": "https://localhost:8080/"
        },
        "id": "d798yW5oeKVK",
        "outputId": "e5d62662-6a32-4f4f-d071-120ee4e1ad58"
      },
      "outputs": [
        {
          "output_type": "execute_result",
          "data": {
            "text/plain": [
              "0.6666666666666666"
            ]
          },
          "metadata": {},
          "execution_count": 4
        }
      ],
      "source": [
        "from sklearn.linear_model import LogisticRegression\n",
        "clf = LogisticRegression(random_state=0).fit(X_train, y_train)\n",
        "clf.score(X_test,y_test)"
      ]
    },
    {
      "cell_type": "code",
      "execution_count": null,
      "metadata": {
        "id": "FGlQZYBunn4q"
      },
      "outputs": [],
      "source": [
        "index_b= (X_test[\"race\"]==0)\n",
        "X_test_b=X_test[index_b]\n",
        "y_test_b=y_test[index_b]\n",
        "X_test_w=X_test[-index_b]\n",
        "y_test_w=y_test[-index_b]"
      ]
    },
    {
      "cell_type": "code",
      "execution_count": null,
      "metadata": {
        "id": "P-PpERnWKhIZ"
      },
      "outputs": [],
      "source": [
        "index_b= (X_train[\"race\"]==0)\n",
        "X_train_b=X_train[index_b]\n",
        "y_train_b=y_train[index_b]\n",
        "X_train_w=X_train[-index_b]\n",
        "y_train_w=y_train[-index_b]"
      ]
    },
    {
      "cell_type": "code",
      "execution_count": null,
      "metadata": {
        "colab": {
          "base_uri": "https://localhost:8080/"
        },
        "id": "os9zoVlwv_hn",
        "outputId": "84d3f08e-6196-4797-b8f2-cd5619ba76b0"
      },
      "outputs": [
        {
          "output_type": "stream",
          "name": "stdout",
          "text": [
            "0.6475095785440613\n",
            "0.6946778711484594\n",
            "calibration score:  0.04716829260439803\n"
          ]
        }
      ],
      "source": [
        "#calibration\n",
        "print(clf.score(X_test_b,y_test_b))\n",
        "print(clf.score(X_test_w,y_test_w))\n",
        "print(\"calibration score: \",abs(clf.score(X_test_b,y_test_b)-clf.score(X_test_w,y_test_w)))"
      ]
    },
    {
      "cell_type": "markdown",
      "metadata": {
        "id": "npGSh6Rc4XEm"
      },
      "source": [
        "# A6"
      ]
    },
    {
      "cell_type": "markdown",
      "metadata": {
        "id": "ZCvk4rRGwmW9"
      },
      "source": [
        "## Determine e"
      ]
    },
    {
      "cell_type": "code",
      "execution_count": null,
      "metadata": {
        "colab": {
          "base_uri": "https://localhost:8080/"
        },
        "id": "jsb2K-Etwo19",
        "outputId": "eec4dbae-d6df-4b8a-ea14-7835e87cbea3"
      },
      "outputs": [
        {
          "output_type": "stream",
          "name": "stdout",
          "text": [
            "0.5003808073115004\n",
            "0.2480181200453001\n",
            "D_all: 0.25236268726620026\n"
          ]
        }
      ],
      "source": [
        "print(np.sum(clf.predict(X_train_b)==1)/len(X_train_b))\n",
        "print(np.sum(clf.predict(X_train_w)==1)/len(X_train_w))\n",
        "D_all=np.sum(clf.predict(X_train_b)==1)/len(X_train_b)-np.sum(clf.predict(X_train_w)==1)/len(X_train_w)\n",
        "print(\"D_all:\", D_all)"
      ]
    },
    {
      "cell_type": "code",
      "execution_count": null,
      "metadata": {
        "id": "rSwxZCINHI1W"
      },
      "outputs": [],
      "source": [
        "def D_bad_function(x):\n",
        "    \n",
        "    # Making male and female subsets of black people:\n",
        "    B_dataset = X_train_b.groupby(x)\n",
        "    W_dataset = X_train_w.groupby(x)\n",
        "\n",
        "    # Total unique values in \"sex\" column\n",
        "    n = np.sum(B_dataset[x].nunique())\n",
        "    \n",
        "    e = []\n",
        "    for i in range(n):\n",
        "        e.append((np.sum(clf.predict(B_dataset.get_group(i))==1)/len(B_dataset.get_group(i))+np.sum(clf.predict(W_dataset.get_group(i))==1)/len(W_dataset.get_group(i)))/n)\n",
        "\n",
        "    d = []\n",
        "    for i in range(n):\n",
        "        d.append((len(B_dataset.get_group(i))/len(X_train_b)-len(W_dataset.get_group(i))/len(X_train_w))*e[i])\n",
        "    \n",
        "    D_exp = np.sum(d)\n",
        "    \n",
        "    return(D_all-D_exp)"
      ]
    },
    {
      "cell_type": "code",
      "execution_count": null,
      "metadata": {
        "id": "mv4HYCFjHWhM"
      },
      "outputs": [],
      "source": [
        "D_bad_all=[D_bad_function(\"sex\"),D_bad_function(\"priors_count\"),D_bad_function(\"juv_count\"),\n",
        "           D_bad_function(\"c_charge_degree\"),D_bad_function(\"score_text\")]"
      ]
    },
    {
      "cell_type": "code",
      "execution_count": null,
      "metadata": {
        "colab": {
          "base_uri": "https://localhost:8080/",
          "height": 672
        },
        "id": "AWOlnqBNIVCB",
        "outputId": "df974dc2-639c-48cb-8cb8-5a99987bd0b3"
      },
      "outputs": [
        {
          "output_type": "execute_result",
          "data": {
            "text/plain": [
              "([<matplotlib.axis.XTick at 0x7fb52c4b3d30>,\n",
              "  <matplotlib.axis.XTick at 0x7fb52c4b33d0>,\n",
              "  <matplotlib.axis.XTick at 0x7fb52c54f7c0>,\n",
              "  <matplotlib.axis.XTick at 0x7fb52c3d7f70>,\n",
              "  <matplotlib.axis.XTick at 0x7fb52c3d7bb0>],\n",
              " [Text(0.0, 0, 'sex'),\n",
              "  Text(1.0, 0, 'priors_count'),\n",
              "  Text(2.0, 0, 'juv_count'),\n",
              "  Text(3.0, 0, 'c_charge_degree'),\n",
              "  Text(4.0, 0, 'score_text')])"
            ]
          },
          "metadata": {},
          "execution_count": 35
        },
        {
          "output_type": "display_data",
          "data": {
            "text/plain": [
              "<Figure size 640x480 with 1 Axes>"
            ],
            "image/png": "[encoded data removed]"
          },
          "metadata": {}
        }
      ],
      "source": [
        "import matplotlib.pyplot as plt\n",
        "plt.plot(D_bad_all)\n",
        "plt.axhline(y = D_all, color = 'r', linestyle = '--')\n",
        "plt.ylabel(\"discrimination\")\n",
        "plt.ylim([0,0.3])\n",
        "plt.legend([\"D_bad\",\"D_all\"])\n",
        "plt.xticks([0.0,1.0,2.0,3.0,4.0],[\"sex\",\"priors_count\",\"juv_count\",\"c_charge_degree\",\"score_text\"],rotation=30)"
      ]
    },
    {
      "cell_type": "markdown",
      "metadata": {
        "id": "L5D4LqW390kY"
      },
      "source": [
        "## Algorithm: Local massaging"
      ]
    },
    {
      "cell_type": "code",
      "execution_count": null,
      "metadata": {
        "colab": {
          "base_uri": "https://localhost:8080/"
        },
        "id": "_iUloSfy92jD",
        "outputId": "55825e9f-67fd-4ed3-86ac-2f7c45950e8a"
      },
      "outputs": [
        {
          "output_type": "stream",
          "name": "stdout",
          "text": [
            "(2237, 7) (1207, 7) (948, 7)\n"
          ]
        }
      ],
      "source": [
        "#split X_train into different sex, 0:low, 1:medium, 2:high\n",
        "index_0= (X_train[\"score_text\"]==0)\n",
        "X_train_0=X_train[index_0]\n",
        "y_train_0=y_train[index_0]\n",
        "index_1= (X_train[\"score_text\"]==1)\n",
        "X_train_1=X_train[index_1]\n",
        "y_train_1=y_train[index_1]\n",
        "index_2= (X_train[\"score_text\"]==2)\n",
        "X_train_2=X_train[index_2]\n",
        "y_train_2=y_train[index_2]\n",
        "print(X_train_0.shape,X_train_1.shape,X_train_2.shape)"
      ]
    },
    {
      "cell_type": "code",
      "execution_count": null,
      "metadata": {
        "id": "uak2iAZeCUJB"
      },
      "outputs": [],
      "source": [
        "from sklearn.linear_model import LogisticRegression\n",
        "clf_0 = LogisticRegression(random_state=0).fit(X_train_0, y_train_0)\n",
        "clf_1 = LogisticRegression(random_state=0).fit(X_train_1, y_train_1)\n",
        "clf_2 = LogisticRegression(random_state=0).fit(X_train_2, y_train_2)"
      ]
    },
    {
      "cell_type": "code",
      "execution_count": null,
      "metadata": {
        "colab": {
          "base_uri": "https://localhost:8080/"
        },
        "id": "9wdKPzdM-PWo",
        "outputId": "bce8f72a-8a77-4ad1-e180-46d687d52b27"
      },
      "outputs": [
        {
          "output_type": "stream",
          "name": "stderr",
          "text": [
            "<ipython-input-38-d33e6a8162ca>:2: SettingWithCopyWarning: \n",
            "A value is trying to be set on a copy of a slice from a DataFrame.\n",
            "Try using .loc[row_indexer,col_indexer] = value instead\n",
            "\n",
            "See the caveats in the documentation: https://pandas.pydata.org/pandas-docs/stable/user_guide/indexing.html#returning-a-view-versus-a-copy\n",
            "  X_train_0[\"prob_0\"],X_train_0[\"prob_1\"]=clf_0.predict_proba(X_train_0)[:,0],clf_0.predict_proba(X_train_0)[:,1]\n",
            "<ipython-input-38-d33e6a8162ca>:2: SettingWithCopyWarning: \n",
            "A value is trying to be set on a copy of a slice from a DataFrame.\n",
            "Try using .loc[row_indexer,col_indexer] = value instead\n",
            "\n",
            "See the caveats in the documentation: https://pandas.pydata.org/pandas-docs/stable/user_guide/indexing.html#returning-a-view-versus-a-copy\n",
            "  X_train_0[\"prob_0\"],X_train_0[\"prob_1\"]=clf_0.predict_proba(X_train_0)[:,0],clf_0.predict_proba(X_train_0)[:,1]\n",
            "<ipython-input-38-d33e6a8162ca>:3: SettingWithCopyWarning: \n",
            "A value is trying to be set on a copy of a slice from a DataFrame.\n",
            "Try using .loc[row_indexer,col_indexer] = value instead\n",
            "\n",
            "See the caveats in the documentation: https://pandas.pydata.org/pandas-docs/stable/user_guide/indexing.html#returning-a-view-versus-a-copy\n",
            "  X_train_1[\"prob_0\"],X_train_1[\"prob_1\"]=clf_1.predict_proba(X_train_1)[:,0],clf_1.predict_proba(X_train_1)[:,1]\n",
            "<ipython-input-38-d33e6a8162ca>:3: SettingWithCopyWarning: \n",
            "A value is trying to be set on a copy of a slice from a DataFrame.\n",
            "Try using .loc[row_indexer,col_indexer] = value instead\n",
            "\n",
            "See the caveats in the documentation: https://pandas.pydata.org/pandas-docs/stable/user_guide/indexing.html#returning-a-view-versus-a-copy\n",
            "  X_train_1[\"prob_0\"],X_train_1[\"prob_1\"]=clf_1.predict_proba(X_train_1)[:,0],clf_1.predict_proba(X_train_1)[:,1]\n",
            "<ipython-input-38-d33e6a8162ca>:4: SettingWithCopyWarning: \n",
            "A value is trying to be set on a copy of a slice from a DataFrame.\n",
            "Try using .loc[row_indexer,col_indexer] = value instead\n",
            "\n",
            "See the caveats in the documentation: https://pandas.pydata.org/pandas-docs/stable/user_guide/indexing.html#returning-a-view-versus-a-copy\n",
            "  X_train_2[\"prob_0\"],X_train_2[\"prob_1\"]=clf_2.predict_proba(X_train_2)[:,0],clf_2.predict_proba(X_train_2)[:,1]\n",
            "<ipython-input-38-d33e6a8162ca>:4: SettingWithCopyWarning: \n",
            "A value is trying to be set on a copy of a slice from a DataFrame.\n",
            "Try using .loc[row_indexer,col_indexer] = value instead\n",
            "\n",
            "See the caveats in the documentation: https://pandas.pydata.org/pandas-docs/stable/user_guide/indexing.html#returning-a-view-versus-a-copy\n",
            "  X_train_2[\"prob_0\"],X_train_2[\"prob_1\"]=clf_2.predict_proba(X_train_2)[:,0],clf_2.predict_proba(X_train_2)[:,1]\n"
          ]
        }
      ],
      "source": [
        "#get probability for logistic regression\n",
        "X_train_0[\"prob_0\"],X_train_0[\"prob_1\"]=clf_0.predict_proba(X_train_0)[:,0],clf_0.predict_proba(X_train_0)[:,1]\n",
        "X_train_1[\"prob_0\"],X_train_1[\"prob_1\"]=clf_1.predict_proba(X_train_1)[:,0],clf_1.predict_proba(X_train_1)[:,1]\n",
        "X_train_2[\"prob_0\"],X_train_2[\"prob_1\"]=clf_2.predict_proba(X_train_2)[:,0],clf_2.predict_proba(X_train_2)[:,1]"
      ]
    },
    {
      "cell_type": "code",
      "execution_count": null,
      "metadata": {
        "colab": {
          "base_uri": "https://localhost:8080/"
        },
        "id": "7UOqPdAZC3Kv",
        "outputId": "cb8563bd-0bc6-490c-b0c8-c348a352635b"
      },
      "outputs": [
        {
          "output_type": "stream",
          "name": "stdout",
          "text": [
            "(2626, 7) (1766, 7)\n"
          ]
        }
      ],
      "source": [
        "index_b= (X_train[\"race\"]==0)\n",
        "X_train_b=X_train[index_b]\n",
        "y_train_b=y_train[index_b]\n",
        "X_train_w=X_train[-index_b]\n",
        "y_train_w=y_train[-index_b]\n",
        "print(X_train_b.shape,X_train_w.shape)"
      ]
    },
    {
      "cell_type": "code",
      "execution_count": null,
      "metadata": {
        "colab": {
          "base_uri": "https://localhost:8080/"
        },
        "id": "QUfG1gGxDM0_",
        "outputId": "64cff455-66f1-42b1-8667-e3e5b0c938f5"
      },
      "outputs": [
        {
          "output_type": "stream",
          "name": "stdout",
          "text": [
            "(1084, 7) (808, 7) (734, 7) (1153, 7) (399, 7) (214, 7)\n"
          ]
        }
      ],
      "source": [
        "index_b_0= (X_train_b[\"score_text\"]==0)\n",
        "X_train_b_0=X_train_b[index_b_0]\n",
        "y_train_b_0=y_train_b[index_b_0]\n",
        "index_b_1= (X_train_b[\"score_text\"]==1)\n",
        "X_train_b_1=X_train_b[index_b_1]\n",
        "y_train_b_1=y_train_b[index_b_1]\n",
        "index_b_2= (X_train_b[\"score_text\"]==2)\n",
        "X_train_b_2=X_train_b[index_b_2]\n",
        "y_train_b_2=y_train_b[index_b_2]\n",
        "\n",
        "index_w_0= (X_train_w[\"score_text\"]==0)\n",
        "X_train_w_0=X_train_w[index_w_0]\n",
        "y_train_w_0=y_train_w[index_w_0]\n",
        "index_w_1= (X_train_w[\"score_text\"]==1)\n",
        "X_train_w_1=X_train_w[index_w_1]\n",
        "y_train_w_1=y_train_w[index_w_1]\n",
        "index_w_2= (X_train_w[\"score_text\"]==2)\n",
        "X_train_w_2=X_train_w[index_w_2]\n",
        "y_train_w_2=y_train_w[index_w_2]\n",
        "\n",
        "print(X_train_b_0.shape,X_train_b_1.shape,X_train_b_2.shape,X_train_w_0.shape,X_train_w_1.shape,X_train_w_2.shape)"
      ]
    },
    {
      "cell_type": "code",
      "execution_count": null,
      "metadata": {
        "id": "syCgHsfxDnop"
      },
      "outputs": [],
      "source": [
        "#e_0\n",
        "p_plus_e_0=(np.sum(clf_0.predict(X_train_b_0)==1)/len(X_train_b_0)+np.sum(clf_0.predict(X_train_w_0)==1)/len(X_train_w_0))/2\n",
        "#e_1\n",
        "p_plus_e_1=(np.sum(clf_1.predict(X_train_b_1)==1)/len(X_train_b_1)+np.sum(clf_1.predict(X_train_w_1)==1)/len(X_train_w_1))/2\n",
        "#e_2\n",
        "p_plus_e_2=(np.sum(clf_2.predict(X_train_b_2)==1)/len(X_train_b_2)+np.sum(clf_2.predict(X_train_w_2)==1)/len(X_train_w_2))/2"
      ]
    },
    {
      "cell_type": "code",
      "execution_count": null,
      "metadata": {
        "colab": {
          "base_uri": "https://localhost:8080/"
        },
        "id": "R8vIDZH0CmJj",
        "outputId": "3dfe94d9-c522-4d07-8299-2da39f759a9d"
      },
      "outputs": [
        {
          "output_type": "stream",
          "name": "stdout",
          "text": [
            "21 23 24 11 8 2\n"
          ]
        }
      ],
      "source": [
        "\n",
        "delta_b_0=abs(int(len(X_train_b_0)*(np.sum(clf_0.predict(X_train_b_0)==1)/len(X_train_b_0)-p_plus_e_0)))\n",
        "delta_w_0=abs(int(len(X_train_w_0)*(np.sum(clf_0.predict(X_train_w_0)==1)/len(X_train_w_0)-p_plus_e_0)))\n",
        "\n",
        "delta_b_1=abs(int(len(X_train_b_1)*(np.sum(clf_1.predict(X_train_b_1)==1)/len(X_train_b_1)-p_plus_e_1)))\n",
        "delta_w_1=abs(int(len(X_train_w_1)*(np.sum(clf_1.predict(X_train_w_1)==1)/len(X_train_w_1)-p_plus_e_1)))\n",
        "\n",
        "delta_b_2=abs(int(len(X_train_b_2)*(np.sum(clf_2.predict(X_train_b_2)==1)/len(X_train_b_2)-p_plus_e_2)))\n",
        "delta_w_2=abs(int(len(X_train_w_2)*(np.sum(clf_2.predict(X_train_w_2)==1)/len(X_train_w_2)-p_plus_e_2)))\n",
        "print(delta_b_0,delta_w_0,delta_b_1,delta_w_1,delta_b_2,delta_w_2)"
      ]
    },
    {
      "cell_type": "code",
      "execution_count": null,
      "metadata": {
        "id": "gLVnUiyX6FlV"
      },
      "outputs": [],
      "source": [
        "index_p_to_n_0=X_train_0[(X_train_0[\"prob_1\"]>=0.5)&(X_train_0[\"race\"]==0)][\"prob_1\"].sort_values()[:delta_b_0]\n",
        "index_n_to_p_0=X_train_0[(X_train_0[\"prob_1\"]<0.5)&(X_train_0[\"race\"]==1)][\"prob_1\"].sort_values(ascending=False)[:delta_w_0]\n",
        "\n",
        "index_p_to_n_1=X_train_1[(X_train_1[\"prob_1\"]>=0.5)&(X_train_1[\"race\"]==0)][\"prob_1\"].sort_values()[:delta_b_1]\n",
        "index_n_to_p_1=X_train_1[(X_train_1[\"prob_1\"]<0.5)&(X_train_1[\"race\"]==1)][\"prob_1\"].sort_values(ascending=False)[:delta_w_1]\n",
        "\n",
        "index_p_to_n_2=X_train_2[(X_train_2[\"prob_1\"]>=0.5)&(X_train_2[\"race\"]==0)][\"prob_1\"].sort_values()[:delta_b_2]\n",
        "index_n_to_p_2=X_train_2[(X_train_2[\"prob_1\"]<0.5)&(X_train_2[\"race\"]==1)][\"prob_1\"].sort_values(ascending=False)[:delta_w_2]"
      ]
    },
    {
      "cell_type": "code",
      "execution_count": null,
      "metadata": {
        "id": "zg4Ypy-sEfXw"
      },
      "outputs": [],
      "source": [
        "y_train_new=y_train.copy()\n",
        "y_train_new[y_train_new.index.isin(index_p_to_n_0.index)]=0\n",
        "y_train_new[y_train_new.index.isin(index_n_to_p_0.index)]=1\n",
        "y_train_new[y_train_new.index.isin(index_p_to_n_1.index)]=0\n",
        "y_train_new[y_train_new.index.isin(index_n_to_p_1.index)]=1\n",
        "y_train_new[y_train_new.index.isin(index_p_to_n_2.index)]=0\n",
        "y_train_new[y_train_new.index.isin(index_n_to_p_2.index)]=1"
      ]
    },
    {
      "cell_type": "code",
      "execution_count": null,
      "metadata": {
        "colab": {
          "base_uri": "https://localhost:8080/"
        },
        "id": "bD8pi4ANJl3s",
        "outputId": "10a60eef-0f35-42d0-b025-8decab3bb737"
      },
      "outputs": [
        {
          "output_type": "execute_result",
          "data": {
            "text/plain": [
              "0.6723549488054608"
            ]
          },
          "metadata": {},
          "execution_count": 45
        }
      ],
      "source": [
        "from sklearn.linear_model import LogisticRegression\n",
        "clf_new = LogisticRegression(random_state=0).fit(X_train, y_train_new)\n",
        "clf_new.score(X_test,y_test)"
      ]
    },
    {
      "cell_type": "code",
      "execution_count": null,
      "metadata": {
        "colab": {
          "base_uri": "https://localhost:8080/"
        },
        "id": "rWMYRKbIKp-O",
        "outputId": "7b884dc8-3d83-4fd8-b5e7-909d7500a585"
      },
      "outputs": [
        {
          "output_type": "stream",
          "name": "stdout",
          "text": [
            "calibration score:  0.04702340706397501\n"
          ]
        }
      ],
      "source": [
        "print(\"calibration score: \",abs(clf_new.score(X_test_b,y_test_b)-clf_new.score(X_test_w,y_test_w)))"
      ]
    },
    {
      "cell_type": "markdown",
      "metadata": {
        "id": "fRiYXp5_LXDb"
      },
      "source": [
        "## Algorithm: Local preferential sampling"
      ]
    },
    {
      "cell_type": "code",
      "execution_count": null,
      "metadata": {
        "id": "UZuSGUy3LaZm"
      },
      "outputs": [],
      "source": [
        "index_p_to_n_0_u=X_train_0[(X_train_0[\"prob_1\"]>=0.5)&(X_train_0[\"race\"]==0)][\"prob_1\"].sort_values()[:int(delta_b_0/2)]\n",
        "index_p_to_n_0_d=X_train_0[(X_train_0[\"prob_1\"]<0.5)&(X_train_0[\"race\"]==0)][\"prob_1\"].sort_values(ascending=False)[:int(delta_b_0/2)]\n",
        "\n",
        "index_n_to_p_0_d=X_train_0[(X_train_0[\"prob_1\"]<0.5)&(X_train_0[\"race\"]==1)][\"prob_1\"].sort_values(ascending=False)[:int(delta_w_0/2)]\n",
        "index_n_to_p_0_u=X_train_0[(X_train_0[\"prob_1\"]>=0.5)&(X_train_0[\"race\"]==1)][\"prob_1\"].sort_values()[:int(delta_w_0/2)]\n",
        "\n",
        "index_p_to_n_1_u=X_train_1[(X_train_1[\"prob_1\"]>=0.5)&(X_train_1[\"race\"]==0)][\"prob_1\"].sort_values()[:int(delta_b_1/2)]\n",
        "index_p_to_n_1_d=X_train_1[(X_train_1[\"prob_1\"]<0.5)&(X_train_1[\"race\"]==0)][\"prob_1\"].sort_values(ascending=False)[:int(delta_b_1/2)]\n",
        "\n",
        "index_n_to_p_1_d=X_train_1[(X_train_1[\"prob_1\"]<0.5)&(X_train_1[\"race\"]==1)][\"prob_1\"].sort_values(ascending=False)[:int(delta_w_1/2)]\n",
        "index_n_to_p_1_u=X_train_1[(X_train_1[\"prob_1\"]>=0.5)&(X_train_1[\"race\"]==1)][\"prob_1\"].sort_values()[:int(delta_w_1/2)]\n",
        "\n",
        "index_p_to_n_2_u=X_train_2[(X_train_2[\"prob_1\"]>=0.5)&(X_train_2[\"race\"]==0)][\"prob_1\"].sort_values()[:int(delta_b_2/2)]\n",
        "index_p_to_n_2_d=X_train_2[(X_train_2[\"prob_1\"]<0.5)&(X_train_2[\"race\"]==0)][\"prob_1\"].sort_values(ascending=False)[:int(delta_b_2/2)]\n",
        "\n",
        "index_n_to_p_2_d=X_train_2[(X_train_2[\"prob_1\"]<0.5)&(X_train_2[\"race\"]==1)][\"prob_1\"].sort_values(ascending=False)[:int(delta_w_2/2)]\n",
        "index_n_to_p_2_u=X_train_2[(X_train_2[\"prob_1\"]>=0.5)&(X_train_2[\"race\"]==1)][\"prob_1\"].sort_values()[:int(delta_w_2/2)]"
      ]
    },
    {
      "cell_type": "code",
      "execution_count": null,
      "metadata": {
        "id": "VZ9v6jpYM_QT"
      },
      "outputs": [],
      "source": [
        "X_train_new1=X_train.copy()\n",
        "y_train_new1=y_train.copy()\n",
        "df_new=pd.concat([X_train_new1,y_train_new1],axis=1)\n",
        "df_new.drop(index_p_to_n_0_d.index,inplace=True)\n",
        "df_new.drop(index_n_to_p_0_u.index,inplace=True)\n",
        "df_new.drop(index_p_to_n_1_d.index,inplace=True)\n",
        "df_new.drop(index_n_to_p_1_u.index,inplace=True)\n",
        "df_new.drop(index_p_to_n_2_d.index,inplace=True)\n",
        "df_new.drop(index_n_to_p_2_u.index,inplace=True)"
      ]
    },
    {
      "cell_type": "code",
      "execution_count": null,
      "metadata": {
        "id": "We5aSq_SP-xU",
        "colab": {
          "base_uri": "https://localhost:8080/"
        },
        "outputId": "9afbef3d-1b38-490a-c396-d37b2cc4eddb"
      },
      "outputs": [
        {
          "output_type": "stream",
          "name": "stderr",
          "text": [
            "<ipython-input-49-1ba412e4c3d2>:7: FutureWarning: The frame.append method is deprecated and will be removed from pandas in a future version. Use pandas.concat instead.\n",
            "  df_new_all=df_new.append([df_dup_1,df_dup_2,df_dup_3,df_dup_4,df_dup_4,df_dup_4])\n"
          ]
        }
      ],
      "source": [
        "df_dup_1=df_new[df_new.index.isin(index_p_to_n_0_u.index)]\n",
        "df_dup_2=df_new[df_new.index.isin(index_n_to_p_0_d.index)]\n",
        "df_dup_3=df_new[df_new.index.isin(index_p_to_n_1_u.index)]\n",
        "df_dup_4=df_new[df_new.index.isin(index_n_to_p_1_d.index)]\n",
        "df_dup_5=df_new[df_new.index.isin(index_p_to_n_2_u.index)]\n",
        "df_dup_6=df_new[df_new.index.isin(index_n_to_p_2_d.index)]\n",
        "df_new_all=df_new.append([df_dup_1,df_dup_2,df_dup_3,df_dup_4,df_dup_4,df_dup_4])"
      ]
    },
    {
      "cell_type": "code",
      "execution_count": null,
      "metadata": {
        "colab": {
          "base_uri": "https://localhost:8080/"
        },
        "id": "wv_YIG3MOFtr",
        "outputId": "686d2706-5a52-4a7c-d9f1-0a67fa68acc9"
      },
      "outputs": [
        {
          "output_type": "stream",
          "name": "stdout",
          "text": [
            "(4350, 8) (4392, 7) (4398, 8)\n"
          ]
        }
      ],
      "source": [
        "print(df_new.shape,X_train_new1.shape,df_new_all.shape)"
      ]
    },
    {
      "cell_type": "code",
      "execution_count": null,
      "metadata": {
        "colab": {
          "base_uri": "https://localhost:8080/"
        },
        "id": "jgzoYgAkQux_",
        "outputId": "e94c0e04-d424-422f-981b-41f4b2af889d"
      },
      "outputs": [
        {
          "output_type": "stream",
          "name": "stdout",
          "text": [
            "0.6689419795221843\n",
            "calibration score:  0.03390321645899741\n"
          ]
        }
      ],
      "source": [
        "from sklearn.linear_model import LogisticRegression\n",
        "clf_new1 = LogisticRegression(random_state=0).fit(df_new_all.drop(\"two_year_recid\",axis=1), df_new_all[\"two_year_recid\"])\n",
        "print(clf_new1.score(X_test,y_test))\n",
        "print(\"calibration score: \",abs(clf_new1.score(X_test_b,y_test_b)-clf_new1.score(X_test_w,y_test_w)))"
      ]
    },
    {
      "cell_type": "markdown",
      "metadata": {
        "id": "O5LUwohfGXdw"
      },
      "source": [
        "# Comparision plots:"
      ]
    },
    {
      "cell_type": "markdown",
      "metadata": {
        "id": "nlHCYOAGGbgg"
      },
      "source": [
        "## Accuracy plot:"
      ]
    },
    {
      "cell_type": "code",
      "execution_count": null,
      "metadata": {
        "colab": {
          "base_uri": "https://localhost:8080/",
          "height": 276
        },
        "id": "-P2VMvoxGgOi",
        "outputId": "b4acfe5a-e6be-4f84-e183-b32473ed764e"
      },
      "outputs": [
        {
          "output_type": "error",
          "ename": "NameError",
          "evalue": "ignored",
          "traceback": [
            "\u001b[0;31m---------------------------------------------------------------------------\u001b[0m",
            "\u001b[0;31mNameError\u001b[0m                                 Traceback (most recent call last)",
            "\u001b[0;32m<ipython-input-52-f68dbb391ab9>\u001b[0m in \u001b[0;36m<cell line: 4>\u001b[0;34m()\u001b[0m\n\u001b[1;32m      2\u001b[0m \u001b[0;34m\u001b[0m\u001b[0m\n\u001b[1;32m      3\u001b[0m \u001b[0;31m# Replace 0.555 with true scores:\u001b[0m\u001b[0;34m\u001b[0m\u001b[0;34m\u001b[0m\u001b[0m\n\u001b[0;32m----> 4\u001b[0;31m \u001b[0mAccuracy_score\u001b[0m             \u001b[0;34m=\u001b[0m \u001b[0mnp\u001b[0m\u001b[0;34m.\u001b[0m\u001b[0mround_\u001b[0m\u001b[0;34m(\u001b[0m\u001b[0;34m[\u001b[0m\u001b[0mclf\u001b[0m\u001b[0;34m.\u001b[0m\u001b[0mscore\u001b[0m\u001b[0;34m(\u001b[0m\u001b[0mX_test\u001b[0m\u001b[0;34m,\u001b[0m\u001b[0my_test\u001b[0m\u001b[0;34m)\u001b[0m\u001b[0;34m,\u001b[0m\u001b[0mclf_accuracy\u001b[0m\u001b[0;34m,\u001b[0m \u001b[0mclf_new\u001b[0m\u001b[0;34m.\u001b[0m\u001b[0mscore\u001b[0m\u001b[0;34m(\u001b[0m\u001b[0mX_test\u001b[0m\u001b[0;34m,\u001b[0m\u001b[0my_test\u001b[0m\u001b[0;34m)\u001b[0m\u001b[0;34m,\u001b[0m\u001b[0mclf_new1\u001b[0m\u001b[0;34m.\u001b[0m\u001b[0mscore\u001b[0m\u001b[0;34m(\u001b[0m\u001b[0mX_test\u001b[0m\u001b[0;34m,\u001b[0m\u001b[0my_test\u001b[0m\u001b[0;34m)\u001b[0m\u001b[0;34m]\u001b[0m\u001b[0;34m,\u001b[0m\u001b[0;36m3\u001b[0m\u001b[0;34m)\u001b[0m\u001b[0;34m\u001b[0m\u001b[0;34m\u001b[0m\u001b[0m\n\u001b[0m\u001b[1;32m      5\u001b[0m \u001b[0mAccuracy_African_American\u001b[0m  \u001b[0;34m=\u001b[0m \u001b[0mnp\u001b[0m\u001b[0;34m.\u001b[0m\u001b[0mround_\u001b[0m\u001b[0;34m(\u001b[0m\u001b[0;34m[\u001b[0m\u001b[0mclf\u001b[0m\u001b[0;34m.\u001b[0m\u001b[0mscore\u001b[0m\u001b[0;34m(\u001b[0m\u001b[0mX_test_b\u001b[0m\u001b[0;34m,\u001b[0m\u001b[0my_test_b\u001b[0m\u001b[0;34m)\u001b[0m\u001b[0;34m,\u001b[0m\u001b[0maccuracy_AA\u001b[0m\u001b[0;34m,\u001b[0m\u001b[0mclf_new\u001b[0m\u001b[0;34m.\u001b[0m\u001b[0mscore\u001b[0m\u001b[0;34m(\u001b[0m\u001b[0mX_test_b\u001b[0m\u001b[0;34m,\u001b[0m\u001b[0my_test_b\u001b[0m\u001b[0;34m)\u001b[0m\u001b[0;34m,\u001b[0m\u001b[0mclf_new1\u001b[0m\u001b[0;34m.\u001b[0m\u001b[0mscore\u001b[0m\u001b[0;34m(\u001b[0m\u001b[0mX_test_b\u001b[0m\u001b[0;34m,\u001b[0m\u001b[0my_test_b\u001b[0m\u001b[0;34m)\u001b[0m\u001b[0;34m]\u001b[0m\u001b[0;34m,\u001b[0m\u001b[0;36m3\u001b[0m\u001b[0;34m)\u001b[0m\u001b[0;34m\u001b[0m\u001b[0;34m\u001b[0m\u001b[0m\n\u001b[1;32m      6\u001b[0m \u001b[0mAccuracy_Caucassian\u001b[0m        \u001b[0;34m=\u001b[0m \u001b[0mnp\u001b[0m\u001b[0;34m.\u001b[0m\u001b[0mround_\u001b[0m\u001b[0;34m(\u001b[0m\u001b[0;34m[\u001b[0m\u001b[0mclf\u001b[0m\u001b[0;34m.\u001b[0m\u001b[0mscore\u001b[0m\u001b[0;34m(\u001b[0m\u001b[0mX_test_w\u001b[0m\u001b[0;34m,\u001b[0m\u001b[0my_test_w\u001b[0m\u001b[0;34m)\u001b[0m\u001b[0;34m,\u001b[0m\u001b[0maccuracy_CC\u001b[0m\u001b[0;34m,\u001b[0m\u001b[0mclf_new\u001b[0m\u001b[0;34m.\u001b[0m\u001b[0mscore\u001b[0m\u001b[0;34m(\u001b[0m\u001b[0mX_test_w\u001b[0m\u001b[0;34m,\u001b[0m\u001b[0my_test_w\u001b[0m\u001b[0;34m)\u001b[0m\u001b[0;34m,\u001b[0m\u001b[0mclf_new1\u001b[0m\u001b[0;34m.\u001b[0m\u001b[0mscore\u001b[0m\u001b[0;34m(\u001b[0m\u001b[0mX_test_w\u001b[0m\u001b[0;34m,\u001b[0m\u001b[0my_test_w\u001b[0m\u001b[0;34m)\u001b[0m\u001b[0;34m]\u001b[0m\u001b[0;34m,\u001b[0m\u001b[0;36m3\u001b[0m\u001b[0;34m)\u001b[0m\u001b[0;34m\u001b[0m\u001b[0;34m\u001b[0m\u001b[0m\n",
            "\u001b[0;31mNameError\u001b[0m: name 'clf_accuracy' is not defined"
          ]
        }
      ],
      "source": [
        "labels = ['Baseline', 'A5', 'A6 LM', 'A6 LPS']   # Add other models here\n",
        "\n",
        "# Replace 0.555 with true scores:\n",
        "Accuracy_score             = np.round_([clf.score(X_test,y_test),clf_accuracy, clf_new.score(X_test,y_test),clf_new1.score(X_test,y_test)],3)\n",
        "Accuracy_African_American  = np.round_([clf.score(X_test_b,y_test_b),accuracy_AA,clf_new.score(X_test_b,y_test_b),clf_new1.score(X_test_b,y_test_b)],3)\n",
        "Accuracy_Caucassian        = np.round_([clf.score(X_test_w,y_test_w),accuracy_CC,clf_new.score(X_test_w,y_test_w),clf_new1.score(X_test_w,y_test_w)],3)\n",
        "\n",
        "x = np.arange(len(labels))  \n",
        "width = 0.25 \n",
        "\n",
        "fig, ax = plt.subplots(figsize=(14, 8))\n",
        "\n",
        "rects0 = ax.bar(x , Accuracy_score , width, label='Total Accuracy', color=\"gray\")\n",
        "rects1 = ax.bar(x - width, Accuracy_African_American, width, label='African_American', color = \"black\")\n",
        "rects2 = ax.bar(x + width, Accuracy_Caucassian, width, label='Caucassian', color = \"peachpuff\")\n",
        "\n",
        "ax.set_ylabel('Accuracy')\n",
        "ax.set_title('Accuracy Comparision')\n",
        "ax.set_xticks(x, labels)\n",
        "ax.legend(bbox_to_anchor=(1.05, 1.0), loc='upper left')\n",
        "\n",
        "ax.bar_label(rects0, padding=3)\n",
        "ax.bar_label(rects1, padding=3)\n",
        "ax.bar_label(rects2, padding=3)\n",
        "\n",
        "plt.show()"
      ]
    },
    {
      "cell_type": "markdown",
      "metadata": {
        "id": "3McibdwKLmBM"
      },
      "source": [
        "## Calibration plot:"
      ]
    },
    {
      "cell_type": "code",
      "execution_count": 56,
      "metadata": {
        "colab": {
          "base_uri": "https://localhost:8080/",
          "height": 797
        },
        "id": "J2nUCHB8Llcc",
        "outputId": "5a61f1ce-205e-4018-ee88-a0fdde2ccf22"
      },
      "outputs": [
        {
          "output_type": "error",
          "ename": "ValueError",
          "evalue": "ignored",
          "traceback": [
            "\u001b[0;31m---------------------------------------------------------------------------\u001b[0m",
            "\u001b[0;31mValueError\u001b[0m                                Traceback (most recent call last)",
            "\u001b[0;32m<ipython-input-56-977fd6bd6c81>\u001b[0m in \u001b[0;36m<cell line: 14>\u001b[0;34m()\u001b[0m\n\u001b[1;32m     12\u001b[0m \u001b[0mplt\u001b[0m\u001b[0;34m.\u001b[0m\u001b[0mfigure\u001b[0m\u001b[0;34m(\u001b[0m\u001b[0;34m)\u001b[0m\u001b[0;34m\u001b[0m\u001b[0;34m\u001b[0m\u001b[0m\n\u001b[1;32m     13\u001b[0m \u001b[0mfig\u001b[0m \u001b[0;34m=\u001b[0m \u001b[0mscore_series\u001b[0m\u001b[0;34m.\u001b[0m\u001b[0mplot\u001b[0m\u001b[0;34m(\u001b[0m\u001b[0mkind\u001b[0m\u001b[0;34m=\u001b[0m\u001b[0;34m'bar'\u001b[0m\u001b[0;34m,\u001b[0m\u001b[0mcolor\u001b[0m\u001b[0;34m=\u001b[0m\u001b[0;34m\"gray\"\u001b[0m\u001b[0;34m)\u001b[0m\u001b[0;34m\u001b[0m\u001b[0;34m\u001b[0m\u001b[0m\n\u001b[0;32m---> 14\u001b[0;31m \u001b[0mfig\u001b[0m\u001b[0;34m.\u001b[0m\u001b[0mset_xticklabels\u001b[0m\u001b[0;34m(\u001b[0m\u001b[0mx_labels\u001b[0m\u001b[0;34m,\u001b[0m \u001b[0mrotation\u001b[0m\u001b[0;34m=\u001b[0m\u001b[0;36m0\u001b[0m\u001b[0;34m)\u001b[0m\u001b[0;34m\u001b[0m\u001b[0;34m\u001b[0m\u001b[0m\n\u001b[0m\u001b[1;32m     15\u001b[0m \u001b[0mfig\u001b[0m\u001b[0;34m.\u001b[0m\u001b[0mbar_label\u001b[0m\u001b[0;34m(\u001b[0m\u001b[0mfig\u001b[0m\u001b[0;34m.\u001b[0m\u001b[0mcontainers\u001b[0m\u001b[0;34m[\u001b[0m\u001b[0;36m0\u001b[0m\u001b[0;34m]\u001b[0m\u001b[0;34m,\u001b[0m \u001b[0mlabel_type\u001b[0m\u001b[0;34m=\u001b[0m\u001b[0;34m'edge'\u001b[0m\u001b[0;34m)\u001b[0m\u001b[0;34m\u001b[0m\u001b[0;34m\u001b[0m\u001b[0m\n\u001b[1;32m     16\u001b[0m \u001b[0mplt\u001b[0m\u001b[0;34m.\u001b[0m\u001b[0mylabel\u001b[0m\u001b[0;34m(\u001b[0m\u001b[0;34m'Calibration score'\u001b[0m\u001b[0;34m,\u001b[0m\u001b[0mfontsize\u001b[0m \u001b[0;34m=\u001b[0m \u001b[0;36m12\u001b[0m\u001b[0;34m)\u001b[0m\u001b[0;34m\u001b[0m\u001b[0;34m\u001b[0m\u001b[0m\n",
            "\u001b[0;32m/usr/local/lib/python3.9/dist-packages/matplotlib/axes/_base.py\u001b[0m in \u001b[0;36mwrapper\u001b[0;34m(self, *args, **kwargs)\u001b[0m\n\u001b[1;32m     72\u001b[0m \u001b[0;34m\u001b[0m\u001b[0m\n\u001b[1;32m     73\u001b[0m         \u001b[0;32mdef\u001b[0m \u001b[0mwrapper\u001b[0m\u001b[0;34m(\u001b[0m\u001b[0mself\u001b[0m\u001b[0;34m,\u001b[0m \u001b[0;34m*\u001b[0m\u001b[0margs\u001b[0m\u001b[0;34m,\u001b[0m \u001b[0;34m**\u001b[0m\u001b[0mkwargs\u001b[0m\u001b[0;34m)\u001b[0m\u001b[0;34m:\u001b[0m\u001b[0;34m\u001b[0m\u001b[0;34m\u001b[0m\u001b[0m\n\u001b[0;32m---> 74\u001b[0;31m             \u001b[0;32mreturn\u001b[0m \u001b[0mget_method\u001b[0m\u001b[0;34m(\u001b[0m\u001b[0mself\u001b[0m\u001b[0;34m)\u001b[0m\u001b[0;34m(\u001b[0m\u001b[0;34m*\u001b[0m\u001b[0margs\u001b[0m\u001b[0;34m,\u001b[0m \u001b[0;34m**\u001b[0m\u001b[0mkwargs\u001b[0m\u001b[0;34m)\u001b[0m\u001b[0;34m\u001b[0m\u001b[0;34m\u001b[0m\u001b[0m\n\u001b[0m\u001b[1;32m     75\u001b[0m \u001b[0;34m\u001b[0m\u001b[0m\n\u001b[1;32m     76\u001b[0m         \u001b[0mwrapper\u001b[0m\u001b[0;34m.\u001b[0m\u001b[0m__module__\u001b[0m \u001b[0;34m=\u001b[0m \u001b[0mowner\u001b[0m\u001b[0;34m.\u001b[0m\u001b[0m__module__\u001b[0m\u001b[0;34m\u001b[0m\u001b[0;34m\u001b[0m\u001b[0m\n",
            "\u001b[0;32m/usr/local/lib/python3.9/dist-packages/matplotlib/_api/deprecation.py\u001b[0m in \u001b[0;36mwrapper\u001b[0;34m(*args, **kwargs)\u001b[0m\n\u001b[1;32m    295\u001b[0m                 f\"for the old name will be dropped %(removal)s.\")\n\u001b[1;32m    296\u001b[0m             \u001b[0mkwargs\u001b[0m\u001b[0;34m[\u001b[0m\u001b[0mnew\u001b[0m\u001b[0;34m]\u001b[0m \u001b[0;34m=\u001b[0m \u001b[0mkwargs\u001b[0m\u001b[0;34m.\u001b[0m\u001b[0mpop\u001b[0m\u001b[0;34m(\u001b[0m\u001b[0mold\u001b[0m\u001b[0;34m)\u001b[0m\u001b[0;34m\u001b[0m\u001b[0;34m\u001b[0m\u001b[0m\n\u001b[0;32m--> 297\u001b[0;31m         \u001b[0;32mreturn\u001b[0m \u001b[0mfunc\u001b[0m\u001b[0;34m(\u001b[0m\u001b[0;34m*\u001b[0m\u001b[0margs\u001b[0m\u001b[0;34m,\u001b[0m \u001b[0;34m**\u001b[0m\u001b[0mkwargs\u001b[0m\u001b[0;34m)\u001b[0m\u001b[0;34m\u001b[0m\u001b[0;34m\u001b[0m\u001b[0m\n\u001b[0m\u001b[1;32m    298\u001b[0m \u001b[0;34m\u001b[0m\u001b[0m\n\u001b[1;32m    299\u001b[0m     \u001b[0;31m# wrapper() must keep the same documented signature as func(): if we\u001b[0m\u001b[0;34m\u001b[0m\u001b[0;34m\u001b[0m\u001b[0m\n",
            "\u001b[0;32m/usr/local/lib/python3.9/dist-packages/matplotlib/axis.py\u001b[0m in \u001b[0;36mset_ticklabels\u001b[0;34m(self, labels, minor, fontdict, **kwargs)\u001b[0m\n\u001b[1;32m   1967\u001b[0m             \u001b[0;31m# remove all tick labels, so only error for > 0 labels\u001b[0m\u001b[0;34m\u001b[0m\u001b[0;34m\u001b[0m\u001b[0m\n\u001b[1;32m   1968\u001b[0m             \u001b[0;32mif\u001b[0m \u001b[0mlen\u001b[0m\u001b[0;34m(\u001b[0m\u001b[0mlocator\u001b[0m\u001b[0;34m.\u001b[0m\u001b[0mlocs\u001b[0m\u001b[0;34m)\u001b[0m \u001b[0;34m!=\u001b[0m \u001b[0mlen\u001b[0m\u001b[0;34m(\u001b[0m\u001b[0mlabels\u001b[0m\u001b[0;34m)\u001b[0m \u001b[0;32mand\u001b[0m \u001b[0mlen\u001b[0m\u001b[0;34m(\u001b[0m\u001b[0mlabels\u001b[0m\u001b[0;34m)\u001b[0m \u001b[0;34m!=\u001b[0m \u001b[0;36m0\u001b[0m\u001b[0;34m:\u001b[0m\u001b[0;34m\u001b[0m\u001b[0;34m\u001b[0m\u001b[0m\n\u001b[0;32m-> 1969\u001b[0;31m                 raise ValueError(\n\u001b[0m\u001b[1;32m   1970\u001b[0m                     \u001b[0;34m\"The number of FixedLocator locations\"\u001b[0m\u001b[0;34m\u001b[0m\u001b[0;34m\u001b[0m\u001b[0m\n\u001b[1;32m   1971\u001b[0m                     \u001b[0;34mf\" ({len(locator.locs)}), usually from a call to\"\u001b[0m\u001b[0;34m\u001b[0m\u001b[0;34m\u001b[0m\u001b[0m\n",
            "\u001b[0;31mValueError\u001b[0m: The number of FixedLocator locations (3), usually from a call to set_ticks, does not match the number of labels (4)."
          ]
        },
        {
          "output_type": "display_data",
          "data": {
            "text/plain": [
              "<Figure size 640x480 with 1 Axes>"
            ],
            "image/png": "[encoded data removed]"
          },
          "metadata": {}
        }
      ],
      "source": [
        "x_labels = ['Baseline','A5', 'A6 LM', 'A6 LPS']\n",
        "\n",
        "Baseline_cal_score = abs(clf.score(X_test_b,y_test_b)-clf.score(X_test_w,y_test_w))\n",
        "#A5_cal_score = cvscore\n",
        "A6_LM_cal_score = abs(clf_new.score(X_test_b,y_test_b)-clf_new.score(X_test_w,y_test_w))\n",
        "A6_LPS_cal_score = abs(clf_new1.score(X_test_b,y_test_b)-clf_new1.score(X_test_w,y_test_w))      # Enter score here\n",
        "\n",
        "#Calibration_score = np.round([Baseline_cal_score,A5_cal_score,A6_LM_cal_score,A6_LPS_cal_score],3)\n",
        "Calibration_score = np.round([Baseline_cal_score,A6_LM_cal_score,A6_LPS_cal_score],3)\n",
        "score_series = pd.Series(Calibration_score)\n",
        "\n",
        "plt.figure()\n",
        "fig = score_series.plot(kind='bar',color=\"gray\")\n",
        "fig.set_xticklabels(x_labels, rotation=0)\n",
        "fig.bar_label(fig.containers[0], label_type='edge')\n",
        "plt.ylabel('Calibration score',fontsize = 12)\n",
        "plt.title('Calibration score Comparision',fontsize = 14)"
      ]
    }
  ],
  "metadata": {
    "colab": {
      "provenance": [],
      "collapsed_sections": [
        "tl4rIzPdTqZI"
      ]
    },
    "hide_input": false,
    "kernelspec": {
      "display_name": "Python 3 (ipykernel)",
      "language": "python",
      "name": "python3"
    },
    "language_info": {
      "codemirror_mode": {
        "name": "ipython",
        "version": 3
      },
      "file_extension": ".py",
      "mimetype": "text/x-python",
      "name": "python",
      "nbconvert_exporter": "python",
      "pygments_lexer": "ipython3",
      "version": "3.9.12"
    },
    "accelerator": "GPU",
    "gpuClass": "standard"
  },
  "nbformat": 4,
  "nbformat_minor": 0
}