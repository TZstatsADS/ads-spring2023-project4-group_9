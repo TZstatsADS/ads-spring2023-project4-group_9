{
 "cells": [
  {
   "cell_type": "markdown",
   "metadata": {
    "id": "wANV-HWZ4XEf"
   },
   "source": [
    "# Pre-Process"
   ]
  },
  {
   "cell_type": "code",
   "execution_count": 1,
   "metadata": {
    "id": "3rHJBFkTbe2W"
   },
   "outputs": [],
   "source": [
    "import pandas as pd\n",
    "df = pd.read_csv('../data/compas-scores-two-years.csv')"
   ]
  },
  {
   "cell_type": "code",
   "execution_count": 2,
   "metadata": {
    "colab": {
     "base_uri": "https://localhost:8080/"
    },
    "id": "k1WHo4Iddz7l",
    "outputId": "8c5a0bfa-db24-4c21-cd96-d34b3111a5eb"
   },
   "outputs": [],
   "source": [
    "import numpy as np\n",
    "df = df.loc[df[\"race\"].isin([\"African-American\", \"Caucasian\"])]\n",
    "df[\"race\"].replace(['African-American', 'Caucasian'],[0, 1], inplace=True)\n",
    "df[\"score_text\"].replace([\"Low\",\"Medium\",\"High\"],[0,1,2],inplace=True)\n",
    "df[\"sex\"].replace([\"Male\",\"Female\"],[0,1],inplace=True)\n",
    "df[\"c_charge_degree\"].replace([\"M\",\"F\"],[0,1],inplace=True)\n",
    "df[\"priors_count\"] = np.where(df['priors_count'] > 0, 1, 0)\n",
    "juv_cond = (df['juv_fel_count'] > 0) | (df['juv_misd_count'] > 0) | (df['juv_other_count'] > 0)\n",
    "df['juv_count'] = np.where(juv_cond, 1, 0)"
   ]
  },
  {
   "cell_type": "code",
   "execution_count": 21,
   "metadata": {
    "colab": {
     "base_uri": "https://localhost:8080/"
    },
    "id": "4lSZo05Gd_Lo",
    "outputId": "2cf2b59e-d76e-46ae-e13e-f150186e8811"
   },
   "outputs": [
    {
     "name": "stdout",
     "output_type": "stream",
     "text": [
      "(5271, 7) (5271,) (879, 7) (879,)\n",
      "(4392, 7) (4392,) (879, 7) (879,)\n"
     ]
    }
   ],
   "source": [
    "y = df[\"two_year_recid\"]\n",
    "X = pd.DataFrame(df, columns=[\"race\",\"age\",\"priors_count\",\"juv_count\",'score_text',\"sex\",\"c_charge_degree\"])\n",
    "from sklearn.model_selection import train_test_split\n",
    "X_train, X_test, y_train, y_test=train_test_split(X,y,test_size=1/7, random_state=50, stratify=y)\n",
    "print(X_train.shape, y_train.shape, X_test.shape, y_test.shape)\n",
    "X_train, X_valid, y_train, y_valid=train_test_split(X_train,y_train,test_size=879, random_state=67, stratify=y_train)\n",
    "print(X_train.shape, y_train.shape, X_valid.shape, y_valid.shape)"
   ]
  },
  {
   "cell_type": "markdown",
   "metadata": {
    "id": "5XH3AmE1wide"
   },
   "source": [
    "# Baseline"
   ]
  },
  {
   "cell_type": "code",
   "execution_count": 22,
   "metadata": {
    "colab": {
     "base_uri": "https://localhost:8080/"
    },
    "id": "d798yW5oeKVK",
    "outputId": "e5d62662-6a32-4f4f-d071-120ee4e1ad58"
   },
   "outputs": [
    {
     "data": {
      "text/plain": [
       "0.6757679180887372"
      ]
     },
     "execution_count": 22,
     "metadata": {},
     "output_type": "execute_result"
    }
   ],
   "source": [
    "from sklearn.linear_model import LogisticRegression\n",
    "clf = LogisticRegression(random_state=0).fit(X_train, y_train)\n",
    "clf.score(X_test,y_test)"
   ]
  },
  {
   "cell_type": "code",
   "execution_count": 23,
   "metadata": {
    "id": "FGlQZYBunn4q"
   },
   "outputs": [],
   "source": [
    "index_b= (X_test[\"race\"]==0)\n",
    "X_test_b=X_test[index_b]\n",
    "y_test_b=y_test[index_b]\n",
    "X_test_w=X_test[-index_b]\n",
    "y_test_w=y_test[-index_b]"
   ]
  },
  {
   "cell_type": "code",
   "execution_count": 24,
   "metadata": {
    "id": "P-PpERnWKhIZ"
   },
   "outputs": [],
   "source": [
    "index_b= (X_train[\"race\"]==0)\n",
    "X_train_b=X_train[index_b]\n",
    "y_train_b=y_train[index_b]\n",
    "X_train_w=X_train[-index_b]\n",
    "y_train_w=y_train[-index_b]"
   ]
  },
  {
   "cell_type": "code",
   "execution_count": 25,
   "metadata": {
    "colab": {
     "base_uri": "https://localhost:8080/"
    },
    "id": "os9zoVlwv_hn",
    "outputId": "84d3f08e-6196-4797-b8f2-cd5619ba76b0"
   },
   "outputs": [
    {
     "name": "stdout",
     "output_type": "stream",
     "text": [
      "0.695906432748538\n",
      "0.6475409836065574\n",
      "calibration score:  0.0483654491419806\n"
     ]
    }
   ],
   "source": [
    "#calibration\n",
    "print(clf.score(X_test_b,y_test_b))\n",
    "print(clf.score(X_test_w,y_test_w))\n",
    "print(\"calibration score: \",abs(clf.score(X_test_b,y_test_b)-clf.score(X_test_w,y_test_w)))"
   ]
  },
  {
   "cell_type": "markdown",
   "metadata": {},
   "source": [
    "# A5"
   ]
  },
  {
   "cell_type": "code",
   "execution_count": 26,
   "metadata": {},
   "outputs": [],
   "source": [
    "import torch as t\n",
    "import torch.nn as nn"
   ]
  },
  {
   "cell_type": "markdown",
   "metadata": {},
   "source": [
    "## Process the data for the model"
   ]
  },
  {
   "cell_type": "code",
   "execution_count": 27,
   "metadata": {},
   "outputs": [],
   "source": [
    "data_filtered_afram = df[df['race']==0]\n",
    "data_filtered_cau = df[df['race']==1]\n",
    "\n",
    "X_afram = data_filtered_afram[[\"race\",\"age\",\"priors_count\",\"juv_count\",'score_text',\"sex\",\"c_charge_degree\"]]\n",
    "y_afram = data_filtered_afram[['two_year_recid']]\n",
    "\n",
    "X_cau = data_filtered_cau[[\"race\",\"age\",\"priors_count\",\"juv_count\",'score_text',\"sex\",\"c_charge_degree\"]]\n",
    "y_cau = data_filtered_cau[['two_year_recid']]"
   ]
  },
  {
   "cell_type": "code",
   "execution_count": 28,
   "metadata": {},
   "outputs": [],
   "source": [
    "X_train_afram, X_test_afram, y_train_afram, y_test_afram = train_test_split(X_afram, y_afram, test_size=0.2)\n",
    "X_train_cau, X_test_cau, y_train_cau, y_test_cau = train_test_split(X_cau, y_cau, test_size=0.2)"
   ]
  },
  {
   "cell_type": "markdown",
   "metadata": {},
   "source": [
    "## Use tensor flow the modify the dataset"
   ]
  },
  {
   "cell_type": "code",
   "execution_count": 29,
   "metadata": {},
   "outputs": [],
   "source": [
    "def tensorX(X):\n",
    "    return t.tensor(np.array(X)).to(t.float32)\n",
    "\n",
    "def tensorY(X,Y):\n",
    "    return t.from_numpy(np.array(Y).astype('float32')).reshape(X.shape[0], 1)"
   ]
  },
  {
   "cell_type": "code",
   "execution_count": 30,
   "metadata": {},
   "outputs": [],
   "source": [
    "X_train_afram = tensorX(X_train_afram)\n",
    "X_test_afram = tensorX(X_test_afram)\n",
    "X_train_cau = tensorX(X_train_cau)\n",
    "X_test_cau = tensorX(X_test_cau)\n",
    "\n",
    "y_train_afram = tensorY(X_train_afram,y_train_afram)\n",
    "y_test_afram = tensorY(X_test_afram,y_test_afram)\n",
    "y_train_cau = tensorY(X_train_cau,y_train_cau)\n",
    "y_test_cau = tensorY(X_test_cau,y_test_cau)"
   ]
  },
  {
   "cell_type": "markdown",
   "metadata": {},
   "source": [
    "## Algorithm: Prejudice Remover Regularizer Loss Function"
   ]
  },
  {
   "cell_type": "code",
   "execution_count": 69,
   "metadata": {},
   "outputs": [],
   "source": [
    "#update LogisticRegression function\n",
    "class LogisticRegression(nn.Module):\n",
    "    def __init__(self,data):\n",
    "        super(LogisticRegression, self).__init__()\n",
    "        self.w = nn.Linear(data.shape[1], out_features=1, bias=True)\n",
    "        self.sigmod = nn.Sigmoid()\n",
    "    def forward(self, x):\n",
    "        w = self.w(x)\n",
    "        output = self.sigmod(w)\n",
    "        return output"
   ]
  },
  {
   "cell_type": "code",
   "execution_count": 70,
   "metadata": {},
   "outputs": [],
   "source": [
    "#Define the Prejudice Remover Regularizer Loss Function\n",
    "class PRLoss():\n",
    "    def __init__(self, eta=1.0):\n",
    "        super(PRLoss, self).__init__()\n",
    "        self.eta = eta       \n",
    "        \n",
    "    def PI(self,output_afram,output_cau):\n",
    "        N_afram = t.tensor(output_afram.shape[0])\n",
    "        N_cau   = t.tensor(output_cau.shape[0])\n",
    "        # calculate P[y|s]\n",
    "        P_ys = t.stack((t.sum(output_afram),t.sum(output_cau)),axis=0) / t.stack((N_afram,N_cau),axis=0)\n",
    "        # calculate P[y]\n",
    "        P_y = t.sum(t.cat((output_afram,output_cau),0)) / (X_train_afram.shape[0]+X_train_cau.shape[0])\n",
    "        # calculate PI\n",
    "        PI_s1y1 = output_afram * (t.log(P_ys[1]) - t.log(P_y))\n",
    "        PI_s1y0 =(1- output_afram) *(t.log(1-P_ys[1]) - t.log(1-P_y))\n",
    "        PI_s0y1 = output_cau * (t.log(P_ys[0]) - t.log(P_y))\n",
    "        PI_s0y0 = (1- output_cau)* (t.log(1-P_ys[0]) - t.log(1-P_y))\n",
    "        PI = t.sum(PI_s1y1) + t.sum(PI_s1y0) + t.sum(PI_s0y1) + t.sum(PI_s0y0)\n",
    "        PI = self.eta * PI\n",
    "        return PI"
   ]
  },
  {
   "cell_type": "markdown",
   "metadata": {},
   "source": [
    "## Algorithm:Logistical regression with Prejudice Remover Regularizer"
   ]
  },
  {
   "cell_type": "code",
   "execution_count": 76,
   "metadata": {},
   "outputs": [],
   "source": [
    "#This function has a hyperparameter eta which is the size of the regulating term in the loss function.\n",
    "#The fit method will give us the accuracy and caliberation of the fitted model\n",
    "class LogisticRegressionWithPRR():\n",
    "  \n",
    "    def __init__(self, eta=0.0, epochs=100, lr = 0.01):\n",
    "        super(LogisticRegressionWithPRR, self).__init__()\n",
    "        self.eta = eta\n",
    "        self.epochs = epochs\n",
    "        self.lr = lr\n",
    "        \n",
    "    def fit(self,X_train_afram,y_train_afram,X_train_cau,y_train_cau,X_test_afram, y_test_afram, X_test_cau, y_test_cau): \n",
    "        #LogisticRegression model\n",
    "        model_afram = LogisticRegression(X_train_afram)\n",
    "        model_cau = LogisticRegression(X_train_cau)\n",
    "        \n",
    "        criterion = nn.BCELoss()\n",
    "        PI = PRLoss(eta=self.eta)\n",
    "        epochs = self.epochs\n",
    "        \n",
    "        #L2 regularization (non-zero weight_decay)\n",
    "        optimizer = t.optim.Adam(list(model_afram.parameters())+ list(model_cau.parameters()), self.lr, weight_decay=1e-5)\n",
    "        \n",
    "        for epoch in range(epochs):\n",
    "            #train\n",
    "            model_afram.train()\n",
    "            model_cau.train()\n",
    "            \n",
    "            #zero out the gradients\n",
    "            optimizer.zero_grad()\n",
    "            \n",
    "            #compute loss\n",
    "            output_afram = model_afram(X_train_afram)\n",
    "            output_cau = model_cau(X_train_cau)\n",
    "            log_loss = criterion(output_afram, y_train_afram)+ criterion(output_cau, y_train_cau)\n",
    "            PI_loss = PI.PI(output_afram,output_cau)\n",
    "            loss = PI_loss +log_loss\n",
    "            \n",
    "            loss.backward()\n",
    "            optimizer.step()  \n",
    "        #eval\n",
    "        model_afram.eval()\n",
    "        model_cau.eval()\n",
    "        \n",
    "        #calculate accuracy\n",
    "        #Accuracy is the average of correctly predicted labels of two groups\n",
    "        #Caliberation is the difference of accuracy bewtween the two groups\n",
    "        y_pred_afram = (model_afram(X_test_afram) >= 0.5)\n",
    "        y_pred_cau = (model_cau(X_test_cau) >= 0.5)\n",
    "\n",
    "        #sum of correct prediction/total num\n",
    "        accuracy_afram  = t.sum(y_pred_afram == y_test_afram) / y_test_afram.shape[0]\n",
    "        accuracy_cau  = t.sum(y_pred_cau == y_test_cau) / y_test_cau.shape[0]\n",
    "\n",
    "        accuracy = (accuracy_afram + accuracy_cau) / 2\n",
    "        calibration = t.abs(accuracy_afram - accuracy_cau)\n",
    "        \n",
    "        return accuracy.item(), calibration.item(), accuracy_afram.item() , accuracy_cau.item()"
   ]
  },
  {
   "cell_type": "code",
   "execution_count": 77,
   "metadata": {},
   "outputs": [
    {
     "data": {
      "text/plain": [
       "(0.5548810958862305,\n",
       " 0.16111359000205994,\n",
       " 0.4743243157863617,\n",
       " 0.6354379057884216)"
      ]
     },
     "execution_count": 77,
     "metadata": {},
     "output_type": "execute_result"
    }
   ],
   "source": [
    "PR = LogisticRegressionWithPRR(eta = eta[i], epochs = 100, lr = 1e-04)\n",
    "PR.fit(X_train_afram,y_train_afram,X_train_cau,y_train_cau, X_test_afram, y_test_afram, X_test_cau, y_test_cau)"
   ]
  },
  {
   "cell_type": "markdown",
   "metadata": {},
   "source": [
    "## Tuning Hyperparameter eta"
   ]
  },
  {
   "cell_type": "code",
   "execution_count": 79,
   "metadata": {},
   "outputs": [],
   "source": [
    "#Tuning the hyperparameter to find the best model\n",
    "eta=np.linspace(0, 100, num=1000)\n",
    "hist_acc=np.zeros(1000)\n",
    "hist_cal=np.zeros(1000)\n",
    "hist_afram = np.zeros(1000)\n",
    "hist_cau = np.zeros(1000)\n",
    "for i in range(1000):\n",
    "    PR = LogisticRegressionWithPRR(eta = eta[i], epochs = 100, lr = 1e-04)\n",
    "    results = PR.fit(X_train_afram,y_train_afram,X_train_cau,y_train_cau, X_test_afram, y_test_afram, X_test_cau, y_test_cau)\n",
    "    hist_acc[i]=results[0]\n",
    "    hist_cal[i]=results[1]\n",
    "    hist_afram[i]=results[2]\n",
    "    hist_cau[i]=results[3]"
   ]
  },
  {
   "cell_type": "code",
   "execution_count": 88,
   "metadata": {},
   "outputs": [
    {
     "name": "stdout",
     "output_type": "stream",
     "text": [
      "Accuracy:\n"
     ]
    },
    {
     "data": {
      "text/plain": [
       "0.6430423259735107"
      ]
     },
     "execution_count": 88,
     "metadata": {},
     "output_type": "execute_result"
    }
   ],
   "source": [
    "clf_accuracy = np.max(hist_acc)\n",
    "print(\"Accuracy:\")\n",
    "np.max(hist_acc)"
   ]
  },
  {
   "cell_type": "code",
   "execution_count": 89,
   "metadata": {
    "scrolled": true
   },
   "outputs": [
    {
     "name": "stdout",
     "output_type": "stream",
     "text": [
      "Calibration Score:\n"
     ]
    },
    {
     "data": {
      "text/plain": [
       "0.027428865432739258"
      ]
     },
     "execution_count": 89,
     "metadata": {},
     "output_type": "execute_result"
    }
   ],
   "source": [
    "A5_cal_score = np.min(hist_cal)\n",
    "print(\"Calibration Score:\")\n",
    "hist_cal[np.argmax(hist_acc)] #calibration decreases"
   ]
  },
  {
   "cell_type": "code",
   "execution_count": 90,
   "metadata": {},
   "outputs": [
    {
     "name": "stdout",
     "output_type": "stream",
     "text": [
      "Accuracy:\n"
     ]
    },
    {
     "data": {
      "text/plain": [
       "0.36776846647262573"
      ]
     },
     "execution_count": 90,
     "metadata": {},
     "output_type": "execute_result"
    }
   ],
   "source": [
    "#clf_accuracy = hist_acc[np.argmin(hist_cal)]\n",
    "print(\"Accuracy:\")\n",
    "hist_acc[np.argmin(hist_cal)]"
   ]
  },
  {
   "cell_type": "code",
   "execution_count": 91,
   "metadata": {
    "scrolled": true
   },
   "outputs": [
    {
     "name": "stdout",
     "output_type": "stream",
     "text": [
      "Calibration Score:\n"
     ]
    },
    {
     "data": {
      "text/plain": [
       "0.005807250738143921"
      ]
     },
     "execution_count": 91,
     "metadata": {},
     "output_type": "execute_result"
    }
   ],
   "source": [
    "#A5_cal_score = np.min(hist_cal)\n",
    "print(\"Calibration Score:\")\n",
    "np.min(hist_cal) #minimum calibration"
   ]
  },
  {
   "cell_type": "code",
   "execution_count": 92,
   "metadata": {},
   "outputs": [],
   "source": [
    "accuracy_AA = hist_afram[np.argmax(hist_acc)]\n",
    "accuracy_CC = hist_cau[np.argmax(hist_acc)]"
   ]
  },
  {
   "cell_type": "markdown",
   "metadata": {
    "id": "npGSh6Rc4XEm"
   },
   "source": [
    "# A6"
   ]
  },
  {
   "cell_type": "markdown",
   "metadata": {
    "id": "ZCvk4rRGwmW9"
   },
   "source": [
    "## Determine e"
   ]
  },
  {
   "cell_type": "code",
   "execution_count": 43,
   "metadata": {
    "colab": {
     "base_uri": "https://localhost:8080/"
    },
    "id": "jsb2K-Etwo19",
    "outputId": "eec4dbae-d6df-4b8a-ea14-7835e87cbea3"
   },
   "outputs": [
    {
     "name": "stdout",
     "output_type": "stream",
     "text": [
      "0.502822732404968\n",
      "0.24553314121037464\n",
      "D_all: 0.2572895911945934\n"
     ]
    }
   ],
   "source": [
    "print(np.sum(clf.predict(X_train_b)==1)/len(X_train_b))\n",
    "print(np.sum(clf.predict(X_train_w)==1)/len(X_train_w))\n",
    "D_all=np.sum(clf.predict(X_train_b)==1)/len(X_train_b)-np.sum(clf.predict(X_train_w)==1)/len(X_train_w)\n",
    "print(\"D_all:\", D_all)"
   ]
  },
  {
   "cell_type": "code",
   "execution_count": 44,
   "metadata": {
    "id": "rSwxZCINHI1W"
   },
   "outputs": [],
   "source": [
    "def D_bad_function(x):\n",
    "    \n",
    "    # Making male and female subsets of black people:\n",
    "    B_dataset = X_train_b.groupby(x)\n",
    "    W_dataset = X_train_w.groupby(x)\n",
    "\n",
    "    # Total unique values in \"sex\" column\n",
    "    n = np.sum(B_dataset[x].nunique())\n",
    "    \n",
    "    e = []\n",
    "    for i in range(n):\n",
    "        e.append((np.sum(clf.predict(B_dataset.get_group(i))==1)/len(B_dataset.get_group(i))+np.sum(clf.predict(W_dataset.get_group(i))==1)/len(W_dataset.get_group(i)))/n)\n",
    "\n",
    "    d = []\n",
    "    for i in range(n):\n",
    "        d.append((len(B_dataset.get_group(i))/len(X_train_b)-len(W_dataset.get_group(i))/len(X_train_w))*e[i])\n",
    "    \n",
    "    D_exp = np.sum(d)\n",
    "    \n",
    "    return(D_all-D_exp)"
   ]
  },
  {
   "cell_type": "code",
   "execution_count": 45,
   "metadata": {
    "id": "mv4HYCFjHWhM"
   },
   "outputs": [],
   "source": [
    "D_bad_all=[D_bad_function(\"sex\"),D_bad_function(\"priors_count\"),D_bad_function(\"juv_count\"),\n",
    "           D_bad_function(\"c_charge_degree\"),D_bad_function(\"score_text\")]"
   ]
  },
  {
   "cell_type": "code",
   "execution_count": 46,
   "metadata": {
    "colab": {
     "base_uri": "https://localhost:8080/",
     "height": 672
    },
    "id": "AWOlnqBNIVCB",
    "outputId": "df974dc2-639c-48cb-8cb8-5a99987bd0b3"
   },
   "outputs": [
    {
     "data": {
      "text/plain": [
       "([<matplotlib.axis.XTick at 0x1b8b0d4c708>,\n",
       "  <matplotlib.axis.XTick at 0x1b8b11c5688>,\n",
       "  <matplotlib.axis.XTick at 0x1b8b11c5208>,\n",
       "  <matplotlib.axis.XTick at 0x1b8b124a688>,\n",
       "  <matplotlib.axis.XTick at 0x1b8b124d148>],\n",
       " <a list of 5 Text xticklabel objects>)"
      ]
     },
     "execution_count": 46,
     "metadata": {},
     "output_type": "execute_result"
    },
    {
     "data": {
      "image/png": "[encoded data removed]",
      "text/plain": [
       "<Figure size 640x480 with 1 Axes>"
      ]
     },
     "metadata": {},
     "output_type": "display_data"
    }
   ],
   "source": [
    "import matplotlib.pyplot as plt\n",
    "plt.plot(D_bad_all)\n",
    "plt.axhline(y = D_all, color = 'r', linestyle = '--')\n",
    "plt.ylabel(\"discrimination\")\n",
    "plt.ylim([0,0.3])\n",
    "plt.legend([\"D_bad\",\"D_all\"])\n",
    "plt.xticks([0.0,1.0,2.0,3.0,4.0],[\"sex\",\"priors_count\",\"juv_count\",\"c_charge_degree\",\"score_text\"],rotation=30)"
   ]
  },
  {
   "cell_type": "markdown",
   "metadata": {
    "id": "L5D4LqW390kY"
   },
   "source": [
    "## Algorithm: Local massaging"
   ]
  },
  {
   "cell_type": "code",
   "execution_count": 47,
   "metadata": {
    "colab": {
     "base_uri": "https://localhost:8080/"
    },
    "id": "_iUloSfy92jD",
    "outputId": "55825e9f-67fd-4ed3-86ac-2f7c45950e8a"
   },
   "outputs": [
    {
     "name": "stdout",
     "output_type": "stream",
     "text": [
      "(2231, 7) (1233, 7) (928, 7)\n"
     ]
    }
   ],
   "source": [
    "#split X_train into different sex, 0:low, 1:medium, 2:high\n",
    "index_0= (X_train[\"score_text\"]==0)\n",
    "X_train_0=X_train[index_0]\n",
    "y_train_0=y_train[index_0]\n",
    "index_1= (X_train[\"score_text\"]==1)\n",
    "X_train_1=X_train[index_1]\n",
    "y_train_1=y_train[index_1]\n",
    "index_2= (X_train[\"score_text\"]==2)\n",
    "X_train_2=X_train[index_2]\n",
    "y_train_2=y_train[index_2]\n",
    "print(X_train_0.shape,X_train_1.shape,X_train_2.shape)"
   ]
  },
  {
   "cell_type": "code",
   "execution_count": 48,
   "metadata": {
    "id": "uak2iAZeCUJB"
   },
   "outputs": [],
   "source": [
    "from sklearn.linear_model import LogisticRegression\n",
    "clf_0 = LogisticRegression(random_state=0).fit(X_train_0, y_train_0)\n",
    "clf_1 = LogisticRegression(random_state=0).fit(X_train_1, y_train_1)\n",
    "clf_2 = LogisticRegression(random_state=0).fit(X_train_2, y_train_2)"
   ]
  },
  {
   "cell_type": "code",
   "execution_count": 49,
   "metadata": {
    "colab": {
     "base_uri": "https://localhost:8080/"
    },
    "id": "9wdKPzdM-PWo",
    "outputId": "bce8f72a-8a77-4ad1-e180-46d687d52b27"
   },
   "outputs": [
    {
     "name": "stderr",
     "output_type": "stream",
     "text": [
      "C:\\Users\\zhang\\Anaconda3\\lib\\site-packages\\ipykernel_launcher.py:2: SettingWithCopyWarning: \n",
      "A value is trying to be set on a copy of a slice from a DataFrame.\n",
      "Try using .loc[row_indexer,col_indexer] = value instead\n",
      "\n",
      "See the caveats in the documentation: https://pandas.pydata.org/pandas-docs/stable/user_guide/indexing.html#returning-a-view-versus-a-copy\n",
      "  \n",
      "C:\\Users\\zhang\\Anaconda3\\lib\\site-packages\\ipykernel_launcher.py:3: SettingWithCopyWarning: \n",
      "A value is trying to be set on a copy of a slice from a DataFrame.\n",
      "Try using .loc[row_indexer,col_indexer] = value instead\n",
      "\n",
      "See the caveats in the documentation: https://pandas.pydata.org/pandas-docs/stable/user_guide/indexing.html#returning-a-view-versus-a-copy\n",
      "  This is separate from the ipykernel package so we can avoid doing imports until\n",
      "C:\\Users\\zhang\\Anaconda3\\lib\\site-packages\\ipykernel_launcher.py:4: SettingWithCopyWarning: \n",
      "A value is trying to be set on a copy of a slice from a DataFrame.\n",
      "Try using .loc[row_indexer,col_indexer] = value instead\n",
      "\n",
      "See the caveats in the documentation: https://pandas.pydata.org/pandas-docs/stable/user_guide/indexing.html#returning-a-view-versus-a-copy\n",
      "  after removing the cwd from sys.path.\n"
     ]
    }
   ],
   "source": [
    "#get probability for logistic regression\n",
    "X_train_0[\"prob_0\"],X_train_0[\"prob_1\"]=clf_0.predict_proba(X_train_0)[:,0],clf_0.predict_proba(X_train_0)[:,1]\n",
    "X_train_1[\"prob_0\"],X_train_1[\"prob_1\"]=clf_1.predict_proba(X_train_1)[:,0],clf_1.predict_proba(X_train_1)[:,1]\n",
    "X_train_2[\"prob_0\"],X_train_2[\"prob_1\"]=clf_2.predict_proba(X_train_2)[:,0],clf_2.predict_proba(X_train_2)[:,1]"
   ]
  },
  {
   "cell_type": "code",
   "execution_count": 50,
   "metadata": {
    "colab": {
     "base_uri": "https://localhost:8080/"
    },
    "id": "7UOqPdAZC3Kv",
    "outputId": "cb8563bd-0bc6-490c-b0c8-c348a352635b"
   },
   "outputs": [
    {
     "name": "stdout",
     "output_type": "stream",
     "text": [
      "(2657, 7) (1735, 7)\n"
     ]
    }
   ],
   "source": [
    "index_b= (X_train[\"race\"]==0)\n",
    "X_train_b=X_train[index_b]\n",
    "y_train_b=y_train[index_b]\n",
    "X_train_w=X_train[-index_b]\n",
    "y_train_w=y_train[-index_b]\n",
    "print(X_train_b.shape,X_train_w.shape)"
   ]
  },
  {
   "cell_type": "code",
   "execution_count": 51,
   "metadata": {
    "colab": {
     "base_uri": "https://localhost:8080/"
    },
    "id": "QUfG1gGxDM0_",
    "outputId": "64cff455-66f1-42b1-8667-e3e5b0c938f5"
   },
   "outputs": [
    {
     "name": "stdout",
     "output_type": "stream",
     "text": [
      "(1071, 7) (842, 7) (744, 7) (1160, 7) (391, 7) (184, 7)\n"
     ]
    }
   ],
   "source": [
    "index_b_0= (X_train_b[\"score_text\"]==0)\n",
    "X_train_b_0=X_train_b[index_b_0]\n",
    "y_train_b_0=y_train_b[index_b_0]\n",
    "index_b_1= (X_train_b[\"score_text\"]==1)\n",
    "X_train_b_1=X_train_b[index_b_1]\n",
    "y_train_b_1=y_train_b[index_b_1]\n",
    "index_b_2= (X_train_b[\"score_text\"]==2)\n",
    "X_train_b_2=X_train_b[index_b_2]\n",
    "y_train_b_2=y_train_b[index_b_2]\n",
    "\n",
    "index_w_0= (X_train_w[\"score_text\"]==0)\n",
    "X_train_w_0=X_train_w[index_w_0]\n",
    "y_train_w_0=y_train_w[index_w_0]\n",
    "index_w_1= (X_train_w[\"score_text\"]==1)\n",
    "X_train_w_1=X_train_w[index_w_1]\n",
    "y_train_w_1=y_train_w[index_w_1]\n",
    "index_w_2= (X_train_w[\"score_text\"]==2)\n",
    "X_train_w_2=X_train_w[index_w_2]\n",
    "y_train_w_2=y_train_w[index_w_2]\n",
    "\n",
    "print(X_train_b_0.shape,X_train_b_1.shape,X_train_b_2.shape,X_train_w_0.shape,X_train_w_1.shape,X_train_w_2.shape)"
   ]
  },
  {
   "cell_type": "code",
   "execution_count": 52,
   "metadata": {
    "id": "syCgHsfxDnop"
   },
   "outputs": [],
   "source": [
    "#e_0\n",
    "p_plus_e_0=(np.sum(clf_0.predict(X_train_b_0)==1)/len(X_train_b_0)+np.sum(clf_0.predict(X_train_w_0)==1)/len(X_train_w_0))/2\n",
    "#e_1\n",
    "p_plus_e_1=(np.sum(clf_1.predict(X_train_b_1)==1)/len(X_train_b_1)+np.sum(clf_1.predict(X_train_w_1)==1)/len(X_train_w_1))/2\n",
    "#e_2\n",
    "p_plus_e_2=(np.sum(clf_2.predict(X_train_b_2)==1)/len(X_train_b_2)+np.sum(clf_2.predict(X_train_w_2)==1)/len(X_train_w_2))/2"
   ]
  },
  {
   "cell_type": "code",
   "execution_count": 53,
   "metadata": {
    "colab": {
     "base_uri": "https://localhost:8080/"
    },
    "id": "R8vIDZH0CmJj",
    "outputId": "3dfe94d9-c522-4d07-8299-2da39f759a9d"
   },
   "outputs": [
    {
     "name": "stdout",
     "output_type": "stream",
     "text": [
      "13 14 7 3 0 0\n"
     ]
    }
   ],
   "source": [
    "\n",
    "delta_b_0=abs(int(len(X_train_b_0)*(np.sum(clf_0.predict(X_train_b_0)==1)/len(X_train_b_0)-p_plus_e_0)))\n",
    "delta_w_0=abs(int(len(X_train_w_0)*(np.sum(clf_0.predict(X_train_w_0)==1)/len(X_train_w_0)-p_plus_e_0)))\n",
    "\n",
    "delta_b_1=abs(int(len(X_train_b_1)*(np.sum(clf_1.predict(X_train_b_1)==1)/len(X_train_b_1)-p_plus_e_1)))\n",
    "delta_w_1=abs(int(len(X_train_w_1)*(np.sum(clf_1.predict(X_train_w_1)==1)/len(X_train_w_1)-p_plus_e_1)))\n",
    "\n",
    "delta_b_2=abs(int(len(X_train_b_2)*(np.sum(clf_2.predict(X_train_b_2)==1)/len(X_train_b_2)-p_plus_e_2)))\n",
    "delta_w_2=abs(int(len(X_train_w_2)*(np.sum(clf_2.predict(X_train_w_2)==1)/len(X_train_w_2)-p_plus_e_2)))\n",
    "print(delta_b_0,delta_w_0,delta_b_1,delta_w_1,delta_b_2,delta_w_2)"
   ]
  },
  {
   "cell_type": "code",
   "execution_count": 54,
   "metadata": {
    "id": "gLVnUiyX6FlV"
   },
   "outputs": [],
   "source": [
    "index_p_to_n_0=X_train_0[(X_train_0[\"prob_1\"]>=0.5)&(X_train_0[\"race\"]==0)][\"prob_1\"].sort_values()[:delta_b_0]\n",
    "index_n_to_p_0=X_train_0[(X_train_0[\"prob_1\"]<0.5)&(X_train_0[\"race\"]==1)][\"prob_1\"].sort_values(ascending=False)[:delta_w_0]\n",
    "\n",
    "index_p_to_n_1=X_train_1[(X_train_1[\"prob_1\"]>=0.5)&(X_train_1[\"race\"]==0)][\"prob_1\"].sort_values()[:delta_b_1]\n",
    "index_n_to_p_1=X_train_1[(X_train_1[\"prob_1\"]<0.5)&(X_train_1[\"race\"]==1)][\"prob_1\"].sort_values(ascending=False)[:delta_w_1]\n",
    "\n",
    "index_p_to_n_2=X_train_2[(X_train_2[\"prob_1\"]>=0.5)&(X_train_2[\"race\"]==0)][\"prob_1\"].sort_values()[:delta_b_2]\n",
    "index_n_to_p_2=X_train_2[(X_train_2[\"prob_1\"]<0.5)&(X_train_2[\"race\"]==1)][\"prob_1\"].sort_values(ascending=False)[:delta_w_2]"
   ]
  },
  {
   "cell_type": "code",
   "execution_count": 55,
   "metadata": {
    "id": "zg4Ypy-sEfXw"
   },
   "outputs": [],
   "source": [
    "y_train_new=y_train.copy()\n",
    "y_train_new[y_train_new.index.isin(index_p_to_n_0.index)]=0\n",
    "y_train_new[y_train_new.index.isin(index_n_to_p_0.index)]=1\n",
    "y_train_new[y_train_new.index.isin(index_p_to_n_1.index)]=0\n",
    "y_train_new[y_train_new.index.isin(index_n_to_p_1.index)]=1\n",
    "y_train_new[y_train_new.index.isin(index_p_to_n_2.index)]=0\n",
    "y_train_new[y_train_new.index.isin(index_n_to_p_2.index)]=1"
   ]
  },
  {
   "cell_type": "code",
   "execution_count": 56,
   "metadata": {
    "colab": {
     "base_uri": "https://localhost:8080/"
    },
    "id": "bD8pi4ANJl3s",
    "outputId": "10a60eef-0f35-42d0-b025-8decab3bb737"
   },
   "outputs": [
    {
     "data": {
      "text/plain": [
       "0.6791808873720137"
      ]
     },
     "execution_count": 56,
     "metadata": {},
     "output_type": "execute_result"
    }
   ],
   "source": [
    "from sklearn.linear_model import LogisticRegression\n",
    "clf_new = LogisticRegression(random_state=0).fit(X_train, y_train_new)\n",
    "clf_new.score(X_test,y_test)"
   ]
  },
  {
   "cell_type": "code",
   "execution_count": 57,
   "metadata": {
    "colab": {
     "base_uri": "https://localhost:8080/"
    },
    "id": "rWMYRKbIKp-O",
    "outputId": "7b884dc8-3d83-4fd8-b5e7-909d7500a585"
   },
   "outputs": [
    {
     "name": "stdout",
     "output_type": "stream",
     "text": [
      "calibration score:  0.04016872783050529\n"
     ]
    }
   ],
   "source": [
    "print(\"calibration score: \",abs(clf_new.score(X_test_b,y_test_b)-clf_new.score(X_test_w,y_test_w)))"
   ]
  },
  {
   "cell_type": "markdown",
   "metadata": {
    "id": "fRiYXp5_LXDb"
   },
   "source": [
    "## Algorithm: Local preferential sampling"
   ]
  },
  {
   "cell_type": "code",
   "execution_count": 58,
   "metadata": {
    "id": "UZuSGUy3LaZm"
   },
   "outputs": [],
   "source": [
    "index_p_to_n_0_u=X_train_0[(X_train_0[\"prob_1\"]>=0.5)&(X_train_0[\"race\"]==0)][\"prob_1\"].sort_values()[:int(delta_b_0/2)]\n",
    "index_p_to_n_0_d=X_train_0[(X_train_0[\"prob_1\"]<0.5)&(X_train_0[\"race\"]==0)][\"prob_1\"].sort_values(ascending=False)[:int(delta_b_0/2)]\n",
    "\n",
    "index_n_to_p_0_d=X_train_0[(X_train_0[\"prob_1\"]<0.5)&(X_train_0[\"race\"]==1)][\"prob_1\"].sort_values(ascending=False)[:int(delta_w_0/2)]\n",
    "index_n_to_p_0_u=X_train_0[(X_train_0[\"prob_1\"]>=0.5)&(X_train_0[\"race\"]==1)][\"prob_1\"].sort_values()[:int(delta_w_0/2)]\n",
    "\n",
    "index_p_to_n_1_u=X_train_1[(X_train_1[\"prob_1\"]>=0.5)&(X_train_1[\"race\"]==0)][\"prob_1\"].sort_values()[:int(delta_b_1/2)]\n",
    "index_p_to_n_1_d=X_train_1[(X_train_1[\"prob_1\"]<0.5)&(X_train_1[\"race\"]==0)][\"prob_1\"].sort_values(ascending=False)[:int(delta_b_1/2)]\n",
    "\n",
    "index_n_to_p_1_d=X_train_1[(X_train_1[\"prob_1\"]<0.5)&(X_train_1[\"race\"]==1)][\"prob_1\"].sort_values(ascending=False)[:int(delta_w_1/2)]\n",
    "index_n_to_p_1_u=X_train_1[(X_train_1[\"prob_1\"]>=0.5)&(X_train_1[\"race\"]==1)][\"prob_1\"].sort_values()[:int(delta_w_1/2)]\n",
    "\n",
    "index_p_to_n_2_u=X_train_2[(X_train_2[\"prob_1\"]>=0.5)&(X_train_2[\"race\"]==0)][\"prob_1\"].sort_values()[:int(delta_b_2/2)]\n",
    "index_p_to_n_2_d=X_train_2[(X_train_2[\"prob_1\"]<0.5)&(X_train_2[\"race\"]==0)][\"prob_1\"].sort_values(ascending=False)[:int(delta_b_2/2)]\n",
    "\n",
    "index_n_to_p_2_d=X_train_2[(X_train_2[\"prob_1\"]<0.5)&(X_train_2[\"race\"]==1)][\"prob_1\"].sort_values(ascending=False)[:int(delta_w_2/2)]\n",
    "index_n_to_p_2_u=X_train_2[(X_train_2[\"prob_1\"]>=0.5)&(X_train_2[\"race\"]==1)][\"prob_1\"].sort_values()[:int(delta_w_2/2)]"
   ]
  },
  {
   "cell_type": "code",
   "execution_count": 59,
   "metadata": {
    "id": "VZ9v6jpYM_QT"
   },
   "outputs": [],
   "source": [
    "X_train_new1=X_train.copy()\n",
    "y_train_new1=y_train.copy()\n",
    "df_new=pd.concat([X_train_new1,y_train_new1],axis=1)\n",
    "df_new.drop(index_p_to_n_0_d.index,inplace=True)\n",
    "df_new.drop(index_n_to_p_0_u.index,inplace=True)\n",
    "df_new.drop(index_p_to_n_1_d.index,inplace=True)\n",
    "df_new.drop(index_n_to_p_1_u.index,inplace=True)\n",
    "df_new.drop(index_p_to_n_2_d.index,inplace=True)\n",
    "df_new.drop(index_n_to_p_2_u.index,inplace=True)"
   ]
  },
  {
   "cell_type": "code",
   "execution_count": 60,
   "metadata": {
    "colab": {
     "base_uri": "https://localhost:8080/"
    },
    "id": "We5aSq_SP-xU",
    "outputId": "9afbef3d-1b38-490a-c396-d37b2cc4eddb"
   },
   "outputs": [],
   "source": [
    "df_dup_1=df_new[df_new.index.isin(index_p_to_n_0_u.index)]\n",
    "df_dup_2=df_new[df_new.index.isin(index_n_to_p_0_d.index)]\n",
    "df_dup_3=df_new[df_new.index.isin(index_p_to_n_1_u.index)]\n",
    "df_dup_4=df_new[df_new.index.isin(index_n_to_p_1_d.index)]\n",
    "df_dup_5=df_new[df_new.index.isin(index_p_to_n_2_u.index)]\n",
    "df_dup_6=df_new[df_new.index.isin(index_n_to_p_2_d.index)]\n",
    "df_new_all=df_new.append([df_dup_1,df_dup_2,df_dup_3,df_dup_4,df_dup_4,df_dup_4])"
   ]
  },
  {
   "cell_type": "code",
   "execution_count": 61,
   "metadata": {
    "colab": {
     "base_uri": "https://localhost:8080/"
    },
    "id": "wv_YIG3MOFtr",
    "outputId": "686d2706-5a52-4a7c-d9f1-0a67fa68acc9"
   },
   "outputs": [
    {
     "name": "stdout",
     "output_type": "stream",
     "text": [
      "(4375, 8) (4392, 7) (4394, 8)\n"
     ]
    }
   ],
   "source": [
    "print(df_new.shape,X_train_new1.shape,df_new_all.shape)"
   ]
  },
  {
   "cell_type": "code",
   "execution_count": 62,
   "metadata": {
    "colab": {
     "base_uri": "https://localhost:8080/"
    },
    "id": "jgzoYgAkQux_",
    "outputId": "e94c0e04-d424-422f-981b-41f4b2af889d"
   },
   "outputs": [
    {
     "name": "stdout",
     "output_type": "stream",
     "text": [
      "0.6734926052332195\n",
      "calibration score:  0.04914837184034759\n"
     ]
    }
   ],
   "source": [
    "from sklearn.linear_model import LogisticRegression\n",
    "clf_new1 = LogisticRegression(random_state=0).fit(df_new_all.drop(\"two_year_recid\",axis=1), df_new_all[\"two_year_recid\"])\n",
    "print(clf_new1.score(X_test,y_test))\n",
    "print(\"calibration score: \",abs(clf_new1.score(X_test_b,y_test_b)-clf_new1.score(X_test_w,y_test_w)))"
   ]
  },
  {
   "cell_type": "markdown",
   "metadata": {
    "id": "O5LUwohfGXdw"
   },
   "source": [
    "# Comparision plots:"
   ]
  },
  {
   "cell_type": "markdown",
   "metadata": {
    "id": "nlHCYOAGGbgg"
   },
   "source": [
    "## Accuracy plot:"
   ]
  },
  {
   "cell_type": "code",
   "execution_count": 93,
   "metadata": {
    "colab": {
     "base_uri": "https://localhost:8080/",
     "height": 276
    },
    "id": "-P2VMvoxGgOi",
    "outputId": "b4acfe5a-e6be-4f84-e183-b32473ed764e"
   },
   "outputs": [
    {
     "ename": "AttributeError",
     "evalue": "'AxesSubplot' object has no attribute 'bar_label'",
     "output_type": "error",
     "traceback": [
      "\u001b[1;31m---------------------------------------------------------------------------\u001b[0m",
      "\u001b[1;31mAttributeError\u001b[0m                            Traceback (most recent call last)",
      "\u001b[1;32m~\\AppData\\Local\\Temp\\ipykernel_22644\\456056294.py\u001b[0m in \u001b[0;36m<module>\u001b[1;34m\u001b[0m\n\u001b[0;32m     20\u001b[0m \u001b[0max\u001b[0m\u001b[1;33m.\u001b[0m\u001b[0mlegend\u001b[0m\u001b[1;33m(\u001b[0m\u001b[0mbbox_to_anchor\u001b[0m\u001b[1;33m=\u001b[0m\u001b[1;33m(\u001b[0m\u001b[1;36m1.05\u001b[0m\u001b[1;33m,\u001b[0m \u001b[1;36m1.0\u001b[0m\u001b[1;33m)\u001b[0m\u001b[1;33m,\u001b[0m \u001b[0mloc\u001b[0m\u001b[1;33m=\u001b[0m\u001b[1;34m'upper left'\u001b[0m\u001b[1;33m)\u001b[0m\u001b[1;33m\u001b[0m\u001b[1;33m\u001b[0m\u001b[0m\n\u001b[0;32m     21\u001b[0m \u001b[1;33m\u001b[0m\u001b[0m\n\u001b[1;32m---> 22\u001b[1;33m \u001b[0max\u001b[0m\u001b[1;33m.\u001b[0m\u001b[0mbar_label\u001b[0m\u001b[1;33m(\u001b[0m\u001b[0mrects0\u001b[0m\u001b[1;33m,\u001b[0m \u001b[0mpadding\u001b[0m\u001b[1;33m=\u001b[0m\u001b[1;36m3\u001b[0m\u001b[1;33m)\u001b[0m\u001b[1;33m\u001b[0m\u001b[1;33m\u001b[0m\u001b[0m\n\u001b[0m\u001b[0;32m     23\u001b[0m \u001b[0max\u001b[0m\u001b[1;33m.\u001b[0m\u001b[0mbar_label\u001b[0m\u001b[1;33m(\u001b[0m\u001b[0mrects1\u001b[0m\u001b[1;33m,\u001b[0m \u001b[0mpadding\u001b[0m\u001b[1;33m=\u001b[0m\u001b[1;36m3\u001b[0m\u001b[1;33m)\u001b[0m\u001b[1;33m\u001b[0m\u001b[1;33m\u001b[0m\u001b[0m\n\u001b[0;32m     24\u001b[0m \u001b[0max\u001b[0m\u001b[1;33m.\u001b[0m\u001b[0mbar_label\u001b[0m\u001b[1;33m(\u001b[0m\u001b[0mrects2\u001b[0m\u001b[1;33m,\u001b[0m \u001b[0mpadding\u001b[0m\u001b[1;33m=\u001b[0m\u001b[1;36m3\u001b[0m\u001b[1;33m)\u001b[0m\u001b[1;33m\u001b[0m\u001b[1;33m\u001b[0m\u001b[0m\n",
      "\u001b[1;31mAttributeError\u001b[0m: 'AxesSubplot' object has no attribute 'bar_label'"
     ]
    },
    {
     "data": {
      "image/png": "[encoded data removed]",
      "text/plain": [
       "<Figure size 1400x800 with 1 Axes>"
      ]
     },
     "metadata": {},
     "output_type": "display_data"
    }
   ],
   "source": [
    "labels = ['Baseline', 'A5', 'A6 LM', 'A6 LPS']   # Add other models here\n",
    "\n",
    "# Replace 0.555 with true scores:\n",
    "Accuracy_score             = np.round_([clf.score(X_test,y_test),clf_accuracy, clf_new.score(X_test,y_test),clf_new1.score(X_test,y_test)],3)\n",
    "Accuracy_African_American  = np.round_([clf.score(X_test_b,y_test_b),accuracy_AA,clf_new.score(X_test_b,y_test_b),clf_new1.score(X_test_b,y_test_b)],3)\n",
    "Accuracy_Caucassian        = np.round_([clf.score(X_test_w,y_test_w),accuracy_CC,clf_new.score(X_test_w,y_test_w),clf_new1.score(X_test_w,y_test_w)],3)\n",
    "\n",
    "x = np.arange(len(labels))  \n",
    "width = 0.25 \n",
    "\n",
    "fig, ax = plt.subplots(figsize=(14, 8))\n",
    "\n",
    "rects0 = ax.bar(x , Accuracy_score , width, label='Total Accuracy', color=\"gray\")\n",
    "rects1 = ax.bar(x - width, Accuracy_African_American, width, label='African_American', color = \"black\")\n",
    "rects2 = ax.bar(x + width, Accuracy_Caucassian, width, label='Caucassian', color = \"peachpuff\")\n",
    "\n",
    "ax.set_ylabel('Accuracy')\n",
    "ax.set_title('Accuracy Comparision')\n",
    "ax.set_xticks(x, labels)\n",
    "ax.legend(bbox_to_anchor=(1.05, 1.0), loc='upper left')\n",
    "\n",
    "ax.bar_label(rects0, padding=3)\n",
    "ax.bar_label(rects1, padding=3)\n",
    "ax.bar_label(rects2, padding=3)\n",
    "\n",
    "plt.show()"
   ]
  },
  {
   "cell_type": "markdown",
   "metadata": {
    "id": "3McibdwKLmBM"
   },
   "source": [
    "## Calibration plot:"
   ]
  },
  {
   "cell_type": "code",
   "execution_count": 94,
   "metadata": {
    "colab": {
     "base_uri": "https://localhost:8080/",
     "height": 797
    },
    "id": "J2nUCHB8Llcc",
    "outputId": "5a61f1ce-205e-4018-ee88-a0fdde2ccf22",
    "scrolled": true
   },
   "outputs": [
    {
     "ename": "AttributeError",
     "evalue": "'AxesSubplot' object has no attribute 'bar_label'",
     "output_type": "error",
     "traceback": [
      "\u001b[1;31m---------------------------------------------------------------------------\u001b[0m",
      "\u001b[1;31mAttributeError\u001b[0m                            Traceback (most recent call last)",
      "\u001b[1;32m~\\AppData\\Local\\Temp\\ipykernel_22644\\622131582.py\u001b[0m in \u001b[0;36m<module>\u001b[1;34m\u001b[0m\n\u001b[0;32m     13\u001b[0m \u001b[0mfig\u001b[0m \u001b[1;33m=\u001b[0m \u001b[0mscore_series\u001b[0m\u001b[1;33m.\u001b[0m\u001b[0mplot\u001b[0m\u001b[1;33m(\u001b[0m\u001b[0mkind\u001b[0m\u001b[1;33m=\u001b[0m\u001b[1;34m'bar'\u001b[0m\u001b[1;33m,\u001b[0m\u001b[0mcolor\u001b[0m\u001b[1;33m=\u001b[0m\u001b[1;34m\"gray\"\u001b[0m\u001b[1;33m)\u001b[0m\u001b[1;33m\u001b[0m\u001b[1;33m\u001b[0m\u001b[0m\n\u001b[0;32m     14\u001b[0m \u001b[0mfig\u001b[0m\u001b[1;33m.\u001b[0m\u001b[0mset_xticklabels\u001b[0m\u001b[1;33m(\u001b[0m\u001b[0mx_labels\u001b[0m\u001b[1;33m,\u001b[0m \u001b[0mrotation\u001b[0m\u001b[1;33m=\u001b[0m\u001b[1;36m0\u001b[0m\u001b[1;33m)\u001b[0m\u001b[1;33m\u001b[0m\u001b[1;33m\u001b[0m\u001b[0m\n\u001b[1;32m---> 15\u001b[1;33m \u001b[0mfig\u001b[0m\u001b[1;33m.\u001b[0m\u001b[0mbar_label\u001b[0m\u001b[1;33m(\u001b[0m\u001b[0mfig\u001b[0m\u001b[1;33m.\u001b[0m\u001b[0mcontainers\u001b[0m\u001b[1;33m[\u001b[0m\u001b[1;36m0\u001b[0m\u001b[1;33m]\u001b[0m\u001b[1;33m,\u001b[0m \u001b[0mlabel_type\u001b[0m\u001b[1;33m=\u001b[0m\u001b[1;34m'edge'\u001b[0m\u001b[1;33m)\u001b[0m\u001b[1;33m\u001b[0m\u001b[1;33m\u001b[0m\u001b[0m\n\u001b[0m\u001b[0;32m     16\u001b[0m \u001b[0mplt\u001b[0m\u001b[1;33m.\u001b[0m\u001b[0mylabel\u001b[0m\u001b[1;33m(\u001b[0m\u001b[1;34m'Calibration score'\u001b[0m\u001b[1;33m,\u001b[0m\u001b[0mfontsize\u001b[0m \u001b[1;33m=\u001b[0m \u001b[1;36m12\u001b[0m\u001b[1;33m)\u001b[0m\u001b[1;33m\u001b[0m\u001b[1;33m\u001b[0m\u001b[0m\n\u001b[0;32m     17\u001b[0m \u001b[0mplt\u001b[0m\u001b[1;33m.\u001b[0m\u001b[0mtitle\u001b[0m\u001b[1;33m(\u001b[0m\u001b[1;34m'Calibration score Comparision'\u001b[0m\u001b[1;33m,\u001b[0m\u001b[0mfontsize\u001b[0m \u001b[1;33m=\u001b[0m \u001b[1;36m14\u001b[0m\u001b[1;33m)\u001b[0m\u001b[1;33m\u001b[0m\u001b[1;33m\u001b[0m\u001b[0m\n",
      "\u001b[1;31mAttributeError\u001b[0m: 'AxesSubplot' object has no attribute 'bar_label'"
     ]
    },
    {
     "data": {
      "image/png": "[encoded data removed]",
      "text/plain": [
       "<Figure size 640x480 with 1 Axes>"
      ]
     },
     "metadata": {},
     "output_type": "display_data"
    }
   ],
   "source": [
    "x_labels = ['Baseline','A5', 'A6 LM', 'A6 LPS']\n",
    "\n",
    "Baseline_cal_score = abs(clf.score(X_test_b,y_test_b)-clf.score(X_test_w,y_test_w))\n",
    "#A5_cal_score = cvscore\n",
    "A6_LM_cal_score = abs(clf_new.score(X_test_b,y_test_b)-clf_new.score(X_test_w,y_test_w))\n",
    "A6_LPS_cal_score = abs(clf_new1.score(X_test_b,y_test_b)-clf_new1.score(X_test_w,y_test_w))      # Enter score here\n",
    "\n",
    "#Calibration_score = np.round([Baseline_cal_score,A5_cal_score,A6_LM_cal_score,A6_LPS_cal_score],3)\n",
    "Calibration_score = np.round([Baseline_cal_score,A6_LM_cal_score,A6_LPS_cal_score],3)\n",
    "score_series = pd.Series(Calibration_score)\n",
    "\n",
    "plt.figure()\n",
    "fig = score_series.plot(kind='bar',color=\"gray\")\n",
    "fig.set_xticklabels(x_labels, rotation=0)\n",
    "fig.bar_label(fig.containers[0], label_type='edge')\n",
    "plt.ylabel('Calibration score',fontsize = 12)\n",
    "plt.title('Calibration score Comparision',fontsize = 14)"
   ]
  }
 ],
 "metadata": {
  "accelerator": "GPU",
  "colab": {
   "collapsed_sections": [
    "tl4rIzPdTqZI"
   ],
   "provenance": []
  },
  "gpuClass": "standard",
  "hide_input": false,
  "kernelspec": {
   "display_name": "Python 3 (ipykernel)",
   "language": "python",
   "name": "python3"
  },
  "language_info": {
   "codemirror_mode": {
    "name": "ipython",
    "version": 3
   },
   "file_extension": ".py",
   "mimetype": "text/x-python",
   "name": "python",
   "nbconvert_exporter": "python",
   "pygments_lexer": "ipython3",
   "version": "3.7.6"
  }
 },
 "nbformat": 4,
 "nbformat_minor": 1
}
