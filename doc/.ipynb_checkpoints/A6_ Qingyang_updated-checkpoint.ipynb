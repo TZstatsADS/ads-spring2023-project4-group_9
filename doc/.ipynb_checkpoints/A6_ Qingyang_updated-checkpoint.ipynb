{
 "cells": [
  {
   "cell_type": "code",
   "execution_count": 74,
   "id": "a71d1fdf",
   "metadata": {},
   "outputs": [],
   "source": [
    "import numpy as np\n",
    "import pandas as pd\n",
    "from sklearn.model_selection import train_test_split\n",
    "from sklearn.linear_model import LogisticRegression\n",
    "from sklearn.metrics import confusion_matrix\n",
    "import matplotlib.pyplot as plt"
   ]
  },
  {
   "cell_type": "markdown",
   "id": "8847abab",
   "metadata": {},
   "source": [
    "# Data Loading and Preprocessing"
   ]
  },
  {
   "cell_type": "code",
   "execution_count": 134,
   "id": "f1ab5f2a",
   "metadata": {},
   "outputs": [],
   "source": [
    "compas_df=pd.read_csv(\"C:\\\\Users\\\\tqy52\\\\Desktop\\\\Courses\\\\Applied Data Science\\\\Project4\\\\compas-scores-two-years.csv\")\n",
    "\n",
    "#Use the data of African American and Caucasian\n",
    "\n",
    "races = ['African-American','Caucasian']\n",
    "\n",
    "compas_df=compas_df[compas_df.race.isin(races)]\n",
    "\n",
    "compas_df.head()\n",
    "\n",
    "#use only specific columns for future prediction\n",
    "compas_df_filtered = compas_df.loc[:, ['race']].join(compas_df.select_dtypes(include=['int64']))\n",
    "#drop id and duplicate columns\n",
    "compas_df_filtered = compas_df_filtered.drop(['id','decile_score.1', 'priors_count.1'], axis=1)\n",
    "\n",
    "\n"
   ]
  },
  {
   "cell_type": "markdown",
   "id": "a9d6a0f8",
   "metadata": {},
   "source": [
    "# Implemntaion of algorithms"
   ]
  },
  {
   "cell_type": "code",
   "execution_count": 77,
   "id": "5a40b160",
   "metadata": {},
   "outputs": [],
   "source": [
    "#for the algorithms below, we apply on the whole dataset\n",
    "X=compas_df_filtered\n",
    "s=X.race\n",
    "e=X.decile_score \n",
    "y=X.two_year_recid \n",
    "\n",
    "\n",
    "\n",
    "\n",
    "def PARTITION(X, e):\n",
    "    unique_values = e.unique()  # find unique values of e\n",
    "    groups = {}  # initialize empty dictionary to store resulting DataFrames\n",
    "    \n",
    "    for val in unique_values:\n",
    "        group_df = X[e == val]  # filter rows in X where e equals current unique value\n",
    "        groups[val] = group_df  # store resulting DataFrame in dictionary with key = unique value\n",
    "        \n",
    "    return groups  # return dictionary of resulting DataFrames\n",
    "\n",
    "\n",
    "\n",
    "\n",
    "\n"
   ]
  },
  {
   "cell_type": "code",
   "execution_count": 78,
   "id": "e0343d9c",
   "metadata": {},
   "outputs": [
    {
     "name": "stdout",
     "output_type": "stream",
     "text": [
      "[ 3  4  8  6  1 10  5  9  2  7]\n"
     ]
    }
   ],
   "source": [
    "resulting_groups = PARTITION(X, e)\n",
    "first_group_df = resulting_groups[1]\n",
    "#print(first_group_df.head)\n",
    "\n",
    "unique_values = e.unique() \n",
    "print(unique_values)"
   ]
  },
  {
   "cell_type": "code",
   "execution_count": 79,
   "id": "8270d1ba",
   "metadata": {},
   "outputs": [],
   "source": [
    "\n",
    "def delta(X, gender):\n",
    "    # calculate the baseline probabilities\n",
    "    p_pos_base = X.two_year_recid.mean()\n",
    "\n",
    "    # calculate probabilities conditioned on gender\n",
    "    p_pos_gender = X[X.race == gender].two_year_recid.mean()\n",
    "    \n",
    "\n",
    "    # calculate the number of gender people in X\n",
    "    G = len(X[X.race == gender])\n",
    "\n",
    "    # calculate delta\n",
    "    \n",
    "    delta_val = G * abs(p_pos_gender - p_pos_base)\n",
    "    \n",
    "\n",
    "    return int(delta_val)\n"
   ]
  },
  {
   "cell_type": "code",
   "execution_count": 80,
   "id": "432f91dc",
   "metadata": {},
   "outputs": [
    {
     "name": "stdout",
     "output_type": "stream",
     "text": [
      "11\n",
      "10\n",
      "3\n",
      "1\n",
      "5\n",
      "4\n",
      "3\n",
      "1\n",
      "1\n",
      "2\n"
     ]
    }
   ],
   "source": [
    "for group in resulting_groups.values():\n",
    "    print(delta(group,'Caucasian'))"
   ]
  },
  {
   "cell_type": "code",
   "execution_count": 81,
   "id": "2d90c728",
   "metadata": {},
   "outputs": [
    {
     "name": "stderr",
     "output_type": "stream",
     "text": [
      "c:\\users\\tqy52\\appdata\\local\\programs\\python\\python37-32\\lib\\site-packages\\pandas\\core\\indexing.py:1676: SettingWithCopyWarning: \n",
      "A value is trying to be set on a copy of a slice from a DataFrame.\n",
      "Try using .loc[row_indexer,col_indexer] = value instead\n",
      "\n",
      "See the caveats in the documentation: https://pandas.pydata.org/pandas-docs/stable/user_guide/indexing.html#returning-a-view-versus-a-copy\n",
      "  self._setitem_single_column(ilocs[0], value, pi)\n",
      "c:\\users\\tqy52\\appdata\\local\\programs\\python\\python37-32\\lib\\site-packages\\pandas\\core\\indexing.py:1676: SettingWithCopyWarning: \n",
      "A value is trying to be set on a copy of a slice from a DataFrame.\n",
      "Try using .loc[row_indexer,col_indexer] = value instead\n",
      "\n",
      "See the caveats in the documentation: https://pandas.pydata.org/pandas-docs/stable/user_guide/indexing.html#returning-a-view-versus-a-copy\n",
      "  self._setitem_single_column(ilocs[0], value, pi)\n",
      "c:\\users\\tqy52\\appdata\\local\\programs\\python\\python37-32\\lib\\site-packages\\pandas\\core\\indexing.py:1676: SettingWithCopyWarning: \n",
      "A value is trying to be set on a copy of a slice from a DataFrame.\n",
      "Try using .loc[row_indexer,col_indexer] = value instead\n",
      "\n",
      "See the caveats in the documentation: https://pandas.pydata.org/pandas-docs/stable/user_guide/indexing.html#returning-a-view-versus-a-copy\n",
      "  self._setitem_single_column(ilocs[0], value, pi)\n",
      "c:\\users\\tqy52\\appdata\\local\\programs\\python\\python37-32\\lib\\site-packages\\pandas\\core\\indexing.py:1676: SettingWithCopyWarning: \n",
      "A value is trying to be set on a copy of a slice from a DataFrame.\n",
      "Try using .loc[row_indexer,col_indexer] = value instead\n",
      "\n",
      "See the caveats in the documentation: https://pandas.pydata.org/pandas-docs/stable/user_guide/indexing.html#returning-a-view-versus-a-copy\n",
      "  self._setitem_single_column(ilocs[0], value, pi)\n",
      "c:\\users\\tqy52\\appdata\\local\\programs\\python\\python37-32\\lib\\site-packages\\pandas\\core\\indexing.py:1676: SettingWithCopyWarning: \n",
      "A value is trying to be set on a copy of a slice from a DataFrame.\n",
      "Try using .loc[row_indexer,col_indexer] = value instead\n",
      "\n",
      "See the caveats in the documentation: https://pandas.pydata.org/pandas-docs/stable/user_guide/indexing.html#returning-a-view-versus-a-copy\n",
      "  self._setitem_single_column(ilocs[0], value, pi)\n",
      "c:\\users\\tqy52\\appdata\\local\\programs\\python\\python37-32\\lib\\site-packages\\pandas\\core\\indexing.py:1676: SettingWithCopyWarning: \n",
      "A value is trying to be set on a copy of a slice from a DataFrame.\n",
      "Try using .loc[row_indexer,col_indexer] = value instead\n",
      "\n",
      "See the caveats in the documentation: https://pandas.pydata.org/pandas-docs/stable/user_guide/indexing.html#returning-a-view-versus-a-copy\n",
      "  self._setitem_single_column(ilocs[0], value, pi)\n",
      "c:\\users\\tqy52\\appdata\\local\\programs\\python\\python37-32\\lib\\site-packages\\pandas\\core\\indexing.py:1676: SettingWithCopyWarning: \n",
      "A value is trying to be set on a copy of a slice from a DataFrame.\n",
      "Try using .loc[row_indexer,col_indexer] = value instead\n",
      "\n",
      "See the caveats in the documentation: https://pandas.pydata.org/pandas-docs/stable/user_guide/indexing.html#returning-a-view-versus-a-copy\n",
      "  self._setitem_single_column(ilocs[0], value, pi)\n",
      "c:\\users\\tqy52\\appdata\\local\\programs\\python\\python37-32\\lib\\site-packages\\pandas\\core\\indexing.py:1676: SettingWithCopyWarning: \n",
      "A value is trying to be set on a copy of a slice from a DataFrame.\n",
      "Try using .loc[row_indexer,col_indexer] = value instead\n",
      "\n",
      "See the caveats in the documentation: https://pandas.pydata.org/pandas-docs/stable/user_guide/indexing.html#returning-a-view-versus-a-copy\n",
      "  self._setitem_single_column(ilocs[0], value, pi)\n",
      "c:\\users\\tqy52\\appdata\\local\\programs\\python\\python37-32\\lib\\site-packages\\pandas\\core\\indexing.py:1676: SettingWithCopyWarning: \n",
      "A value is trying to be set on a copy of a slice from a DataFrame.\n",
      "Try using .loc[row_indexer,col_indexer] = value instead\n",
      "\n",
      "See the caveats in the documentation: https://pandas.pydata.org/pandas-docs/stable/user_guide/indexing.html#returning-a-view-versus-a-copy\n",
      "  self._setitem_single_column(ilocs[0], value, pi)\n",
      "c:\\users\\tqy52\\appdata\\local\\programs\\python\\python37-32\\lib\\site-packages\\pandas\\core\\indexing.py:1676: SettingWithCopyWarning: \n",
      "A value is trying to be set on a copy of a slice from a DataFrame.\n",
      "Try using .loc[row_indexer,col_indexer] = value instead\n",
      "\n",
      "See the caveats in the documentation: https://pandas.pydata.org/pandas-docs/stable/user_guide/indexing.html#returning-a-view-versus-a-copy\n",
      "  self._setitem_single_column(ilocs[0], value, pi)\n",
      "c:\\users\\tqy52\\appdata\\local\\programs\\python\\python37-32\\lib\\site-packages\\pandas\\core\\indexing.py:1676: SettingWithCopyWarning: \n",
      "A value is trying to be set on a copy of a slice from a DataFrame.\n",
      "Try using .loc[row_indexer,col_indexer] = value instead\n",
      "\n",
      "See the caveats in the documentation: https://pandas.pydata.org/pandas-docs/stable/user_guide/indexing.html#returning-a-view-versus-a-copy\n",
      "  self._setitem_single_column(ilocs[0], value, pi)\n",
      "c:\\users\\tqy52\\appdata\\local\\programs\\python\\python37-32\\lib\\site-packages\\pandas\\core\\indexing.py:1676: SettingWithCopyWarning: \n",
      "A value is trying to be set on a copy of a slice from a DataFrame.\n",
      "Try using .loc[row_indexer,col_indexer] = value instead\n",
      "\n",
      "See the caveats in the documentation: https://pandas.pydata.org/pandas-docs/stable/user_guide/indexing.html#returning-a-view-versus-a-copy\n",
      "  self._setitem_single_column(ilocs[0], value, pi)\n",
      "c:\\users\\tqy52\\appdata\\local\\programs\\python\\python37-32\\lib\\site-packages\\pandas\\core\\indexing.py:1676: SettingWithCopyWarning: \n",
      "A value is trying to be set on a copy of a slice from a DataFrame.\n",
      "Try using .loc[row_indexer,col_indexer] = value instead\n",
      "\n",
      "See the caveats in the documentation: https://pandas.pydata.org/pandas-docs/stable/user_guide/indexing.html#returning-a-view-versus-a-copy\n",
      "  self._setitem_single_column(ilocs[0], value, pi)\n",
      "c:\\users\\tqy52\\appdata\\local\\programs\\python\\python37-32\\lib\\site-packages\\pandas\\core\\indexing.py:1676: SettingWithCopyWarning: \n",
      "A value is trying to be set on a copy of a slice from a DataFrame.\n",
      "Try using .loc[row_indexer,col_indexer] = value instead\n",
      "\n",
      "See the caveats in the documentation: https://pandas.pydata.org/pandas-docs/stable/user_guide/indexing.html#returning-a-view-versus-a-copy\n",
      "  self._setitem_single_column(ilocs[0], value, pi)\n",
      "c:\\users\\tqy52\\appdata\\local\\programs\\python\\python37-32\\lib\\site-packages\\pandas\\core\\indexing.py:1676: SettingWithCopyWarning: \n",
      "A value is trying to be set on a copy of a slice from a DataFrame.\n",
      "Try using .loc[row_indexer,col_indexer] = value instead\n",
      "\n",
      "See the caveats in the documentation: https://pandas.pydata.org/pandas-docs/stable/user_guide/indexing.html#returning-a-view-versus-a-copy\n",
      "  self._setitem_single_column(ilocs[0], value, pi)\n",
      "c:\\users\\tqy52\\appdata\\local\\programs\\python\\python37-32\\lib\\site-packages\\pandas\\core\\indexing.py:1676: SettingWithCopyWarning: \n",
      "A value is trying to be set on a copy of a slice from a DataFrame.\n",
      "Try using .loc[row_indexer,col_indexer] = value instead\n",
      "\n",
      "See the caveats in the documentation: https://pandas.pydata.org/pandas-docs/stable/user_guide/indexing.html#returning-a-view-versus-a-copy\n",
      "  self._setitem_single_column(ilocs[0], value, pi)\n",
      "c:\\users\\tqy52\\appdata\\local\\programs\\python\\python37-32\\lib\\site-packages\\pandas\\core\\indexing.py:1676: SettingWithCopyWarning: \n",
      "A value is trying to be set on a copy of a slice from a DataFrame.\n",
      "Try using .loc[row_indexer,col_indexer] = value instead\n",
      "\n",
      "See the caveats in the documentation: https://pandas.pydata.org/pandas-docs/stable/user_guide/indexing.html#returning-a-view-versus-a-copy\n",
      "  self._setitem_single_column(ilocs[0], value, pi)\n",
      "c:\\users\\tqy52\\appdata\\local\\programs\\python\\python37-32\\lib\\site-packages\\pandas\\core\\indexing.py:1676: SettingWithCopyWarning: \n",
      "A value is trying to be set on a copy of a slice from a DataFrame.\n",
      "Try using .loc[row_indexer,col_indexer] = value instead\n",
      "\n",
      "See the caveats in the documentation: https://pandas.pydata.org/pandas-docs/stable/user_guide/indexing.html#returning-a-view-versus-a-copy\n",
      "  self._setitem_single_column(ilocs[0], value, pi)\n",
      "c:\\users\\tqy52\\appdata\\local\\programs\\python\\python37-32\\lib\\site-packages\\pandas\\core\\indexing.py:1676: SettingWithCopyWarning: \n",
      "A value is trying to be set on a copy of a slice from a DataFrame.\n",
      "Try using .loc[row_indexer,col_indexer] = value instead\n",
      "\n",
      "See the caveats in the documentation: https://pandas.pydata.org/pandas-docs/stable/user_guide/indexing.html#returning-a-view-versus-a-copy\n",
      "  self._setitem_single_column(ilocs[0], value, pi)\n",
      "c:\\users\\tqy52\\appdata\\local\\programs\\python\\python37-32\\lib\\site-packages\\pandas\\core\\indexing.py:1676: SettingWithCopyWarning: \n",
      "A value is trying to be set on a copy of a slice from a DataFrame.\n",
      "Try using .loc[row_indexer,col_indexer] = value instead\n",
      "\n",
      "See the caveats in the documentation: https://pandas.pydata.org/pandas-docs/stable/user_guide/indexing.html#returning-a-view-versus-a-copy\n",
      "  self._setitem_single_column(ilocs[0], value, pi)\n"
     ]
    }
   ],
   "source": [
    "\n",
    "#Algorithm 1: Local massaging\n",
    "resulting_groups = PARTITION(X, e)\n",
    "updated_groups_1 = []\n",
    "for group in resulting_groups.values():\n",
    "    males = group[group.race == 'Caucasian']\n",
    "    females = group[group.race == 'African-American']\n",
    "    \n",
    "    # learn a ranker H for this group\n",
    "    H = LogisticRegression(random_state=42,max_iter=500)\n",
    "    H.fit(group.drop(['race','two_year_recid'], axis=1), group.two_year_recid)\n",
    "    \n",
    "    # rank and relabel males\n",
    "    males_females = pd.concat([males,females])\n",
    "    males_females['proba'] = H.predict_proba(males_females.drop(['two_year_recid','race'], axis=1))[:, 1]\n",
    "\n",
    "   \n",
    "    males_females = males_females.sort_values(by='proba')\n",
    "    \n",
    "    \n",
    "    delta_males = int(delta(group, 'Caucasian'))\n",
    " \n",
    "    males_to_relabel = males_females[(males_females['race'] == 'Caucasian') & (males_females['two_year_recid'] == 0) & (males_females['proba'] < 0.5)].head(delta_males)\n",
    "    group.loc[males_to_relabel.index, 'two_year_recid'] = 1 - males_to_relabel.two_year_recid\n",
    "    \n",
    "    # rank and relabel females\n",
    "    delta_females = int(delta(group, 'African-American'))\n",
    "    females_to_relabel = males_females[(males_females['race'] == 'African-American') & (males_females['two_year_recid'] == 1) & (males_females['proba'] > 0.5)].head(delta_females)\n",
    "    group.loc[females_to_relabel.index, 'two_year_recid'] = 1 - females_to_relabel.two_year_recid\n",
    "    \n",
    "    updated_groups_1.append(group)\n"
   ]
  },
  {
   "cell_type": "code",
   "execution_count": 82,
   "id": "4413aa4d",
   "metadata": {},
   "outputs": [
    {
     "name": "stdout",
     "output_type": "stream",
     "text": [
      "67\n"
     ]
    }
   ],
   "source": [
    "updated_df_1 = pd.concat(updated_groups_1)\n",
    "updated_df_1 = updated_df_1.sort_index()\n",
    "print(sum(updated_df_1['two_year_recid']!=compas_df_filtered['two_year_recid']))\n",
    "#67 labels have been changed"
   ]
  },
  {
   "cell_type": "code",
   "execution_count": null,
   "id": "008556c4",
   "metadata": {},
   "outputs": [],
   "source": []
  },
  {
   "cell_type": "code",
   "execution_count": 83,
   "id": "1b8192bd",
   "metadata": {},
   "outputs": [],
   "source": [
    "\n",
    "#Algorithm 2:  Local preferential sampling\n",
    "resulting_groups = PARTITION(X, e)\n",
    "updated_groups_2 = []\n",
    "for group in resulting_groups.values():\n",
    "    males = group[group.race == 'Caucasian']\n",
    "    females = group[group.race == 'African-American']\n",
    "    \n",
    "    # learn a ranker H for this group\n",
    "    H = LogisticRegression(random_state=42,max_iter=500)\n",
    "    H.fit(group.drop(['race','two_year_recid'], axis=1), group.two_year_recid)\n",
    "    \n",
    "    # rank delete,and relabel males\n",
    "    males_females = pd.concat([males, females])\n",
    "    males_females['proba'] = H.predict_proba(males_females.drop(['two_year_recid', 'race'], axis=1))[:, 1]\n",
    "    males_females = males_females.sort_values(by='proba')\n",
    "    delta_males = int(0.5*delta(group, 'Caucasian'))\n",
    "    \n",
    "    \n",
    "    males_to_delete = males_females[(males_females['race'] == 'Caucasian') & (males_females['two_year_recid'] == 1) & (males_females['proba'] < 0.5)].tail(delta_males)\n",
    "    males_to_duplicate = males_females[(males_females['race'] == 'Caucasian') & (males_females['two_year_recid'] == 0) & (males_females['proba'] > 0.5)].head(delta_males)\n",
    "    group = group[~group.index.isin(males_to_delete.index)]\n",
    "    group = pd.concat([group, males_to_duplicate], ignore_index=True)\n",
    "    \n",
    "    # rank delete,and relabel females\n",
    "    delta_females = int(0.5*delta(group, 'African-American'))\n",
    "    females_to_delete = males_females[(males_females['race'] == 'African-American') & (males_females['two_year_recid'] == 0) & (males_females['proba'] > 0.5)].tail(delta_females)\n",
    "    females_to_duplicate = males_females[(males_females['race'] == 'African-American') & (males_females['two_year_recid'] == 1) & (males_females['proba'] < 0.5)].head(delta_females)\n",
    "    group = group[~group.index.isin(females_to_delete.index)]\n",
    "    group = pd.concat([group, females_to_duplicate], ignore_index=True)\n",
    "    \n",
    "    updated_groups_2.append(group)\n",
    "    \n",
    "updated_df_2 = pd.concat(updated_groups_2)\n",
    "\n",
    "#Now we have 3 data frames.compas_df_filtered is the original one. updated_df_1 is the one of algorithm1 updated_df_1 is the one of algorithm12\n",
    "   \n"
   ]
  },
  {
   "cell_type": "code",
   "execution_count": 84,
   "id": "3f8d91b1",
   "metadata": {},
   "outputs": [],
   "source": [
    "# split the data into train, validation and test set\n",
    "\n",
    "# Split data into training and validation/test sets\n",
    "train_df, val_test_df = train_test_split(compas_df_filtered, test_size=0.2, random_state=42)\n",
    "\n",
    "# Split validation/test set into validation and test sets\n",
    "val_df, test_df = train_test_split(val_test_df, test_size=0.5, random_state=42)\n",
    "\n",
    "\n",
    "\n",
    "# Split data into training and validation/test sets\n",
    "train_df_algo1, val_test_df_algo1 = train_test_split(updated_df_1, test_size=0.2, random_state=42)\n",
    "\n",
    "# Split validation/test set into validation and test sets\n",
    "val_df_algo1, test_df_algo1 = train_test_split(val_test_df_algo1, test_size=0.5, random_state=42)\n",
    "\n",
    "\n",
    "# Split data into training and validation/test sets\n",
    "train_df_algo2, val_test_df_algo2 = train_test_split(updated_df_2, test_size=0.2, random_state=42)\n",
    "\n",
    "# Split validation/test set into validation and test sets\n",
    "val_df_algo2, test_df_algo2 = train_test_split(val_test_df_algo2, test_size=0.5, random_state=42)\n"
   ]
  },
  {
   "cell_type": "code",
   "execution_count": 85,
   "id": "d768909e",
   "metadata": {},
   "outputs": [
    {
     "name": "stderr",
     "output_type": "stream",
     "text": [
      "c:\\users\\tqy52\\appdata\\local\\programs\\python\\python37-32\\lib\\site-packages\\sklearn\\linear_model\\_logistic.py:765: ConvergenceWarning: lbfgs failed to converge (status=1):\n",
      "STOP: TOTAL NO. of ITERATIONS REACHED LIMIT.\n",
      "\n",
      "Increase the number of iterations (max_iter) or scale the data as shown in:\n",
      "    https://scikit-learn.org/stable/modules/preprocessing.html\n",
      "Please also refer to the documentation for alternative solver options:\n",
      "    https://scikit-learn.org/stable/modules/linear_model.html#logistic-regression\n",
      "  extra_warning_msg=_LOGISTIC_SOLVER_CONVERGENCE_MSG)\n",
      "c:\\users\\tqy52\\appdata\\local\\programs\\python\\python37-32\\lib\\site-packages\\sklearn\\linear_model\\_logistic.py:765: ConvergenceWarning: lbfgs failed to converge (status=1):\n",
      "STOP: TOTAL NO. of ITERATIONS REACHED LIMIT.\n",
      "\n",
      "Increase the number of iterations (max_iter) or scale the data as shown in:\n",
      "    https://scikit-learn.org/stable/modules/preprocessing.html\n",
      "Please also refer to the documentation for alternative solver options:\n",
      "    https://scikit-learn.org/stable/modules/linear_model.html#logistic-regression\n",
      "  extra_warning_msg=_LOGISTIC_SOLVER_CONVERGENCE_MSG)\n",
      "c:\\users\\tqy52\\appdata\\local\\programs\\python\\python37-32\\lib\\site-packages\\sklearn\\linear_model\\_logistic.py:765: ConvergenceWarning: lbfgs failed to converge (status=1):\n",
      "STOP: TOTAL NO. of ITERATIONS REACHED LIMIT.\n",
      "\n",
      "Increase the number of iterations (max_iter) or scale the data as shown in:\n",
      "    https://scikit-learn.org/stable/modules/preprocessing.html\n",
      "Please also refer to the documentation for alternative solver options:\n",
      "    https://scikit-learn.org/stable/modules/linear_model.html#logistic-regression\n",
      "  extra_warning_msg=_LOGISTIC_SOLVER_CONVERGENCE_MSG)\n"
     ]
    },
    {
     "data": {
      "text/plain": [
       "LogisticRegression()"
      ]
     },
     "execution_count": 85,
     "metadata": {},
     "output_type": "execute_result"
    }
   ],
   "source": [
    "X_train1 = train_df.drop(['is_recid','race'], axis=1)\n",
    "y_train1 = train_df['is_recid']\n",
    "                       \n",
    "X_train2 = train_df_algo1.drop(['is_recid','race'], axis=1)\n",
    "y_train2 = train_df_algo1['is_recid']                                \n",
    "                                \n",
    "X_train3 = train_df_algo2.drop(['is_recid','race','proba'], axis=1)\n",
    "y_train3 = train_df_algo2['is_recid']\n",
    "\n",
    "\n",
    "\n",
    "# Fit logistic regression model for X_train1\n",
    "logreg1 = LogisticRegression()\n",
    "logreg1.fit(X_train1, y_train1)\n",
    "\n",
    "\n",
    "# Fit logistic regression model for X_train2\n",
    "logreg2 = LogisticRegression()\n",
    "logreg2.fit(X_train2, y_train2)\n",
    "\n",
    "# Fit logistic regression model for X_train3\n",
    "logreg3 = LogisticRegression()\n",
    "logreg3.fit(X_train3, y_train3)\n",
    "\n"
   ]
  },
  {
   "cell_type": "code",
   "execution_count": 86,
   "id": "1b53b82e",
   "metadata": {},
   "outputs": [],
   "source": [
    "#Get results for validation set\n",
    "# For X_val1\n",
    "X_val1 = val_df.drop(['is_recid','race'], axis=1)\n",
    "y_val1 = val_df['is_recid']\n",
    "y_pred_val1 = logreg1.predict(X_val1)\n",
    "\n",
    "\n",
    "# For X_val2\n",
    "X_val2 = val_df_algo1.drop(['is_recid','race'], axis=1)\n",
    "y_val2 = val_df_algo1['is_recid']\n",
    "y_pred_val2 = logreg2.predict(X_val2)\n",
    "\n",
    "\n",
    "# For X_val3\n",
    "X_val3 = val_df_algo2.drop(['is_recid','race','proba'], axis=1)\n",
    "y_val3 = val_df_algo2['is_recid']\n",
    "y_pred_val3 = logreg3.predict(X_val3)\n",
    "\n"
   ]
  },
  {
   "cell_type": "code",
   "execution_count": 87,
   "id": "f5a7787a",
   "metadata": {},
   "outputs": [],
   "source": [
    "#Get results for test set\n",
    "# For X_test1\n",
    "X_test1 = test_df.drop(['is_recid','race'], axis=1)\n",
    "y_test1 = test_df['is_recid']\n",
    "y_pred_test1 = logreg1.predict(X_test1)\n",
    "\n",
    "\n",
    "# For X_test2\n",
    "X_test2 = test_df_algo1.drop(['is_recid','race'], axis=1)\n",
    "y_test2 = test_df_algo1['is_recid']\n",
    "y_pred_test2 = logreg2.predict(X_test2)\n",
    "\n",
    "\n",
    "# For X_test3\n",
    "X_test3 = test_df_algo2.drop(['is_recid','race','proba'], axis=1)\n",
    "y_test3 = test_df_algo2['is_recid']\n",
    "y_pred_test3 = logreg3.predict(X_test3)\n",
    "\n"
   ]
  },
  {
   "cell_type": "code",
   "execution_count": 88,
   "id": "8df83e39",
   "metadata": {},
   "outputs": [],
   "source": [
    "# Make a copy of the original test dataframes\n",
    "test_df1 = test_df.copy()\n",
    "test_df2 = test_df_algo1.copy()\n",
    "test_df3 = test_df_algo2.copy()\n",
    "\n",
    "# Replace the \"two_year_recid\" column with predicted labels for each model\n",
    "test_df1[\"two_year_recid\"] = y_pred_test1\n",
    "test_df2[\"two_year_recid\"] = y_pred_test2\n",
    "test_df3[\"two_year_recid\"] = y_pred_test3\n"
   ]
  },
  {
   "cell_type": "code",
   "execution_count": 131,
   "id": "9d7d7311",
   "metadata": {},
   "outputs": [],
   "source": [
    "# Define function to compute D_all and D_bad\n",
    "\n",
    "\n",
    "\n",
    "def compute_D(test_df, y_pred):\n",
    "    # Compute D_all\n",
    "    D_all = test_df.loc[test_df['race'] == 'African-American', y_pred].mean() - \\\n",
    "            test_df.loc[test_df['race'] == 'Caucasian', y_pred].mean()\n",
    "\n",
    "    # Compute D_bad\n",
    "    decile_scores = list(range(1, 6))\n",
    "    D_bad = 0\n",
    "    \n",
    "    for score in decile_scores:\n",
    "        P_score = test_df.loc[(test_df['race'] == 'African-American') & (test_df['decile_score'] == score), y_pred].mean()\n",
    "        P_score -= test_df.loc[(test_df['race'] == 'Caucasian') & (test_df['decile_score'] == score), y_pred].mean()\n",
    "        P_y = test_df.loc[test_df['decile_score'] == score, y_pred].mean()\n",
    "        D_bad += ((P_score) * (P_y))\n",
    "\n",
    "    \n",
    "    \n",
    "    \n",
    "    return D_all, D_bad\n",
    "\n",
    "# Compute D_all and D_bad for the three logistic regression models on the three test sets\n",
    "D_all_1, D_bad_1 = compute_D(test_df1, 'two_year_recid')\n",
    "D_all_2, D_bad_2 = compute_D(test_df2, 'two_year_recid')\n",
    "D_all_3, D_bad_3 = compute_D(test_df3, 'two_year_recid')\n",
    "\n",
    "\n"
   ]
  },
  {
   "cell_type": "code",
   "execution_count": 133,
   "id": "02df862b",
   "metadata": {},
   "outputs": [
    {
     "data": {
      "image/png": "[encoded data removed]",
      "text/plain": [
       "<Figure size 432x288 with 1 Axes>"
      ]
     },
     "metadata": {
      "needs_background": "light"
     },
     "output_type": "display_data"
    },
    {
     "name": "stdout",
     "output_type": "stream",
     "text": [
      "[0.13995115296602711, 0.12508801267382497, 0.1416229696180265]\n",
      "[0.08925469058099628, 0.06903991985880703, 0.08238614966596439]\n"
     ]
    }
   ],
   "source": [
    "\n",
    "\n",
    "# Calculate D_all and D_bad for each model on the test set\n",
    "D_all_test = [D_all_1,D_all_2,D_all_3]\n",
    "D_bad_test = [D_bad_1, D_bad_2, D_bad_3]\n",
    "\n",
    "plt.plot(['Baseline', 'Local massaging', 'Local preferential sampling'], D_all_test, label='D_all')\n",
    "plt.plot(['Baseline', 'Local massaging', 'Local preferential sampling'], D_bad_test, label='D_bad')\n",
    "\n",
    "# Add axis labels and title\n",
    "plt.xlabel('Model')\n",
    "plt.ylabel('D')\n",
    "plt.title('D_all and D_bad for 3 models on test set')\n",
    "\n",
    "# Add legend\n",
    "plt.legend()\n",
    "\n",
    "# Show the plot\n",
    "plt.show()\n",
    "\n",
    "\n",
    "print(D_all_test)\n",
    "print(D_bad_test)"
   ]
  },
  {
   "cell_type": "markdown",
   "id": "8c2e09b3",
   "metadata": {},
   "source": [
    "From the plot, we can see that the two algorithms both achieves the original goal of reducing bad discrimination. We can also see that the Local massaging algorithm reduces bad discrimination more, which is a better choice in this dataset."
   ]
  },
  {
   "cell_type": "code",
   "execution_count": null,
   "id": "09c09475",
   "metadata": {},
   "outputs": [],
   "source": []
  }
 ],
 "metadata": {
  "kernelspec": {
   "display_name": "Python 3 (ipykernel)",
   "language": "python",
   "name": "python3"
  },
  "language_info": {
   "codemirror_mode": {
    "name": "ipython",
    "version": 3
   },
   "file_extension": ".py",
   "mimetype": "text/x-python",
   "name": "python",
   "nbconvert_exporter": "python",
   "pygments_lexer": "ipython3",
   "version": "3.7.6"
  }
 },
 "nbformat": 4,
 "nbformat_minor": 5
}
