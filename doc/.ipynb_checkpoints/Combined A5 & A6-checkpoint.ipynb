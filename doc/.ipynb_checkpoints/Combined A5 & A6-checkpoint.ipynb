{
 "cells": [
  {
   "cell_type": "markdown",
   "metadata": {
    "id": "wANV-HWZ4XEf"
   },
   "source": [
    "# Data Loading and Preprocessing"
   ]
  },
  {
   "cell_type": "code",
   "execution_count": 1,
   "metadata": {
    "id": "3rHJBFkTbe2W",
    "scrolled": false
   },
   "outputs": [
    {
     "data": {
      "text/plain": [
       "Index(['id', 'name', 'first', 'last', 'compas_screening_date', 'sex', 'dob',\n",
       "       'age', 'age_cat', 'race', 'juv_fel_count', 'decile_score',\n",
       "       'juv_misd_count', 'juv_other_count', 'priors_count',\n",
       "       'days_b_screening_arrest', 'c_jail_in', 'c_jail_out', 'c_case_number',\n",
       "       'c_offense_date', 'c_arrest_date', 'c_days_from_compas',\n",
       "       'c_charge_degree', 'c_charge_desc', 'is_recid', 'r_case_number',\n",
       "       'r_charge_degree', 'r_days_from_arrest', 'r_offense_date',\n",
       "       'r_charge_desc', 'r_jail_in', 'r_jail_out', 'violent_recid',\n",
       "       'is_violent_recid', 'vr_case_number', 'vr_charge_degree',\n",
       "       'vr_offense_date', 'vr_charge_desc', 'type_of_assessment',\n",
       "       'decile_score.1', 'score_text', 'screening_date',\n",
       "       'v_type_of_assessment', 'v_decile_score', 'v_score_text',\n",
       "       'v_screening_date', 'in_custody', 'out_custody', 'priors_count.1',\n",
       "       'start', 'end', 'event', 'two_year_recid'],\n",
       "      dtype='object')"
      ]
     },
     "execution_count": 1,
     "metadata": {},
     "output_type": "execute_result"
    }
   ],
   "source": [
    "import pandas as pd\n",
    "import numpy as np\n",
    "df = pd.read_csv('../data/compas-scores-two-years.csv')\n",
    "df.columns"
   ]
  },
  {
   "cell_type": "code",
   "execution_count": 2,
   "metadata": {},
   "outputs": [
    {
     "data": {
      "text/html": [
       "<div>\n",
       "<style scoped>\n",
       "    .dataframe tbody tr th:only-of-type {\n",
       "        vertical-align: middle;\n",
       "    }\n",
       "\n",
       "    .dataframe tbody tr th {\n",
       "        vertical-align: top;\n",
       "    }\n",
       "\n",
       "    .dataframe thead th {\n",
       "        text-align: right;\n",
       "    }\n",
       "</style>\n",
       "<table border=\"1\" class=\"dataframe\">\n",
       "  <thead>\n",
       "    <tr style=\"text-align: right;\">\n",
       "      <th></th>\n",
       "      <th>race</th>\n",
       "      <th>age</th>\n",
       "      <th>juv_fel_count</th>\n",
       "      <th>decile_score</th>\n",
       "      <th>juv_misd_count</th>\n",
       "      <th>juv_other_count</th>\n",
       "      <th>priors_count</th>\n",
       "      <th>is_recid</th>\n",
       "      <th>is_violent_recid</th>\n",
       "      <th>v_decile_score</th>\n",
       "      <th>start</th>\n",
       "      <th>end</th>\n",
       "      <th>event</th>\n",
       "      <th>two_year_recid</th>\n",
       "    </tr>\n",
       "  </thead>\n",
       "  <tbody>\n",
       "    <tr>\n",
       "      <th>1</th>\n",
       "      <td>African-American</td>\n",
       "      <td>34</td>\n",
       "      <td>0</td>\n",
       "      <td>3</td>\n",
       "      <td>0</td>\n",
       "      <td>0</td>\n",
       "      <td>0</td>\n",
       "      <td>1</td>\n",
       "      <td>1</td>\n",
       "      <td>1</td>\n",
       "      <td>9</td>\n",
       "      <td>159</td>\n",
       "      <td>1</td>\n",
       "      <td>1</td>\n",
       "    </tr>\n",
       "    <tr>\n",
       "      <th>2</th>\n",
       "      <td>African-American</td>\n",
       "      <td>24</td>\n",
       "      <td>0</td>\n",
       "      <td>4</td>\n",
       "      <td>0</td>\n",
       "      <td>1</td>\n",
       "      <td>4</td>\n",
       "      <td>1</td>\n",
       "      <td>0</td>\n",
       "      <td>3</td>\n",
       "      <td>0</td>\n",
       "      <td>63</td>\n",
       "      <td>0</td>\n",
       "      <td>1</td>\n",
       "    </tr>\n",
       "    <tr>\n",
       "      <th>3</th>\n",
       "      <td>African-American</td>\n",
       "      <td>23</td>\n",
       "      <td>0</td>\n",
       "      <td>8</td>\n",
       "      <td>1</td>\n",
       "      <td>0</td>\n",
       "      <td>1</td>\n",
       "      <td>0</td>\n",
       "      <td>0</td>\n",
       "      <td>6</td>\n",
       "      <td>0</td>\n",
       "      <td>1174</td>\n",
       "      <td>0</td>\n",
       "      <td>0</td>\n",
       "    </tr>\n",
       "    <tr>\n",
       "      <th>6</th>\n",
       "      <td>Caucasian</td>\n",
       "      <td>41</td>\n",
       "      <td>0</td>\n",
       "      <td>6</td>\n",
       "      <td>0</td>\n",
       "      <td>0</td>\n",
       "      <td>14</td>\n",
       "      <td>1</td>\n",
       "      <td>0</td>\n",
       "      <td>2</td>\n",
       "      <td>5</td>\n",
       "      <td>40</td>\n",
       "      <td>1</td>\n",
       "      <td>1</td>\n",
       "    </tr>\n",
       "    <tr>\n",
       "      <th>8</th>\n",
       "      <td>Caucasian</td>\n",
       "      <td>39</td>\n",
       "      <td>0</td>\n",
       "      <td>1</td>\n",
       "      <td>0</td>\n",
       "      <td>0</td>\n",
       "      <td>0</td>\n",
       "      <td>0</td>\n",
       "      <td>0</td>\n",
       "      <td>1</td>\n",
       "      <td>2</td>\n",
       "      <td>747</td>\n",
       "      <td>0</td>\n",
       "      <td>0</td>\n",
       "    </tr>\n",
       "  </tbody>\n",
       "</table>\n",
       "</div>"
      ],
      "text/plain": [
       "               race  age  juv_fel_count  decile_score  juv_misd_count  \\\n",
       "1  African-American   34              0             3               0   \n",
       "2  African-American   24              0             4               0   \n",
       "3  African-American   23              0             8               1   \n",
       "6         Caucasian   41              0             6               0   \n",
       "8         Caucasian   39              0             1               0   \n",
       "\n",
       "   juv_other_count  priors_count  is_recid  is_violent_recid  v_decile_score  \\\n",
       "1                0             0         1                 1               1   \n",
       "2                1             4         1                 0               3   \n",
       "3                0             1         0                 0               6   \n",
       "6                0            14         1                 0               2   \n",
       "8                0             0         0                 0               1   \n",
       "\n",
       "   start   end  event  two_year_recid  \n",
       "1      9   159      1               1  \n",
       "2      0    63      0               1  \n",
       "3      0  1174      0               0  \n",
       "6      5    40      1               1  \n",
       "8      2   747      0               0  "
      ]
     },
     "execution_count": 2,
     "metadata": {},
     "output_type": "execute_result"
    }
   ],
   "source": [
    "compas_df = df\n",
    "races = ['African-American','Caucasian']\n",
    "\n",
    "compas_df=compas_df[compas_df.race.isin(races)]\n",
    "\n",
    "compas_df.head()\n",
    "\n",
    "#use only specific columns for future prediction\n",
    "compas_df_filtered = compas_df.loc[:, ['race']].join(compas_df.select_dtypes(include=['int64']))\n",
    "#drop id and duplicate columns\n",
    "compas_df_filtered = compas_df_filtered.drop(['id','decile_score.1', 'priors_count.1'], axis=1)\n",
    "compas_df_filtered.head()"
   ]
  },
  {
   "cell_type": "code",
   "execution_count": 3,
   "metadata": {
    "colab": {
     "base_uri": "https://localhost:8080/"
    },
    "id": "k1WHo4Iddz7l",
    "outputId": "8c5a0bfa-db24-4c21-cd96-d34b3111a5eb"
   },
   "outputs": [],
   "source": [
    "compas_df_filtered[\"race\"].replace(['African-American', 'Caucasian'],[0, 1], inplace=True)"
   ]
  },
  {
   "cell_type": "code",
   "execution_count": 4,
   "metadata": {
    "colab": {
     "base_uri": "https://localhost:8080/"
    },
    "id": "4lSZo05Gd_Lo",
    "outputId": "2cf2b59e-d76e-46ae-e13e-f150186e8811"
   },
   "outputs": [
    {
     "name": "stdout",
     "output_type": "stream",
     "text": [
      "(4920, 13) (4920,) (1230, 13) (1230,)\n",
      "(3936, 13) (3936,) (984, 13) (984,)\n"
     ]
    }
   ],
   "source": [
    "y = compas_df_filtered[\"two_year_recid\"]\n",
    "X = compas_df_filtered.drop([\"two_year_recid\"], axis=1)\n",
    "from sklearn.model_selection import train_test_split\n",
    "X_train, X_test, y_train, y_test=train_test_split(X,y,test_size=0.2, random_state=50, stratify=y)\n",
    "print(X_train.shape, y_train.shape, X_test.shape, y_test.shape)\n",
    "X_train, X_valid, y_train, y_valid=train_test_split(X_train,y_train,test_size=0.2, random_state=67, stratify=y_train)\n",
    "print(X_train.shape, y_train.shape, X_valid.shape, y_valid.shape)"
   ]
  },
  {
   "cell_type": "markdown",
   "metadata": {
    "id": "5XH3AmE1wide"
   },
   "source": [
    "# Baseline"
   ]
  },
  {
   "cell_type": "code",
   "execution_count": 5,
   "metadata": {
    "colab": {
     "base_uri": "https://localhost:8080/"
    },
    "id": "d798yW5oeKVK",
    "outputId": "e5d62662-6a32-4f4f-d071-120ee4e1ad58"
   },
   "outputs": [
    {
     "name": "stderr",
     "output_type": "stream",
     "text": [
      "C:\\Users\\zhang\\Anaconda3\\lib\\site-packages\\sklearn\\linear_model\\_logistic.py:818: ConvergenceWarning: lbfgs failed to converge (status=1):\n",
      "STOP: TOTAL NO. of ITERATIONS REACHED LIMIT.\n",
      "\n",
      "Increase the number of iterations (max_iter) or scale the data as shown in:\n",
      "    https://scikit-learn.org/stable/modules/preprocessing.html\n",
      "Please also refer to the documentation for alternative solver options:\n",
      "    https://scikit-learn.org/stable/modules/linear_model.html#logistic-regression\n",
      "  extra_warning_msg=_LOGISTIC_SOLVER_CONVERGENCE_MSG,\n"
     ]
    },
    {
     "data": {
      "text/plain": [
       "0.9829268292682927"
      ]
     },
     "execution_count": 5,
     "metadata": {},
     "output_type": "execute_result"
    }
   ],
   "source": [
    "from sklearn.linear_model import LogisticRegression\n",
    "clf = LogisticRegression().fit(X_train, y_train)\n",
    "clf.score(X_test,y_test)"
   ]
  },
  {
   "cell_type": "code",
   "execution_count": 7,
   "metadata": {
    "id": "FGlQZYBunn4q"
   },
   "outputs": [],
   "source": [
    "index_afram= (X_test[\"race\"]==0)\n",
    "X_test_afram=X_test[index_afram]\n",
    "y_test_afram=y_test[index_afram]\n",
    "X_test_cau=X_test[-index_afram]\n",
    "y_test_cau=y_test[-index_afram]"
   ]
  },
  {
   "cell_type": "code",
   "execution_count": 8,
   "metadata": {
    "id": "P-PpERnWKhIZ"
   },
   "outputs": [],
   "source": [
    "index_afram= (X_train[\"race\"]==0)\n",
    "X_train_afram=X_train[index_afram]\n",
    "y_train_afram=y_train[index_afram]\n",
    "X_train_cau=X_train[-index_afram]\n",
    "y_train_cau=y_train[-index_afram]"
   ]
  },
  {
   "cell_type": "code",
   "execution_count": 9,
   "metadata": {
    "colab": {
     "base_uri": "https://localhost:8080/"
    },
    "id": "os9zoVlwv_hn",
    "outputId": "84d3f08e-6196-4797-b8f2-cd5619ba76b0"
   },
   "outputs": [
    {
     "name": "stdout",
     "output_type": "stream",
     "text": [
      "0.9807692307692307\n",
      "0.9860557768924303\n",
      "calibration score:  0.005286546123199565\n"
     ]
    }
   ],
   "source": [
    "#calibration\n",
    "print(clf.score(X_test_afram,y_test_afram))\n",
    "print(clf.score(X_test_cau,y_test_cau))\n",
    "print(\"calibration score: \",abs(clf.score(X_test_afram,y_test_afram)-clf.score(X_test_cau,y_test_cau)))"
   ]
  },
  {
   "cell_type": "markdown",
   "metadata": {},
   "source": [
    "# A5"
   ]
  },
  {
   "cell_type": "code",
   "execution_count": 25,
   "metadata": {},
   "outputs": [],
   "source": [
    "import torch as t\n",
    "import torch.nn as nn"
   ]
  },
  {
   "cell_type": "markdown",
   "metadata": {},
   "source": [
    "## Data Preprocessing"
   ]
  },
  {
   "cell_type": "code",
   "execution_count": 26,
   "metadata": {},
   "outputs": [],
   "source": [
    "data_filtered_afram = compas_df_filtered[compas_df_filtered['race']==0]\n",
    "data_filtered_cau = compas_df_filtered[compas_df_filtered['race']==1]\n",
    "\n",
    "#X_afram = data_filtered_afram[[\"race\",\"age\",\"priors_count\",\"juv_count\",'score_text',\"sex\",\"c_charge_degree\",\"decile_score\"]]\n",
    "#y_afram = data_filtered_afram[['two_year_recid']]\n",
    "\n",
    "X_afram = data_filtered_afram.drop([\"two_year_recid\"], axis=1)\n",
    "y_afram = data_filtered_afram[[\"two_year_recid\"]]\n",
    "\n",
    "X_cau = data_filtered_cau.drop([\"two_year_recid\"], axis=1)\n",
    "y_cau = data_filtered_cau[[\"two_year_recid\"]]\n",
    "\n",
    "#X_cau = data_filtered_cau[[\"race\",\"age\",\"priors_count\",\"juv_count\",'score_text',\"sex\",\"c_charge_degree\",\"decile_score\"]]\n",
    "#y_cau = data_filtered_cau[['two_year_recid']]"
   ]
  },
  {
   "cell_type": "code",
   "execution_count": 27,
   "metadata": {},
   "outputs": [],
   "source": [
    "X_train_afram, X_test_afram, y_train_afram, y_test_afram = train_test_split(X_afram, y_afram, test_size=0.2)\n",
    "X_train_cau, X_test_cau, y_train_cau, y_test_cau = train_test_split(X_cau, y_cau, test_size=0.2)"
   ]
  },
  {
   "cell_type": "markdown",
   "metadata": {},
   "source": [
    "## Data Preprocessing using Tensor"
   ]
  },
  {
   "cell_type": "code",
   "execution_count": 28,
   "metadata": {},
   "outputs": [],
   "source": [
    "def tensorX(X):\n",
    "    return t.tensor(np.array(X)).to(t.float32)\n",
    "\n",
    "def tensorY(X,Y):\n",
    "    return t.from_numpy(np.array(Y).astype('float32')).reshape(X.shape[0], 1)"
   ]
  },
  {
   "cell_type": "code",
   "execution_count": 29,
   "metadata": {},
   "outputs": [],
   "source": [
    "X_train_afram = tensorX(X_train_afram)\n",
    "X_test_afram = tensorX(X_test_afram)\n",
    "X_train_cau = tensorX(X_train_cau)\n",
    "X_test_cau = tensorX(X_test_cau)\n",
    "\n",
    "y_train_afram = tensorY(X_train_afram,y_train_afram)\n",
    "y_test_afram = tensorY(X_test_afram,y_test_afram)\n",
    "y_train_cau = tensorY(X_train_cau,y_train_cau)\n",
    "y_test_cau = tensorY(X_test_cau,y_test_cau)"
   ]
  },
  {
   "cell_type": "markdown",
   "metadata": {},
   "source": [
    "## Algorithm: Prejudice Remover Regularizer Loss Function"
   ]
  },
  {
   "cell_type": "code",
   "execution_count": 30,
   "metadata": {},
   "outputs": [],
   "source": [
    "#update LogisticRegression function\n",
    "class LogisticRegression(nn.Module):\n",
    "    def __init__(self,data):\n",
    "        super(LogisticRegression, self).__init__()\n",
    "        self.w = nn.Linear(data.shape[1], out_features=1, bias=True)\n",
    "        self.sigmod = nn.Sigmoid()\n",
    "    def forward(self, x):\n",
    "        w = self.w(x)\n",
    "        output = self.sigmod(w)\n",
    "        return output"
   ]
  },
  {
   "cell_type": "code",
   "execution_count": 31,
   "metadata": {},
   "outputs": [],
   "source": [
    "#Define the Prejudice Remover Regularizer Loss Function\n",
    "class PRLoss():\n",
    "    def __init__(self, eta=1.0):\n",
    "        super(PRLoss, self).__init__()\n",
    "        self.eta = eta       \n",
    "        \n",
    "    def PI(self,output_afram,output_cau):\n",
    "        N_afram = t.tensor(output_afram.shape[0])\n",
    "        N_cau   = t.tensor(output_cau.shape[0])\n",
    "        # calculate P[y|s]\n",
    "        P_ys = t.stack((t.sum(output_afram),t.sum(output_cau)),axis=0) / t.stack((N_afram,N_cau),axis=0)\n",
    "        # calculate P[y]\n",
    "        P_y = t.sum(t.cat((output_afram,output_cau),0)) / (X_train_afram.shape[0]+X_train_cau.shape[0])\n",
    "        # calculate PI\n",
    "        PI_s1y1 = output_afram * (t.log(P_ys[1]) - t.log(P_y))\n",
    "        PI_s1y0 =(1- output_afram) *(t.log(1-P_ys[1]) - t.log(1-P_y))\n",
    "        PI_s0y1 = output_cau * (t.log(P_ys[0]) - t.log(P_y))\n",
    "        PI_s0y0 = (1- output_cau)* (t.log(1-P_ys[0]) - t.log(1-P_y))\n",
    "        PI = t.sum(PI_s1y1) + t.sum(PI_s1y0) + t.sum(PI_s0y1) + t.sum(PI_s0y0)\n",
    "        PI = self.eta * PI\n",
    "        return PI"
   ]
  },
  {
   "cell_type": "markdown",
   "metadata": {},
   "source": [
    "## Algorithm:Logistical regression with Prejudice Remover Regularizer"
   ]
  },
  {
   "cell_type": "code",
   "execution_count": 32,
   "metadata": {},
   "outputs": [],
   "source": [
    "#This function has a hyperparameter eta which is the size of the regulating term in the loss function.\n",
    "#The fit method will give us the accuracy and caliberation of the fitted model\n",
    "class LogisticRegressionWithPRR():\n",
    "  \n",
    "    def __init__(self, eta=0.0, epochs=100, lr = 0.01):\n",
    "        super(LogisticRegressionWithPRR, self).__init__()\n",
    "        self.eta = eta\n",
    "        self.epochs = epochs\n",
    "        self.lr = lr\n",
    "        \n",
    "    def fit(self,X_train_afram,y_train_afram,X_train_cau,y_train_cau,X_test_afram, y_test_afram, X_test_cau, y_test_cau): \n",
    "        #LogisticRegression model\n",
    "        model_afram = LogisticRegression(X_train_afram)\n",
    "        model_cau = LogisticRegression(X_train_cau)\n",
    "        \n",
    "        criterion = nn.BCELoss()\n",
    "        PI = PRLoss(eta=self.eta)\n",
    "        epochs = self.epochs\n",
    "        \n",
    "        #L2 regularization (non-zero weight_decay)\n",
    "        optimizer = t.optim.Adam(list(model_afram.parameters())+ list(model_cau.parameters()), self.lr, weight_decay=1e-5)\n",
    "        \n",
    "        for epoch in range(epochs):\n",
    "            #train\n",
    "            model_afram.train()\n",
    "            model_cau.train()\n",
    "            \n",
    "            #zero out the gradients\n",
    "            optimizer.zero_grad()\n",
    "            \n",
    "            #compute loss\n",
    "            output_afram = model_afram(X_train_afram)\n",
    "            output_cau = model_cau(X_train_cau)\n",
    "            log_loss = criterion(output_afram, y_train_afram)+ criterion(output_cau, y_train_cau)\n",
    "            PI_loss = PI.PI(output_afram,output_cau)\n",
    "            loss = PI_loss +log_loss\n",
    "            \n",
    "            loss.backward()\n",
    "            optimizer.step()  \n",
    "        #eval\n",
    "        model_afram.eval()\n",
    "        model_cau.eval()\n",
    "        \n",
    "        #calculate accuracy\n",
    "        #Accuracy is the average of correctly predicted labels of two groups\n",
    "        #Caliberation is the difference of accuracy bewtween the two groups\n",
    "        y_pred_afram = (model_afram(X_test_afram) >= 0.5)\n",
    "        y_pred_cau = (model_cau(X_test_cau) >= 0.5)\n",
    "\n",
    "        #sum of correct prediction/total num\n",
    "        accuracy_afram  = t.sum(y_pred_afram == y_test_afram) / y_test_afram.shape[0]\n",
    "        accuracy_cau  = t.sum(y_pred_cau == y_test_cau) / y_test_cau.shape[0]\n",
    "\n",
    "        accuracy = (accuracy_afram + accuracy_cau) / 2\n",
    "        calibration = t.abs(accuracy_afram - accuracy_cau)\n",
    "        \n",
    "        return accuracy.item(), calibration.item(), accuracy_afram.item() , accuracy_cau.item()"
   ]
  },
  {
   "cell_type": "code",
   "execution_count": 41,
   "metadata": {
    "scrolled": true
   },
   "outputs": [
    {
     "data": {
      "text/plain": [
       "(0.43259480595588684,\n",
       " 0.15643197298049927,\n",
       " 0.5108107924461365,\n",
       " 0.3543788194656372)"
      ]
     },
     "execution_count": 41,
     "metadata": {},
     "output_type": "execute_result"
    }
   ],
   "source": [
    "PR = LogisticRegressionWithPRR(eta = 860, epochs = 100, lr = 1e-04)\n",
    "PR.fit(X_train_afram,y_train_afram,X_train_cau,y_train_cau, X_test_afram, y_test_afram, X_test_cau, y_test_cau)"
   ]
  },
  {
   "cell_type": "markdown",
   "metadata": {},
   "source": [
    "## Tuning Hyperparameter eta"
   ]
  },
  {
   "cell_type": "code",
   "execution_count": 42,
   "metadata": {},
   "outputs": [],
   "source": [
    "#Tuning the hyperparameter to find the best model\n",
    "eta=np.linspace(0, 100, num=1000)\n",
    "hist_acc=np.zeros(1000)\n",
    "hist_cal=np.zeros(1000)\n",
    "hist_afram = np.zeros(1000)\n",
    "hist_cau = np.zeros(1000)\n",
    "for i in range(1000):\n",
    "    PR = LogisticRegressionWithPRR(eta = eta[i], epochs = 100, lr = 1e-04)\n",
    "    results = PR.fit(X_train_afram,y_train_afram,X_train_cau,y_train_cau, X_test_afram, y_test_afram, X_test_cau, y_test_cau)\n",
    "    hist_acc[i]=results[0]\n",
    "    hist_cal[i]=results[1]\n",
    "    hist_afram[i]=results[2]\n",
    "    hist_cau[i]=results[3]"
   ]
  },
  {
   "cell_type": "code",
   "execution_count": 43,
   "metadata": {},
   "outputs": [
    {
     "name": "stdout",
     "output_type": "stream",
     "text": [
      "Accuracy:\n"
     ]
    },
    {
     "data": {
      "text/plain": [
       "0.7574337720870972"
      ]
     },
     "execution_count": 43,
     "metadata": {},
     "output_type": "execute_result"
    }
   ],
   "source": [
    "clf_accuracy = np.max(hist_acc)\n",
    "print(\"Accuracy:\")\n",
    "np.max(hist_acc)"
   ]
  },
  {
   "cell_type": "code",
   "execution_count": 44,
   "metadata": {
    "scrolled": true
   },
   "outputs": [
    {
     "name": "stdout",
     "output_type": "stream",
     "text": [
      "Calibration Score:\n"
     ]
    },
    {
     "data": {
      "text/plain": [
       "0.0851324200630188"
      ]
     },
     "execution_count": 44,
     "metadata": {},
     "output_type": "execute_result"
    }
   ],
   "source": [
    "A5_cal_score = np.min(hist_cal)\n",
    "print(\"Calibration Score:\")\n",
    "hist_cal[np.argmax(hist_acc)] #calibration decreases"
   ]
  },
  {
   "cell_type": "code",
   "execution_count": 45,
   "metadata": {},
   "outputs": [
    {
     "name": "stdout",
     "output_type": "stream",
     "text": [
      "Accuracy:\n"
     ]
    },
    {
     "data": {
      "text/plain": [
       "0.6058223247528076"
      ]
     },
     "execution_count": 45,
     "metadata": {},
     "output_type": "execute_result"
    }
   ],
   "source": [
    "#clf_accuracy = hist_acc[np.argmin(hist_cal)]\n",
    "print(\"Accuracy:\")\n",
    "hist_acc[np.argmin(hist_cal)]"
   ]
  },
  {
   "cell_type": "code",
   "execution_count": 46,
   "metadata": {
    "scrolled": true
   },
   "outputs": [
    {
     "name": "stdout",
     "output_type": "stream",
     "text": [
      "Calibration Score:\n"
     ]
    },
    {
     "data": {
      "text/plain": [
       "0.0018687844276428223"
      ]
     },
     "execution_count": 46,
     "metadata": {},
     "output_type": "execute_result"
    }
   ],
   "source": [
    "#A5_cal_score = np.min(hist_cal)\n",
    "print(\"Calibration Score:\")\n",
    "np.min(hist_cal) #minimum calibration"
   ]
  },
  {
   "cell_type": "code",
   "execution_count": 47,
   "metadata": {
    "scrolled": true
   },
   "outputs": [
    {
     "data": {
      "text/plain": [
       "array([0.00186878, 0.00220457, 0.00247699, 0.00727418, 0.00727418])"
      ]
     },
     "execution_count": 47,
     "metadata": {},
     "output_type": "execute_result"
    }
   ],
   "source": [
    "#np.sort(hist_cal)[0:5]\n",
    "hist_cal_new = hist_cal\n",
    "np.sort(hist_cal_new)[0:5]"
   ]
  },
  {
   "cell_type": "code",
   "execution_count": 55,
   "metadata": {},
   "outputs": [
    {
     "data": {
      "text/plain": [
       "(array([158, 745, 897], dtype=int64),)"
      ]
     },
     "execution_count": 55,
     "metadata": {},
     "output_type": "execute_result"
    }
   ],
   "source": [
    "np.where(hist_cal <= 0.0025)"
   ]
  },
  {
   "cell_type": "code",
   "execution_count": 56,
   "metadata": {},
   "outputs": [
    {
     "data": {
      "text/plain": [
       "0.6203831434249878"
      ]
     },
     "execution_count": 56,
     "metadata": {},
     "output_type": "execute_result"
    }
   ],
   "source": [
    "hist_acc[158]"
   ]
  },
  {
   "cell_type": "code",
   "execution_count": 57,
   "metadata": {},
   "outputs": [],
   "source": [
    "A5_acc = hist_acc[158]\n",
    "A5_calibration = np.sort(hist_cal_new)[2]"
   ]
  },
  {
   "cell_type": "markdown",
   "metadata": {
    "id": "npGSh6Rc4XEm"
   },
   "source": [
    "# A6"
   ]
  },
  {
   "cell_type": "code",
   "execution_count": 96,
   "metadata": {},
   "outputs": [],
   "source": [
    "import numpy as np\n",
    "import pandas as pd\n",
    "from sklearn.model_selection import train_test_split\n",
    "from sklearn.linear_model import LogisticRegression\n",
    "from sklearn.metrics import confusion_matrix\n",
    "import matplotlib.pyplot as plt"
   ]
  },
  {
   "cell_type": "markdown",
   "metadata": {
    "id": "ZCvk4rRGwmW9"
   },
   "source": [
    "## Data Loading and Preprocessing"
   ]
  },
  {
   "cell_type": "code",
   "execution_count": 97,
   "metadata": {
    "colab": {
     "base_uri": "https://localhost:8080/"
    },
    "id": "jsb2K-Etwo19",
    "outputId": "eec4dbae-d6df-4b8a-ea14-7835e87cbea3"
   },
   "outputs": [],
   "source": [
    "compas_df= pd.read_csv('../data/compas-scores-two-years.csv')\n",
    "\n",
    "#Use the data of African American and Caucasian\n",
    "\n",
    "races = ['African-American','Caucasian']\n",
    "\n",
    "compas_df=compas_df[compas_df.race.isin(races)]\n",
    "\n",
    "compas_df.head()\n",
    "\n",
    "#use only specific columns for future prediction\n",
    "compas_df_filtered = compas_df.loc[:, ['race']].join(compas_df.select_dtypes(include=['int64']))\n",
    "#drop id and duplicate columns\n",
    "compas_df_filtered = compas_df_filtered.drop(['id','decile_score.1', 'priors_count.1'], axis=1)\n",
    "#compas_df_filtered = df[[\"two_year_recid\",\"race\",\"age\",\"priors_count\",\"juv_count\",'score_text',\"sex\",\"c_charge_degree\",\"decile_score\"]]\n",
    "#compas_df_filtered.head()\n"
   ]
  },
  {
   "cell_type": "markdown",
   "metadata": {},
   "source": [
    "## Implemntaion of algorithms"
   ]
  },
  {
   "cell_type": "code",
   "execution_count": 98,
   "metadata": {
    "id": "rSwxZCINHI1W"
   },
   "outputs": [],
   "source": [
    "#for the algorithms below, we apply on the whole dataset\n",
    "X=compas_df_filtered\n",
    "s=X.race\n",
    "e=X.decile_score \n",
    "y=X.two_year_recid \n",
    "\n",
    "\n",
    "\n",
    "def PARTITION(X, e):\n",
    "    unique_values = e.unique()  # find unique values of e\n",
    "    groups = {}  # initialize empty dictionary to store resulting DataFrames\n",
    "    \n",
    "    for val in unique_values:\n",
    "        group_df = X[e == val]  # filter rows in X where e equals current unique value\n",
    "        groups[val] = group_df  # store resulting DataFrame in dictionary with key = unique value\n",
    "        \n",
    "    return groups  # return dictionary of resulting DataFrames"
   ]
  },
  {
   "cell_type": "code",
   "execution_count": 99,
   "metadata": {
    "id": "mv4HYCFjHWhM"
   },
   "outputs": [
    {
     "name": "stdout",
     "output_type": "stream",
     "text": [
      "[ 3  4  8  6  1 10  5  9  2  7]\n"
     ]
    }
   ],
   "source": [
    "resulting_groups = PARTITION(X, e)\n",
    "first_group_df = resulting_groups[1]\n",
    "#print(first_group_df.head)\n",
    "\n",
    "unique_values = e.unique() \n",
    "print(unique_values)"
   ]
  },
  {
   "cell_type": "code",
   "execution_count": 100,
   "metadata": {
    "colab": {
     "base_uri": "https://localhost:8080/",
     "height": 672
    },
    "id": "AWOlnqBNIVCB",
    "outputId": "df974dc2-639c-48cb-8cb8-5a99987bd0b3"
   },
   "outputs": [],
   "source": [
    "\n",
    "def delta(X, gender):\n",
    "    # calculate the baseline probabilities\n",
    "    p_pos_base = X.two_year_recid.mean()\n",
    "\n",
    "    # calculate probabilities conditioned on gender\n",
    "    p_pos_gender = X[X.race == gender].two_year_recid.mean()\n",
    "    \n",
    "\n",
    "    # calculate the number of gender people in X\n",
    "    G = len(X[X.race == gender])\n",
    "\n",
    "    # calculate delta\n",
    "    \n",
    "    delta_val = G * abs(p_pos_gender - p_pos_base)\n",
    "    \n",
    "\n",
    "    return int(delta_val)\n"
   ]
  },
  {
   "cell_type": "code",
   "execution_count": 101,
   "metadata": {},
   "outputs": [
    {
     "name": "stdout",
     "output_type": "stream",
     "text": [
      "11\n",
      "10\n",
      "3\n",
      "1\n",
      "5\n",
      "4\n",
      "3\n",
      "1\n",
      "1\n",
      "2\n"
     ]
    }
   ],
   "source": [
    "for group in resulting_groups.values():\n",
    "    print(delta(group,'Caucasian'))"
   ]
  },
  {
   "cell_type": "markdown",
   "metadata": {
    "id": "L5D4LqW390kY"
   },
   "source": [
    "## Algorithm: Local massaging"
   ]
  },
  {
   "cell_type": "code",
   "execution_count": 102,
   "metadata": {
    "colab": {
     "base_uri": "https://localhost:8080/"
    },
    "id": "_iUloSfy92jD",
    "outputId": "55825e9f-67fd-4ed3-86ac-2f7c45950e8a"
   },
   "outputs": [
    {
     "name": "stderr",
     "output_type": "stream",
     "text": [
      "C:\\Users\\zhang\\Anaconda3\\lib\\site-packages\\pandas\\core\\indexing.py:1773: SettingWithCopyWarning: \n",
      "A value is trying to be set on a copy of a slice from a DataFrame.\n",
      "Try using .loc[row_indexer,col_indexer] = value instead\n",
      "\n",
      "See the caveats in the documentation: https://pandas.pydata.org/pandas-docs/stable/user_guide/indexing.html#returning-a-view-versus-a-copy\n",
      "  self._setitem_single_column(ilocs[0], value, pi)\n",
      "C:\\Users\\zhang\\Anaconda3\\lib\\site-packages\\pandas\\core\\indexing.py:1773: SettingWithCopyWarning: \n",
      "A value is trying to be set on a copy of a slice from a DataFrame.\n",
      "Try using .loc[row_indexer,col_indexer] = value instead\n",
      "\n",
      "See the caveats in the documentation: https://pandas.pydata.org/pandas-docs/stable/user_guide/indexing.html#returning-a-view-versus-a-copy\n",
      "  self._setitem_single_column(ilocs[0], value, pi)\n",
      "C:\\Users\\zhang\\Anaconda3\\lib\\site-packages\\pandas\\core\\indexing.py:1773: SettingWithCopyWarning: \n",
      "A value is trying to be set on a copy of a slice from a DataFrame.\n",
      "Try using .loc[row_indexer,col_indexer] = value instead\n",
      "\n",
      "See the caveats in the documentation: https://pandas.pydata.org/pandas-docs/stable/user_guide/indexing.html#returning-a-view-versus-a-copy\n",
      "  self._setitem_single_column(ilocs[0], value, pi)\n",
      "C:\\Users\\zhang\\Anaconda3\\lib\\site-packages\\pandas\\core\\indexing.py:1773: SettingWithCopyWarning: \n",
      "A value is trying to be set on a copy of a slice from a DataFrame.\n",
      "Try using .loc[row_indexer,col_indexer] = value instead\n",
      "\n",
      "See the caveats in the documentation: https://pandas.pydata.org/pandas-docs/stable/user_guide/indexing.html#returning-a-view-versus-a-copy\n",
      "  self._setitem_single_column(ilocs[0], value, pi)\n",
      "C:\\Users\\zhang\\Anaconda3\\lib\\site-packages\\pandas\\core\\indexing.py:1773: SettingWithCopyWarning: \n",
      "A value is trying to be set on a copy of a slice from a DataFrame.\n",
      "Try using .loc[row_indexer,col_indexer] = value instead\n",
      "\n",
      "See the caveats in the documentation: https://pandas.pydata.org/pandas-docs/stable/user_guide/indexing.html#returning-a-view-versus-a-copy\n",
      "  self._setitem_single_column(ilocs[0], value, pi)\n",
      "C:\\Users\\zhang\\Anaconda3\\lib\\site-packages\\pandas\\core\\indexing.py:1773: SettingWithCopyWarning: \n",
      "A value is trying to be set on a copy of a slice from a DataFrame.\n",
      "Try using .loc[row_indexer,col_indexer] = value instead\n",
      "\n",
      "See the caveats in the documentation: https://pandas.pydata.org/pandas-docs/stable/user_guide/indexing.html#returning-a-view-versus-a-copy\n",
      "  self._setitem_single_column(ilocs[0], value, pi)\n",
      "C:\\Users\\zhang\\Anaconda3\\lib\\site-packages\\pandas\\core\\indexing.py:1773: SettingWithCopyWarning: \n",
      "A value is trying to be set on a copy of a slice from a DataFrame.\n",
      "Try using .loc[row_indexer,col_indexer] = value instead\n",
      "\n",
      "See the caveats in the documentation: https://pandas.pydata.org/pandas-docs/stable/user_guide/indexing.html#returning-a-view-versus-a-copy\n",
      "  self._setitem_single_column(ilocs[0], value, pi)\n",
      "C:\\Users\\zhang\\Anaconda3\\lib\\site-packages\\pandas\\core\\indexing.py:1773: SettingWithCopyWarning: \n",
      "A value is trying to be set on a copy of a slice from a DataFrame.\n",
      "Try using .loc[row_indexer,col_indexer] = value instead\n",
      "\n",
      "See the caveats in the documentation: https://pandas.pydata.org/pandas-docs/stable/user_guide/indexing.html#returning-a-view-versus-a-copy\n",
      "  self._setitem_single_column(ilocs[0], value, pi)\n",
      "C:\\Users\\zhang\\Anaconda3\\lib\\site-packages\\pandas\\core\\indexing.py:1773: SettingWithCopyWarning: \n",
      "A value is trying to be set on a copy of a slice from a DataFrame.\n",
      "Try using .loc[row_indexer,col_indexer] = value instead\n",
      "\n",
      "See the caveats in the documentation: https://pandas.pydata.org/pandas-docs/stable/user_guide/indexing.html#returning-a-view-versus-a-copy\n",
      "  self._setitem_single_column(ilocs[0], value, pi)\n",
      "C:\\Users\\zhang\\Anaconda3\\lib\\site-packages\\pandas\\core\\indexing.py:1773: SettingWithCopyWarning: \n",
      "A value is trying to be set on a copy of a slice from a DataFrame.\n",
      "Try using .loc[row_indexer,col_indexer] = value instead\n",
      "\n",
      "See the caveats in the documentation: https://pandas.pydata.org/pandas-docs/stable/user_guide/indexing.html#returning-a-view-versus-a-copy\n",
      "  self._setitem_single_column(ilocs[0], value, pi)\n"
     ]
    }
   ],
   "source": [
    "\n",
    "#Algorithm 1: Local massaging\n",
    "resulting_groups = PARTITION(X, e)\n",
    "updated_groups_1 = []\n",
    "for group in resulting_groups.values():\n",
    "    males = group[group.race == 'Caucasian']\n",
    "    females = group[group.race == 'African-American']\n",
    "    \n",
    "    # learn a ranker H for this group\n",
    "    H = LogisticRegression(random_state=42,max_iter=500)\n",
    "    H.fit(group.drop(['race','two_year_recid'], axis=1), group.two_year_recid)\n",
    "    \n",
    "    # rank and relabel males\n",
    "    males_females = pd.concat([males,females])\n",
    "    males_females['proba'] = H.predict_proba(males_females.drop(['two_year_recid','race'], axis=1))[:, 1]\n",
    "\n",
    "   \n",
    "    males_females = males_females.sort_values(by='proba')\n",
    "    \n",
    "    \n",
    "    delta_males = int(delta(group, 'Caucasian'))\n",
    " \n",
    "    males_to_relabel = males_females[(males_females['race'] == 'Caucasian') & (males_females['two_year_recid'] == 0) & (males_females['proba'] < 0.5)].head(delta_males)\n",
    "    group.loc[males_to_relabel.index, 'two_year_recid'] = 1 - males_to_relabel.two_year_recid\n",
    "    \n",
    "    # rank and relabel females\n",
    "    delta_females = int(delta(group, 'African-American'))\n",
    "    females_to_relabel = males_females[(males_females['race'] == 'African-American') & (males_females['two_year_recid'] == 1) & (males_females['proba'] > 0.5)].head(delta_females)\n",
    "    group.loc[females_to_relabel.index, 'two_year_recid'] = 1 - females_to_relabel.two_year_recid\n",
    "    \n",
    "    updated_groups_1.append(group)\n"
   ]
  },
  {
   "cell_type": "code",
   "execution_count": 103,
   "metadata": {
    "id": "uak2iAZeCUJB"
   },
   "outputs": [
    {
     "name": "stdout",
     "output_type": "stream",
     "text": [
      "67\n"
     ]
    }
   ],
   "source": [
    "updated_df_1 = pd.concat(updated_groups_1)\n",
    "updated_df_1 = updated_df_1.sort_index()\n",
    "print(sum(updated_df_1['two_year_recid']!=compas_df_filtered['two_year_recid']))\n",
    "#67 labels have been changed"
   ]
  },
  {
   "cell_type": "markdown",
   "metadata": {
    "id": "fRiYXp5_LXDb"
   },
   "source": [
    "## Algorithm: Local preferential sampling"
   ]
  },
  {
   "cell_type": "code",
   "execution_count": 104,
   "metadata": {
    "id": "UZuSGUy3LaZm"
   },
   "outputs": [],
   "source": [
    "\n",
    "#Algorithm 2:  Local preferential sampling\n",
    "resulting_groups = PARTITION(X, e)\n",
    "updated_groups_2 = []\n",
    "for group in resulting_groups.values():\n",
    "    males = group[group.race == 'Caucasian']\n",
    "    females = group[group.race == 'African-American']\n",
    "    \n",
    "    # learn a ranker H for this group\n",
    "    H = LogisticRegression(random_state=42,max_iter=500)\n",
    "    H.fit(group.drop(['race','two_year_recid'], axis=1), group.two_year_recid)\n",
    "    \n",
    "    # rank delete,and relabel males\n",
    "    males_females = pd.concat([males, females])\n",
    "    males_females['proba'] = H.predict_proba(males_females.drop(['two_year_recid', 'race'], axis=1))[:, 1]\n",
    "    males_females = males_females.sort_values(by='proba')\n",
    "    delta_males = int(0.5*delta(group, 'Caucasian'))\n",
    "    \n",
    "    \n",
    "    males_to_delete = males_females[(males_females['race'] == 'Caucasian') & (males_females['two_year_recid'] == 1) & (males_females['proba'] < 0.5)].tail(delta_males)\n",
    "    males_to_duplicate = males_females[(males_females['race'] == 'Caucasian') & (males_females['two_year_recid'] == 0) & (males_females['proba'] > 0.5)].head(delta_males)\n",
    "    group = group[~group.index.isin(males_to_delete.index)]\n",
    "    group = pd.concat([group, males_to_duplicate], ignore_index=True)\n",
    "    \n",
    "    # rank delete,and relabel females\n",
    "    delta_females = int(0.5*delta(group, 'African-American'))\n",
    "    females_to_delete = males_females[(males_females['race'] == 'African-American') & (males_females['two_year_recid'] == 0) & (males_females['proba'] > 0.5)].tail(delta_females)\n",
    "    females_to_duplicate = males_females[(males_females['race'] == 'African-American') & (males_females['two_year_recid'] == 1) & (males_females['proba'] < 0.5)].head(delta_females)\n",
    "    group = group[~group.index.isin(females_to_delete.index)]\n",
    "    group = pd.concat([group, females_to_duplicate], ignore_index=True)\n",
    "    \n",
    "    updated_groups_2.append(group)\n",
    "    \n",
    "updated_df_2 = pd.concat(updated_groups_2)\n",
    "\n",
    "#Now we have 3 data frames.compas_df_filtered is the original one. updated_df_1 is the one of algorithm1 updated_df_1 is the one of algorithm12\n",
    "   \n"
   ]
  },
  {
   "cell_type": "code",
   "execution_count": 105,
   "metadata": {
    "id": "VZ9v6jpYM_QT"
   },
   "outputs": [],
   "source": [
    "# split the data into train, validation and test set\n",
    "\n",
    "# Split data into training and validation/test sets\n",
    "train_df, val_test_df = train_test_split(compas_df_filtered, test_size=0.2, random_state=42)\n",
    "\n",
    "# Split validation/test set into validation and test sets\n",
    "val_df, test_df = train_test_split(val_test_df, test_size=0.5, random_state=42)\n",
    "\n",
    "\n",
    "\n",
    "# Split data into training and validation/test sets\n",
    "train_df_algo1, val_test_df_algo1 = train_test_split(updated_df_1, test_size=0.2, random_state=42)\n",
    "\n",
    "# Split validation/test set into validation and test sets\n",
    "val_df_algo1, test_df_algo1 = train_test_split(val_test_df_algo1, test_size=0.5, random_state=42)\n",
    "\n",
    "\n",
    "# Split data into training and validation/test sets\n",
    "train_df_algo2, val_test_df_algo2 = train_test_split(updated_df_2, test_size=0.2, random_state=42)\n",
    "\n",
    "# Split validation/test set into validation and test sets\n",
    "val_df_algo2, test_df_algo2 = train_test_split(val_test_df_algo2, test_size=0.5, random_state=42)\n"
   ]
  },
  {
   "cell_type": "code",
   "execution_count": 106,
   "metadata": {
    "colab": {
     "base_uri": "https://localhost:8080/"
    },
    "id": "We5aSq_SP-xU",
    "outputId": "9afbef3d-1b38-490a-c396-d37b2cc4eddb"
   },
   "outputs": [
    {
     "name": "stderr",
     "output_type": "stream",
     "text": [
      "C:\\Users\\zhang\\Anaconda3\\lib\\site-packages\\sklearn\\linear_model\\_logistic.py:818: ConvergenceWarning: lbfgs failed to converge (status=1):\n",
      "STOP: TOTAL NO. of ITERATIONS REACHED LIMIT.\n",
      "\n",
      "Increase the number of iterations (max_iter) or scale the data as shown in:\n",
      "    https://scikit-learn.org/stable/modules/preprocessing.html\n",
      "Please also refer to the documentation for alternative solver options:\n",
      "    https://scikit-learn.org/stable/modules/linear_model.html#logistic-regression\n",
      "  extra_warning_msg=_LOGISTIC_SOLVER_CONVERGENCE_MSG,\n",
      "C:\\Users\\zhang\\Anaconda3\\lib\\site-packages\\sklearn\\linear_model\\_logistic.py:818: ConvergenceWarning: lbfgs failed to converge (status=1):\n",
      "STOP: TOTAL NO. of ITERATIONS REACHED LIMIT.\n",
      "\n",
      "Increase the number of iterations (max_iter) or scale the data as shown in:\n",
      "    https://scikit-learn.org/stable/modules/preprocessing.html\n",
      "Please also refer to the documentation for alternative solver options:\n",
      "    https://scikit-learn.org/stable/modules/linear_model.html#logistic-regression\n",
      "  extra_warning_msg=_LOGISTIC_SOLVER_CONVERGENCE_MSG,\n",
      "C:\\Users\\zhang\\Anaconda3\\lib\\site-packages\\sklearn\\linear_model\\_logistic.py:818: ConvergenceWarning: lbfgs failed to converge (status=1):\n",
      "STOP: TOTAL NO. of ITERATIONS REACHED LIMIT.\n",
      "\n",
      "Increase the number of iterations (max_iter) or scale the data as shown in:\n",
      "    https://scikit-learn.org/stable/modules/preprocessing.html\n",
      "Please also refer to the documentation for alternative solver options:\n",
      "    https://scikit-learn.org/stable/modules/linear_model.html#logistic-regression\n",
      "  extra_warning_msg=_LOGISTIC_SOLVER_CONVERGENCE_MSG,\n"
     ]
    },
    {
     "data": {
      "text/plain": [
       "LogisticRegression()"
      ]
     },
     "execution_count": 106,
     "metadata": {},
     "output_type": "execute_result"
    }
   ],
   "source": [
    "X_train1 = train_df.drop(['is_recid','race'], axis=1)\n",
    "y_train1 = train_df['is_recid']\n",
    "                       \n",
    "X_train2 = train_df_algo1.drop(['is_recid','race'], axis=1)\n",
    "y_train2 = train_df_algo1['is_recid']                                \n",
    "                                \n",
    "X_train3 = train_df_algo2.drop(['is_recid','race','proba'], axis=1)\n",
    "y_train3 = train_df_algo2['is_recid']\n",
    "\n",
    "\n",
    "\n",
    "# Fit logistic regression model for X_train1\n",
    "logreg1 = LogisticRegression()\n",
    "logreg1.fit(X_train1, y_train1)\n",
    "\n",
    "\n",
    "# Fit logistic regression model for X_train2\n",
    "logreg2 = LogisticRegression()\n",
    "logreg2.fit(X_train2, y_train2)\n",
    "\n",
    "# Fit logistic regression model for X_train3\n",
    "logreg3 = LogisticRegression()\n",
    "logreg3.fit(X_train3, y_train3)\n",
    "\n"
   ]
  },
  {
   "cell_type": "code",
   "execution_count": 107,
   "metadata": {
    "colab": {
     "base_uri": "https://localhost:8080/"
    },
    "id": "wv_YIG3MOFtr",
    "outputId": "686d2706-5a52-4a7c-d9f1-0a67fa68acc9"
   },
   "outputs": [],
   "source": [
    "#Get results for validation set\n",
    "# For X_val1\n",
    "X_val1 = val_df.drop(['is_recid','race'], axis=1)\n",
    "y_val1 = val_df['is_recid']\n",
    "y_pred_val1 = logreg1.predict(X_val1)\n",
    "\n",
    "\n",
    "# For X_val2\n",
    "X_val2 = val_df_algo1.drop(['is_recid','race'], axis=1)\n",
    "y_val2 = val_df_algo1['is_recid']\n",
    "y_pred_val2 = logreg2.predict(X_val2)\n",
    "\n",
    "\n",
    "# For X_val3\n",
    "X_val3 = val_df_algo2.drop(['is_recid','race','proba'], axis=1)\n",
    "y_val3 = val_df_algo2['is_recid']\n",
    "y_pred_val3 = logreg3.predict(X_val3)\n",
    "\n"
   ]
  },
  {
   "cell_type": "code",
   "execution_count": 108,
   "metadata": {
    "colab": {
     "base_uri": "https://localhost:8080/"
    },
    "id": "jgzoYgAkQux_",
    "outputId": "e94c0e04-d424-422f-981b-41f4b2af889d"
   },
   "outputs": [],
   "source": [
    "#Get results for test set\n",
    "# For X_test1\n",
    "X_test1 = test_df.drop(['is_recid','race'], axis=1)\n",
    "y_test1 = test_df['is_recid']\n",
    "y_pred_test1 = logreg1.predict(X_test1)\n",
    "\n",
    "\n",
    "# For X_test2\n",
    "X_test2 = test_df_algo1.drop(['is_recid','race'], axis=1)\n",
    "y_test2 = test_df_algo1['is_recid']\n",
    "y_pred_test2 = logreg2.predict(X_test2)\n",
    "\n",
    "\n",
    "# For X_test3\n",
    "X_test3 = test_df_algo2.drop(['is_recid','race','proba'], axis=1)\n",
    "y_test3 = test_df_algo2['is_recid']\n",
    "y_pred_test3 = logreg3.predict(X_test3)\n",
    "\n"
   ]
  },
  {
   "cell_type": "code",
   "execution_count": 109,
   "metadata": {},
   "outputs": [],
   "source": [
    "# Make a copy of the original test dataframes\n",
    "test_df1 = test_df.copy()\n",
    "test_df2 = test_df_algo1.copy()\n",
    "test_df3 = test_df_algo2.copy()\n",
    "\n",
    "\n",
    "test_df1[\"y_pred\"] = y_pred_test1\n",
    "test_df2[\"y_pred\"] = y_pred_test2\n",
    "test_df3[\"y_pred\"] = y_pred_test3\n"
   ]
  },
  {
   "cell_type": "code",
   "execution_count": 110,
   "metadata": {},
   "outputs": [],
   "source": [
    "# Define function to compute D_all and D_bad\n",
    "\n",
    "\n",
    "\n",
    "def compute_D(test_df, y_pred):\n",
    "    # Compute D_all\n",
    "    D_all = test_df.loc[test_df['race'] == 'African-American', y_pred].mean() - \\\n",
    "            test_df.loc[test_df['race'] == 'Caucasian', y_pred].mean()\n",
    "\n",
    "    # Compute D_bad\n",
    "    decile_scores = list(range(1, 6))\n",
    "    D_bad = 0\n",
    "    \n",
    "    for score in decile_scores:\n",
    "        P_score = test_df.loc[(test_df['race'] == 'African-American') & (test_df['decile_score'] == score), y_pred].mean()\n",
    "        P_score -= test_df.loc[(test_df['race'] == 'Caucasian') & (test_df['decile_score'] == score), y_pred].mean()\n",
    "        P_y = test_df.loc[test_df['decile_score'] == score, y_pred].mean()\n",
    "        D_bad += ((P_score) * (P_y))\n",
    "\n",
    "    \n",
    "    \n",
    "    \n",
    "    return D_all, D_bad\n",
    "\n",
    "# Compute D_all and D_bad for the three logistic regression models on the three test sets\n",
    "D_all_1, D_bad_1 = compute_D(test_df1, 'two_year_recid')\n",
    "D_all_2, D_bad_2 = compute_D(test_df2, 'two_year_recid')\n",
    "D_all_3, D_bad_3 = compute_D(test_df3, 'two_year_recid')\n",
    "\n",
    "\n"
   ]
  },
  {
   "cell_type": "code",
   "execution_count": 111,
   "metadata": {},
   "outputs": [
    {
     "data": {
      "image/png": "[encoded data removed]",
      "text/plain": [
       "<Figure size 640x480 with 1 Axes>"
      ]
     },
     "metadata": {},
     "output_type": "display_data"
    },
    {
     "name": "stdout",
     "output_type": "stream",
     "text": [
      "[0.13573754620665374, 0.09924529132195037, 0.11945715462632062]\n",
      "[0.11922600741704245, 0.07281751731787592, 0.02948165449549718]\n"
     ]
    }
   ],
   "source": [
    "\n",
    "\n",
    "# Calculate D_all and D_bad for each model on the test set\n",
    "D_all_test = [D_all_1,D_all_2,D_all_3]\n",
    "D_bad_test = [D_bad_1, D_bad_2, D_bad_3]\n",
    "\n",
    "plt.plot(['Baseline', 'Local massaging', 'Local preferential sampling'], D_all_test, label='D_all')\n",
    "plt.plot(['Baseline', 'Local massaging', 'Local preferential sampling'], D_bad_test, label='D_bad')\n",
    "\n",
    "# Add axis labels and title\n",
    "plt.xlabel('Model')\n",
    "plt.ylabel('D')\n",
    "plt.title('D_all and D_bad for 3 models on test set')\n",
    "\n",
    "# Add legend\n",
    "plt.legend()\n",
    "\n",
    "# Show the plot\n",
    "plt.show()\n",
    "\n",
    "\n",
    "print(D_all_test)\n",
    "print(D_bad_test)"
   ]
  },
  {
   "cell_type": "markdown",
   "metadata": {
    "id": "O5LUwohfGXdw"
   },
   "source": [
    "# Comparision plots:"
   ]
  },
  {
   "cell_type": "code",
   "execution_count": 112,
   "metadata": {},
   "outputs": [
    {
     "data": {
      "image/png": "[encoded data removed]",
      "text/plain": [
       "<Figure size 1000x500 with 2 Axes>"
      ]
     },
     "metadata": {},
     "output_type": "display_data"
    }
   ],
   "source": [
    "from sklearn.metrics import accuracy_score\n",
    "import matplotlib.pyplot as plt\n",
    "\n",
    "# Define function to compute calibration\n",
    "def compute_calibration(df):\n",
    "    african_american = df[df['race'] == 'African-American']\n",
    "    caucasian = df[df['race'] == 'Caucasian']\n",
    "    african_american_accuracy = accuracy_score(african_american['two_year_recid'], african_american['y_pred'])\n",
    "    caucasian_accuracy = accuracy_score(caucasian['two_year_recid'], caucasian['y_pred'])\n",
    "    return abs(african_american_accuracy - caucasian_accuracy)\n",
    "\n",
    "# Compute accuracy and calibration for test set 1\n",
    "accuracy_test1 = accuracy_score(test_df1['two_year_recid'], test_df1['y_pred'])\n",
    "calibration_test1 = compute_calibration(test_df1)\n",
    "baseline_cal=calibration_test1*len((e.unique()))\n",
    "\n",
    "# Compute accuracy and calibration for test set 2\n",
    "accuracy_test2 = accuracy_score(test_df2['two_year_recid'], test_df2['y_pred'])\n",
    "calibration_test2 = compute_calibration(test_df2)\n",
    "\n",
    "# Compute accuracy and calibration for test set 3\n",
    "accuracy_test3 = accuracy_score(test_df3['two_year_recid'], test_df3['y_pred'])\n",
    "calibration_test3 = compute_calibration(test_df3)\n",
    "\n",
    "A5_acc = hist_acc[158]\n",
    "A5_calibration = np.sort(hist_cal_new)[2]\n",
    "\n",
    "# Plot results\n",
    "accuracies = [accuracy_test1,A5_acc, accuracy_test2, accuracy_test3]\n",
    "calibrations = [baseline_cal, A5_calibration,calibration_test2, calibration_test3]\n",
    "\n",
    "\n",
    "\n",
    "models = ['Baseline', 'A5', 'A6 LM','A6 LPS']\n",
    "accs = accuracies\n",
    "cals = calibrations\n",
    "\n",
    "fig, axs = plt.subplots(nrows=1, ncols=2, figsize=(10, 5))\n",
    "axs[0].bar(models, accuracies)\n",
    "axs[0].set_title('Accuracy on test sets')\n",
    "axs[1].bar(models, calibrations)\n",
    "axs[1].set_title('Calibration on test sets')\n",
    "plt.show()\n",
    "\n",
    "\n",
    "\n",
    "\n",
    "\n",
    "\n"
   ]
  }
 ],
 "metadata": {
  "accelerator": "GPU",
  "colab": {
   "collapsed_sections": [
    "tl4rIzPdTqZI"
   ],
   "provenance": []
  },
  "gpuClass": "standard",
  "hide_input": false,
  "kernelspec": {
   "display_name": "Python 3 (ipykernel)",
   "language": "python",
   "name": "python3"
  },
  "language_info": {
   "codemirror_mode": {
    "name": "ipython",
    "version": 3
   },
   "file_extension": ".py",
   "mimetype": "text/x-python",
   "name": "python",
   "nbconvert_exporter": "python",
   "pygments_lexer": "ipython3",
   "version": "3.7.6"
  }
 },
 "nbformat": 4,
 "nbformat_minor": 1
}
