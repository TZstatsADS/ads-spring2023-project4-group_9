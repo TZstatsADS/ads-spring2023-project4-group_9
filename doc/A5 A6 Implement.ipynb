{
 "cells": [
  {
   "cell_type": "code",
   "execution_count": 2,
   "id": "a71d1fdf",
   "metadata": {},
   "outputs": [],
   "source": [
    "import numpy as np\n",
    "import pandas as pd\n",
    "from sklearn.model_selection import train_test_split\n",
    "from sklearn.linear_model import LogisticRegression\n",
    "from sklearn.metrics import confusion_matrix\n",
    "import matplotlib.pyplot as plt"
   ]
  },
  {
   "cell_type": "markdown",
   "id": "8847abab",
   "metadata": {},
   "source": [
    "# Data Loading and Preprocessing"
   ]
  },
  {
   "cell_type": "code",
   "execution_count": 3,
   "id": "f1ab5f2a",
   "metadata": {},
   "outputs": [
    {
     "data": {
      "text/html": [
       "<div>\n",
       "<style scoped>\n",
       "    .dataframe tbody tr th:only-of-type {\n",
       "        vertical-align: middle;\n",
       "    }\n",
       "\n",
       "    .dataframe tbody tr th {\n",
       "        vertical-align: top;\n",
       "    }\n",
       "\n",
       "    .dataframe thead th {\n",
       "        text-align: right;\n",
       "    }\n",
       "</style>\n",
       "<table border=\"1\" class=\"dataframe\">\n",
       "  <thead>\n",
       "    <tr style=\"text-align: right;\">\n",
       "      <th></th>\n",
       "      <th>race</th>\n",
       "      <th>age</th>\n",
       "      <th>juv_fel_count</th>\n",
       "      <th>decile_score</th>\n",
       "      <th>juv_misd_count</th>\n",
       "      <th>juv_other_count</th>\n",
       "      <th>priors_count</th>\n",
       "      <th>is_recid</th>\n",
       "      <th>is_violent_recid</th>\n",
       "      <th>v_decile_score</th>\n",
       "      <th>start</th>\n",
       "      <th>end</th>\n",
       "      <th>event</th>\n",
       "      <th>two_year_recid</th>\n",
       "    </tr>\n",
       "  </thead>\n",
       "  <tbody>\n",
       "    <tr>\n",
       "      <th>1</th>\n",
       "      <td>African-American</td>\n",
       "      <td>34</td>\n",
       "      <td>0</td>\n",
       "      <td>3</td>\n",
       "      <td>0</td>\n",
       "      <td>0</td>\n",
       "      <td>0</td>\n",
       "      <td>1</td>\n",
       "      <td>1</td>\n",
       "      <td>1</td>\n",
       "      <td>9</td>\n",
       "      <td>159</td>\n",
       "      <td>1</td>\n",
       "      <td>1</td>\n",
       "    </tr>\n",
       "    <tr>\n",
       "      <th>2</th>\n",
       "      <td>African-American</td>\n",
       "      <td>24</td>\n",
       "      <td>0</td>\n",
       "      <td>4</td>\n",
       "      <td>0</td>\n",
       "      <td>1</td>\n",
       "      <td>4</td>\n",
       "      <td>1</td>\n",
       "      <td>0</td>\n",
       "      <td>3</td>\n",
       "      <td>0</td>\n",
       "      <td>63</td>\n",
       "      <td>0</td>\n",
       "      <td>1</td>\n",
       "    </tr>\n",
       "    <tr>\n",
       "      <th>3</th>\n",
       "      <td>African-American</td>\n",
       "      <td>23</td>\n",
       "      <td>0</td>\n",
       "      <td>8</td>\n",
       "      <td>1</td>\n",
       "      <td>0</td>\n",
       "      <td>1</td>\n",
       "      <td>0</td>\n",
       "      <td>0</td>\n",
       "      <td>6</td>\n",
       "      <td>0</td>\n",
       "      <td>1174</td>\n",
       "      <td>0</td>\n",
       "      <td>0</td>\n",
       "    </tr>\n",
       "    <tr>\n",
       "      <th>6</th>\n",
       "      <td>Caucasian</td>\n",
       "      <td>41</td>\n",
       "      <td>0</td>\n",
       "      <td>6</td>\n",
       "      <td>0</td>\n",
       "      <td>0</td>\n",
       "      <td>14</td>\n",
       "      <td>1</td>\n",
       "      <td>0</td>\n",
       "      <td>2</td>\n",
       "      <td>5</td>\n",
       "      <td>40</td>\n",
       "      <td>1</td>\n",
       "      <td>1</td>\n",
       "    </tr>\n",
       "    <tr>\n",
       "      <th>8</th>\n",
       "      <td>Caucasian</td>\n",
       "      <td>39</td>\n",
       "      <td>0</td>\n",
       "      <td>1</td>\n",
       "      <td>0</td>\n",
       "      <td>0</td>\n",
       "      <td>0</td>\n",
       "      <td>0</td>\n",
       "      <td>0</td>\n",
       "      <td>1</td>\n",
       "      <td>2</td>\n",
       "      <td>747</td>\n",
       "      <td>0</td>\n",
       "      <td>0</td>\n",
       "    </tr>\n",
       "    <tr>\n",
       "      <th>...</th>\n",
       "      <td>...</td>\n",
       "      <td>...</td>\n",
       "      <td>...</td>\n",
       "      <td>...</td>\n",
       "      <td>...</td>\n",
       "      <td>...</td>\n",
       "      <td>...</td>\n",
       "      <td>...</td>\n",
       "      <td>...</td>\n",
       "      <td>...</td>\n",
       "      <td>...</td>\n",
       "      <td>...</td>\n",
       "      <td>...</td>\n",
       "      <td>...</td>\n",
       "    </tr>\n",
       "    <tr>\n",
       "      <th>7207</th>\n",
       "      <td>African-American</td>\n",
       "      <td>30</td>\n",
       "      <td>0</td>\n",
       "      <td>2</td>\n",
       "      <td>0</td>\n",
       "      <td>0</td>\n",
       "      <td>0</td>\n",
       "      <td>1</td>\n",
       "      <td>0</td>\n",
       "      <td>2</td>\n",
       "      <td>0</td>\n",
       "      <td>529</td>\n",
       "      <td>1</td>\n",
       "      <td>1</td>\n",
       "    </tr>\n",
       "    <tr>\n",
       "      <th>7208</th>\n",
       "      <td>African-American</td>\n",
       "      <td>20</td>\n",
       "      <td>0</td>\n",
       "      <td>9</td>\n",
       "      <td>0</td>\n",
       "      <td>0</td>\n",
       "      <td>0</td>\n",
       "      <td>0</td>\n",
       "      <td>0</td>\n",
       "      <td>9</td>\n",
       "      <td>0</td>\n",
       "      <td>169</td>\n",
       "      <td>0</td>\n",
       "      <td>0</td>\n",
       "    </tr>\n",
       "    <tr>\n",
       "      <th>7209</th>\n",
       "      <td>African-American</td>\n",
       "      <td>23</td>\n",
       "      <td>0</td>\n",
       "      <td>7</td>\n",
       "      <td>0</td>\n",
       "      <td>0</td>\n",
       "      <td>0</td>\n",
       "      <td>0</td>\n",
       "      <td>0</td>\n",
       "      <td>5</td>\n",
       "      <td>1</td>\n",
       "      <td>860</td>\n",
       "      <td>0</td>\n",
       "      <td>0</td>\n",
       "    </tr>\n",
       "    <tr>\n",
       "      <th>7210</th>\n",
       "      <td>African-American</td>\n",
       "      <td>23</td>\n",
       "      <td>0</td>\n",
       "      <td>3</td>\n",
       "      <td>0</td>\n",
       "      <td>0</td>\n",
       "      <td>0</td>\n",
       "      <td>0</td>\n",
       "      <td>0</td>\n",
       "      <td>5</td>\n",
       "      <td>1</td>\n",
       "      <td>790</td>\n",
       "      <td>0</td>\n",
       "      <td>0</td>\n",
       "    </tr>\n",
       "    <tr>\n",
       "      <th>7212</th>\n",
       "      <td>African-American</td>\n",
       "      <td>33</td>\n",
       "      <td>0</td>\n",
       "      <td>2</td>\n",
       "      <td>0</td>\n",
       "      <td>0</td>\n",
       "      <td>3</td>\n",
       "      <td>0</td>\n",
       "      <td>0</td>\n",
       "      <td>2</td>\n",
       "      <td>0</td>\n",
       "      <td>754</td>\n",
       "      <td>0</td>\n",
       "      <td>0</td>\n",
       "    </tr>\n",
       "  </tbody>\n",
       "</table>\n",
       "<p>6150 rows × 14 columns</p>\n",
       "</div>"
      ],
      "text/plain": [
       "                  race  age  juv_fel_count  decile_score  juv_misd_count  \\\n",
       "1     African-American   34              0             3               0   \n",
       "2     African-American   24              0             4               0   \n",
       "3     African-American   23              0             8               1   \n",
       "6            Caucasian   41              0             6               0   \n",
       "8            Caucasian   39              0             1               0   \n",
       "...                ...  ...            ...           ...             ...   \n",
       "7207  African-American   30              0             2               0   \n",
       "7208  African-American   20              0             9               0   \n",
       "7209  African-American   23              0             7               0   \n",
       "7210  African-American   23              0             3               0   \n",
       "7212  African-American   33              0             2               0   \n",
       "\n",
       "      juv_other_count  priors_count  is_recid  is_violent_recid  \\\n",
       "1                   0             0         1                 1   \n",
       "2                   1             4         1                 0   \n",
       "3                   0             1         0                 0   \n",
       "6                   0            14         1                 0   \n",
       "8                   0             0         0                 0   \n",
       "...               ...           ...       ...               ...   \n",
       "7207                0             0         1                 0   \n",
       "7208                0             0         0                 0   \n",
       "7209                0             0         0                 0   \n",
       "7210                0             0         0                 0   \n",
       "7212                0             3         0                 0   \n",
       "\n",
       "      v_decile_score  start   end  event  two_year_recid  \n",
       "1                  1      9   159      1               1  \n",
       "2                  3      0    63      0               1  \n",
       "3                  6      0  1174      0               0  \n",
       "6                  2      5    40      1               1  \n",
       "8                  1      2   747      0               0  \n",
       "...              ...    ...   ...    ...             ...  \n",
       "7207               2      0   529      1               1  \n",
       "7208               9      0   169      0               0  \n",
       "7209               5      1   860      0               0  \n",
       "7210               5      1   790      0               0  \n",
       "7212               2      0   754      0               0  \n",
       "\n",
       "[6150 rows x 14 columns]"
      ]
     },
     "execution_count": 3,
     "metadata": {},
     "output_type": "execute_result"
    }
   ],
   "source": [
    "compas_df=pd.read_csv(\"compas-scores-two-years.csv\")\n",
    "\n",
    "#Use the data of African American and Caucasian\n",
    "\n",
    "races = ['African-American','Caucasian']\n",
    "\n",
    "compas_df=compas_df[compas_df.race.isin(races)]\n",
    "\n",
    "compas_df.head()\n",
    "\n",
    "#use only specific columns for future prediction\n",
    "compas_df_filtered = compas_df.loc[:, ['race']].join(compas_df.select_dtypes(include=['int64']))\n",
    "#drop id and duplicate columns\n",
    "compas_df_filtered = compas_df_filtered.drop(['id','decile_score.1', 'priors_count.1'], axis=1)\n",
    "\n",
    "\n",
    "compas_df_filtered"
   ]
  },
  {
   "cell_type": "markdown",
   "id": "a9d6a0f8",
   "metadata": {},
   "source": [
    "# Implemntaion of algorithms A6"
   ]
  },
  {
   "cell_type": "code",
   "execution_count": 4,
   "id": "5a40b160",
   "metadata": {},
   "outputs": [],
   "source": [
    "#for the algorithms below, we apply on the whole dataset\n",
    "X=compas_df_filtered\n",
    "s=X.race\n",
    "e=X.decile_score \n",
    "y=X.two_year_recid \n",
    "\n",
    "\n",
    "\n",
    "\n",
    "def PARTITION(X, e):\n",
    "    unique_values = e.unique()  # find unique values of e\n",
    "    groups = {}  # initialize empty dictionary to store resulting DataFrames\n",
    "    \n",
    "    for val in unique_values:\n",
    "        group_df = X[e == val]  # filter rows in X where e equals current unique value\n",
    "        groups[val] = group_df  # store resulting DataFrame in dictionary with key = unique value\n",
    "        \n",
    "    return groups  # return dictionary of resulting DataFrames\n",
    "\n",
    "\n",
    "\n",
    "\n",
    "\n"
   ]
  },
  {
   "cell_type": "code",
   "execution_count": 5,
   "id": "e0343d9c",
   "metadata": {},
   "outputs": [
    {
     "name": "stdout",
     "output_type": "stream",
     "text": [
      "[ 3  4  8  6  1 10  5  9  2  7]\n"
     ]
    }
   ],
   "source": [
    "resulting_groups = PARTITION(X, e)\n",
    "first_group_df = resulting_groups[1]\n",
    "#print(first_group_df.head)\n",
    "\n",
    "unique_values = e.unique() \n",
    "print(unique_values)"
   ]
  },
  {
   "cell_type": "code",
   "execution_count": 6,
   "id": "8270d1ba",
   "metadata": {},
   "outputs": [],
   "source": [
    "\n",
    "def delta(X, gender):\n",
    "    # calculate the baseline probabilities\n",
    "    p_pos_base = X.two_year_recid.mean()\n",
    "\n",
    "    # calculate probabilities conditioned on gender\n",
    "    p_pos_gender = X[X.race == gender].two_year_recid.mean()\n",
    "    \n",
    "\n",
    "    # calculate the number of gender people in X\n",
    "    G = len(X[X.race == gender])\n",
    "\n",
    "    # calculate delta\n",
    "    \n",
    "    delta_val = G * abs(p_pos_gender - p_pos_base)\n",
    "    \n",
    "\n",
    "    return int(delta_val)\n"
   ]
  },
  {
   "cell_type": "code",
   "execution_count": 7,
   "id": "432f91dc",
   "metadata": {},
   "outputs": [
    {
     "name": "stdout",
     "output_type": "stream",
     "text": [
      "11\n",
      "10\n",
      "3\n",
      "1\n",
      "5\n",
      "4\n",
      "3\n",
      "1\n",
      "1\n",
      "2\n"
     ]
    }
   ],
   "source": [
    "for group in resulting_groups.values():\n",
    "    print(delta(group,'Caucasian'))"
   ]
  },
  {
   "cell_type": "code",
   "execution_count": 8,
   "id": "2d90c728",
   "metadata": {},
   "outputs": [
    {
     "name": "stderr",
     "output_type": "stream",
     "text": [
      "C:\\Users\\smral\\anaconda3\\lib\\site-packages\\pandas\\core\\indexing.py:1676: SettingWithCopyWarning: \n",
      "A value is trying to be set on a copy of a slice from a DataFrame.\n",
      "Try using .loc[row_indexer,col_indexer] = value instead\n",
      "\n",
      "See the caveats in the documentation: https://pandas.pydata.org/pandas-docs/stable/user_guide/indexing.html#returning-a-view-versus-a-copy\n",
      "  self._setitem_single_column(ilocs[0], value, pi)\n",
      "C:\\Users\\smral\\anaconda3\\lib\\site-packages\\pandas\\core\\indexing.py:1676: SettingWithCopyWarning: \n",
      "A value is trying to be set on a copy of a slice from a DataFrame.\n",
      "Try using .loc[row_indexer,col_indexer] = value instead\n",
      "\n",
      "See the caveats in the documentation: https://pandas.pydata.org/pandas-docs/stable/user_guide/indexing.html#returning-a-view-versus-a-copy\n",
      "  self._setitem_single_column(ilocs[0], value, pi)\n",
      "C:\\Users\\smral\\anaconda3\\lib\\site-packages\\pandas\\core\\indexing.py:1676: SettingWithCopyWarning: \n",
      "A value is trying to be set on a copy of a slice from a DataFrame.\n",
      "Try using .loc[row_indexer,col_indexer] = value instead\n",
      "\n",
      "See the caveats in the documentation: https://pandas.pydata.org/pandas-docs/stable/user_guide/indexing.html#returning-a-view-versus-a-copy\n",
      "  self._setitem_single_column(ilocs[0], value, pi)\n",
      "C:\\Users\\smral\\anaconda3\\lib\\site-packages\\pandas\\core\\indexing.py:1676: SettingWithCopyWarning: \n",
      "A value is trying to be set on a copy of a slice from a DataFrame.\n",
      "Try using .loc[row_indexer,col_indexer] = value instead\n",
      "\n",
      "See the caveats in the documentation: https://pandas.pydata.org/pandas-docs/stable/user_guide/indexing.html#returning-a-view-versus-a-copy\n",
      "  self._setitem_single_column(ilocs[0], value, pi)\n",
      "C:\\Users\\smral\\anaconda3\\lib\\site-packages\\pandas\\core\\indexing.py:1676: SettingWithCopyWarning: \n",
      "A value is trying to be set on a copy of a slice from a DataFrame.\n",
      "Try using .loc[row_indexer,col_indexer] = value instead\n",
      "\n",
      "See the caveats in the documentation: https://pandas.pydata.org/pandas-docs/stable/user_guide/indexing.html#returning-a-view-versus-a-copy\n",
      "  self._setitem_single_column(ilocs[0], value, pi)\n",
      "C:\\Users\\smral\\anaconda3\\lib\\site-packages\\pandas\\core\\indexing.py:1676: SettingWithCopyWarning: \n",
      "A value is trying to be set on a copy of a slice from a DataFrame.\n",
      "Try using .loc[row_indexer,col_indexer] = value instead\n",
      "\n",
      "See the caveats in the documentation: https://pandas.pydata.org/pandas-docs/stable/user_guide/indexing.html#returning-a-view-versus-a-copy\n",
      "  self._setitem_single_column(ilocs[0], value, pi)\n",
      "C:\\Users\\smral\\anaconda3\\lib\\site-packages\\pandas\\core\\indexing.py:1676: SettingWithCopyWarning: \n",
      "A value is trying to be set on a copy of a slice from a DataFrame.\n",
      "Try using .loc[row_indexer,col_indexer] = value instead\n",
      "\n",
      "See the caveats in the documentation: https://pandas.pydata.org/pandas-docs/stable/user_guide/indexing.html#returning-a-view-versus-a-copy\n",
      "  self._setitem_single_column(ilocs[0], value, pi)\n",
      "C:\\Users\\smral\\anaconda3\\lib\\site-packages\\pandas\\core\\indexing.py:1676: SettingWithCopyWarning: \n",
      "A value is trying to be set on a copy of a slice from a DataFrame.\n",
      "Try using .loc[row_indexer,col_indexer] = value instead\n",
      "\n",
      "See the caveats in the documentation: https://pandas.pydata.org/pandas-docs/stable/user_guide/indexing.html#returning-a-view-versus-a-copy\n",
      "  self._setitem_single_column(ilocs[0], value, pi)\n",
      "C:\\Users\\smral\\anaconda3\\lib\\site-packages\\pandas\\core\\indexing.py:1676: SettingWithCopyWarning: \n",
      "A value is trying to be set on a copy of a slice from a DataFrame.\n",
      "Try using .loc[row_indexer,col_indexer] = value instead\n",
      "\n",
      "See the caveats in the documentation: https://pandas.pydata.org/pandas-docs/stable/user_guide/indexing.html#returning-a-view-versus-a-copy\n",
      "  self._setitem_single_column(ilocs[0], value, pi)\n",
      "C:\\Users\\smral\\anaconda3\\lib\\site-packages\\pandas\\core\\indexing.py:1676: SettingWithCopyWarning: \n",
      "A value is trying to be set on a copy of a slice from a DataFrame.\n",
      "Try using .loc[row_indexer,col_indexer] = value instead\n",
      "\n",
      "See the caveats in the documentation: https://pandas.pydata.org/pandas-docs/stable/user_guide/indexing.html#returning-a-view-versus-a-copy\n",
      "  self._setitem_single_column(ilocs[0], value, pi)\n",
      "C:\\Users\\smral\\anaconda3\\lib\\site-packages\\pandas\\core\\indexing.py:1676: SettingWithCopyWarning: \n",
      "A value is trying to be set on a copy of a slice from a DataFrame.\n",
      "Try using .loc[row_indexer,col_indexer] = value instead\n",
      "\n",
      "See the caveats in the documentation: https://pandas.pydata.org/pandas-docs/stable/user_guide/indexing.html#returning-a-view-versus-a-copy\n",
      "  self._setitem_single_column(ilocs[0], value, pi)\n",
      "C:\\Users\\smral\\anaconda3\\lib\\site-packages\\pandas\\core\\indexing.py:1676: SettingWithCopyWarning: \n",
      "A value is trying to be set on a copy of a slice from a DataFrame.\n",
      "Try using .loc[row_indexer,col_indexer] = value instead\n",
      "\n",
      "See the caveats in the documentation: https://pandas.pydata.org/pandas-docs/stable/user_guide/indexing.html#returning-a-view-versus-a-copy\n",
      "  self._setitem_single_column(ilocs[0], value, pi)\n",
      "C:\\Users\\smral\\anaconda3\\lib\\site-packages\\pandas\\core\\indexing.py:1676: SettingWithCopyWarning: \n",
      "A value is trying to be set on a copy of a slice from a DataFrame.\n",
      "Try using .loc[row_indexer,col_indexer] = value instead\n",
      "\n",
      "See the caveats in the documentation: https://pandas.pydata.org/pandas-docs/stable/user_guide/indexing.html#returning-a-view-versus-a-copy\n",
      "  self._setitem_single_column(ilocs[0], value, pi)\n",
      "C:\\Users\\smral\\anaconda3\\lib\\site-packages\\pandas\\core\\indexing.py:1676: SettingWithCopyWarning: \n",
      "A value is trying to be set on a copy of a slice from a DataFrame.\n",
      "Try using .loc[row_indexer,col_indexer] = value instead\n",
      "\n",
      "See the caveats in the documentation: https://pandas.pydata.org/pandas-docs/stable/user_guide/indexing.html#returning-a-view-versus-a-copy\n",
      "  self._setitem_single_column(ilocs[0], value, pi)\n",
      "C:\\Users\\smral\\anaconda3\\lib\\site-packages\\pandas\\core\\indexing.py:1676: SettingWithCopyWarning: \n",
      "A value is trying to be set on a copy of a slice from a DataFrame.\n",
      "Try using .loc[row_indexer,col_indexer] = value instead\n",
      "\n",
      "See the caveats in the documentation: https://pandas.pydata.org/pandas-docs/stable/user_guide/indexing.html#returning-a-view-versus-a-copy\n",
      "  self._setitem_single_column(ilocs[0], value, pi)\n",
      "C:\\Users\\smral\\anaconda3\\lib\\site-packages\\pandas\\core\\indexing.py:1676: SettingWithCopyWarning: \n",
      "A value is trying to be set on a copy of a slice from a DataFrame.\n",
      "Try using .loc[row_indexer,col_indexer] = value instead\n",
      "\n",
      "See the caveats in the documentation: https://pandas.pydata.org/pandas-docs/stable/user_guide/indexing.html#returning-a-view-versus-a-copy\n",
      "  self._setitem_single_column(ilocs[0], value, pi)\n",
      "C:\\Users\\smral\\anaconda3\\lib\\site-packages\\pandas\\core\\indexing.py:1676: SettingWithCopyWarning: \n",
      "A value is trying to be set on a copy of a slice from a DataFrame.\n",
      "Try using .loc[row_indexer,col_indexer] = value instead\n",
      "\n",
      "See the caveats in the documentation: https://pandas.pydata.org/pandas-docs/stable/user_guide/indexing.html#returning-a-view-versus-a-copy\n",
      "  self._setitem_single_column(ilocs[0], value, pi)\n",
      "C:\\Users\\smral\\anaconda3\\lib\\site-packages\\pandas\\core\\indexing.py:1676: SettingWithCopyWarning: \n",
      "A value is trying to be set on a copy of a slice from a DataFrame.\n",
      "Try using .loc[row_indexer,col_indexer] = value instead\n",
      "\n",
      "See the caveats in the documentation: https://pandas.pydata.org/pandas-docs/stable/user_guide/indexing.html#returning-a-view-versus-a-copy\n",
      "  self._setitem_single_column(ilocs[0], value, pi)\n",
      "C:\\Users\\smral\\anaconda3\\lib\\site-packages\\pandas\\core\\indexing.py:1676: SettingWithCopyWarning: \n",
      "A value is trying to be set on a copy of a slice from a DataFrame.\n",
      "Try using .loc[row_indexer,col_indexer] = value instead\n",
      "\n",
      "See the caveats in the documentation: https://pandas.pydata.org/pandas-docs/stable/user_guide/indexing.html#returning-a-view-versus-a-copy\n",
      "  self._setitem_single_column(ilocs[0], value, pi)\n",
      "C:\\Users\\smral\\anaconda3\\lib\\site-packages\\pandas\\core\\indexing.py:1676: SettingWithCopyWarning: \n",
      "A value is trying to be set on a copy of a slice from a DataFrame.\n",
      "Try using .loc[row_indexer,col_indexer] = value instead\n",
      "\n",
      "See the caveats in the documentation: https://pandas.pydata.org/pandas-docs/stable/user_guide/indexing.html#returning-a-view-versus-a-copy\n",
      "  self._setitem_single_column(ilocs[0], value, pi)\n"
     ]
    }
   ],
   "source": [
    "\n",
    "#Algorithm 1: Local massaging\n",
    "resulting_groups = PARTITION(X, e)\n",
    "updated_groups_1 = []\n",
    "for group in resulting_groups.values():\n",
    "    males = group[group.race == 'Caucasian']\n",
    "    females = group[group.race == 'African-American']\n",
    "    \n",
    "    # learn a ranker H for this group\n",
    "    H = LogisticRegression(random_state=42,max_iter=500)\n",
    "    H.fit(group.drop(['race','two_year_recid'], axis=1), group.two_year_recid)\n",
    "    \n",
    "    # rank and relabel males\n",
    "    males_females = pd.concat([males,females])\n",
    "    males_females['proba'] = H.predict_proba(males_females.drop(['two_year_recid','race'], axis=1))[:, 1]\n",
    "\n",
    "   \n",
    "    males_females = males_females.sort_values(by='proba')\n",
    "    \n",
    "    \n",
    "    delta_males = int(delta(group, 'Caucasian'))\n",
    " \n",
    "    males_to_relabel = males_females[(males_females['race'] == 'Caucasian') & (males_females['two_year_recid'] == 0) & (males_females['proba'] < 0.5)].head(delta_males)\n",
    "    group.loc[males_to_relabel.index, 'two_year_recid'] = 1 - males_to_relabel.two_year_recid\n",
    "    \n",
    "    # rank and relabel females\n",
    "    delta_females = int(delta(group, 'African-American'))\n",
    "    females_to_relabel = males_females[(males_females['race'] == 'African-American') & (males_females['two_year_recid'] == 1) & (males_females['proba'] > 0.5)].head(delta_females)\n",
    "    group.loc[females_to_relabel.index, 'two_year_recid'] = 1 - females_to_relabel.two_year_recid\n",
    "    \n",
    "    updated_groups_1.append(group)\n"
   ]
  },
  {
   "cell_type": "code",
   "execution_count": 9,
   "id": "4413aa4d",
   "metadata": {},
   "outputs": [
    {
     "name": "stdout",
     "output_type": "stream",
     "text": [
      "67\n"
     ]
    }
   ],
   "source": [
    "updated_df_1 = pd.concat(updated_groups_1)\n",
    "updated_df_1 = updated_df_1.sort_index()\n",
    "print(sum(updated_df_1['two_year_recid']!=compas_df_filtered['two_year_recid']))\n",
    "#67 labels have been changed"
   ]
  },
  {
   "cell_type": "code",
   "execution_count": null,
   "id": "008556c4",
   "metadata": {},
   "outputs": [],
   "source": []
  },
  {
   "cell_type": "code",
   "execution_count": 10,
   "id": "1b8192bd",
   "metadata": {},
   "outputs": [],
   "source": [
    "\n",
    "#Algorithm 2:  Local preferential sampling\n",
    "resulting_groups = PARTITION(X, e)\n",
    "updated_groups_2 = []\n",
    "for group in resulting_groups.values():\n",
    "    males = group[group.race == 'Caucasian']\n",
    "    females = group[group.race == 'African-American']\n",
    "    \n",
    "    # learn a ranker H for this group\n",
    "    H = LogisticRegression(random_state=42,max_iter=500)\n",
    "    H.fit(group.drop(['race','two_year_recid'], axis=1), group.two_year_recid)\n",
    "    \n",
    "    # rank delete,and relabel males\n",
    "    males_females = pd.concat([males, females])\n",
    "    males_females['proba'] = H.predict_proba(males_females.drop(['two_year_recid', 'race'], axis=1))[:, 1]\n",
    "    males_females = males_females.sort_values(by='proba')\n",
    "    delta_males = int(0.5*delta(group, 'Caucasian'))\n",
    "    \n",
    "    \n",
    "    males_to_delete = males_females[(males_females['race'] == 'Caucasian') & (males_females['two_year_recid'] == 1) & (males_females['proba'] < 0.5)].tail(delta_males)\n",
    "    males_to_duplicate = males_females[(males_females['race'] == 'Caucasian') & (males_females['two_year_recid'] == 0) & (males_females['proba'] > 0.5)].head(delta_males)\n",
    "    group = group[~group.index.isin(males_to_delete.index)]\n",
    "    group = pd.concat([group, males_to_duplicate], ignore_index=True)\n",
    "    \n",
    "    # rank delete,and relabel females\n",
    "    delta_females = int(0.5*delta(group, 'African-American'))\n",
    "    females_to_delete = males_females[(males_females['race'] == 'African-American') & (males_females['two_year_recid'] == 0) & (males_females['proba'] > 0.5)].tail(delta_females)\n",
    "    females_to_duplicate = males_females[(males_females['race'] == 'African-American') & (males_females['two_year_recid'] == 1) & (males_females['proba'] < 0.5)].head(delta_females)\n",
    "    group = group[~group.index.isin(females_to_delete.index)]\n",
    "    group = pd.concat([group, females_to_duplicate], ignore_index=True)\n",
    "    \n",
    "    updated_groups_2.append(group)\n",
    "    \n",
    "updated_df_2 = pd.concat(updated_groups_2)\n",
    "\n",
    "#Now we have 3 data frames.compas_df_filtered is the original one. updated_df_1 is the one of algorithm1 updated_df_1 is the one of algorithm12\n",
    "   \n"
   ]
  },
  {
   "cell_type": "code",
   "execution_count": 11,
   "id": "3f8d91b1",
   "metadata": {},
   "outputs": [],
   "source": [
    "# split the data into train, validation and test set\n",
    "\n",
    "# Split data into training and validation/test sets\n",
    "train_df, val_test_df = train_test_split(compas_df_filtered, test_size=0.2, random_state=42)\n",
    "\n",
    "# Split validation/test set into validation and test sets\n",
    "val_df, test_df = train_test_split(val_test_df, test_size=0.5, random_state=42)\n",
    "\n",
    "\n",
    "\n",
    "# Split data into training and validation/test sets\n",
    "train_df_algo1, val_test_df_algo1 = train_test_split(updated_df_1, test_size=0.2, random_state=42)\n",
    "\n",
    "# Split validation/test set into validation and test sets\n",
    "val_df_algo1, test_df_algo1 = train_test_split(val_test_df_algo1, test_size=0.5, random_state=42)\n",
    "\n",
    "\n",
    "# Split data into training and validation/test sets\n",
    "train_df_algo2, val_test_df_algo2 = train_test_split(updated_df_2, test_size=0.2, random_state=42)\n",
    "\n",
    "# Split validation/test set into validation and test sets\n",
    "val_df_algo2, test_df_algo2 = train_test_split(val_test_df_algo2, test_size=0.5, random_state=42)\n"
   ]
  },
  {
   "cell_type": "code",
   "execution_count": 12,
   "id": "d768909e",
   "metadata": {},
   "outputs": [
    {
     "name": "stderr",
     "output_type": "stream",
     "text": [
      "C:\\Users\\smral\\anaconda3\\lib\\site-packages\\sklearn\\linear_model\\_logistic.py:458: ConvergenceWarning: lbfgs failed to converge (status=1):\n",
      "STOP: TOTAL NO. of ITERATIONS REACHED LIMIT.\n",
      "\n",
      "Increase the number of iterations (max_iter) or scale the data as shown in:\n",
      "    https://scikit-learn.org/stable/modules/preprocessing.html\n",
      "Please also refer to the documentation for alternative solver options:\n",
      "    https://scikit-learn.org/stable/modules/linear_model.html#logistic-regression\n",
      "  n_iter_i = _check_optimize_result(\n",
      "C:\\Users\\smral\\anaconda3\\lib\\site-packages\\sklearn\\linear_model\\_logistic.py:458: ConvergenceWarning: lbfgs failed to converge (status=1):\n",
      "STOP: TOTAL NO. of ITERATIONS REACHED LIMIT.\n",
      "\n",
      "Increase the number of iterations (max_iter) or scale the data as shown in:\n",
      "    https://scikit-learn.org/stable/modules/preprocessing.html\n",
      "Please also refer to the documentation for alternative solver options:\n",
      "    https://scikit-learn.org/stable/modules/linear_model.html#logistic-regression\n",
      "  n_iter_i = _check_optimize_result(\n",
      "C:\\Users\\smral\\anaconda3\\lib\\site-packages\\sklearn\\linear_model\\_logistic.py:458: ConvergenceWarning: lbfgs failed to converge (status=1):\n",
      "STOP: TOTAL NO. of ITERATIONS REACHED LIMIT.\n",
      "\n",
      "Increase the number of iterations (max_iter) or scale the data as shown in:\n",
      "    https://scikit-learn.org/stable/modules/preprocessing.html\n",
      "Please also refer to the documentation for alternative solver options:\n",
      "    https://scikit-learn.org/stable/modules/linear_model.html#logistic-regression\n",
      "  n_iter_i = _check_optimize_result(\n"
     ]
    },
    {
     "data": {
      "text/html": [
       "<style>#sk-container-id-1 {color: black;background-color: white;}#sk-container-id-1 pre{padding: 0;}#sk-container-id-1 div.sk-toggleable {background-color: white;}#sk-container-id-1 label.sk-toggleable__label {cursor: pointer;display: block;width: 100%;margin-bottom: 0;padding: 0.3em;box-sizing: border-box;text-align: center;}#sk-container-id-1 label.sk-toggleable__label-arrow:before {content: \"▸\";float: left;margin-right: 0.25em;color: #696969;}#sk-container-id-1 label.sk-toggleable__label-arrow:hover:before {color: black;}#sk-container-id-1 div.sk-estimator:hover label.sk-toggleable__label-arrow:before {color: black;}#sk-container-id-1 div.sk-toggleable__content {max-height: 0;max-width: 0;overflow: hidden;text-align: left;background-color: #f0f8ff;}#sk-container-id-1 div.sk-toggleable__content pre {margin: 0.2em;color: black;border-radius: 0.25em;background-color: #f0f8ff;}#sk-container-id-1 input.sk-toggleable__control:checked~div.sk-toggleable__content {max-height: 200px;max-width: 100%;overflow: auto;}#sk-container-id-1 input.sk-toggleable__control:checked~label.sk-toggleable__label-arrow:before {content: \"▾\";}#sk-container-id-1 div.sk-estimator input.sk-toggleable__control:checked~label.sk-toggleable__label {background-color: #d4ebff;}#sk-container-id-1 div.sk-label input.sk-toggleable__control:checked~label.sk-toggleable__label {background-color: #d4ebff;}#sk-container-id-1 input.sk-hidden--visually {border: 0;clip: rect(1px 1px 1px 1px);clip: rect(1px, 1px, 1px, 1px);height: 1px;margin: -1px;overflow: hidden;padding: 0;position: absolute;width: 1px;}#sk-container-id-1 div.sk-estimator {font-family: monospace;background-color: #f0f8ff;border: 1px dotted black;border-radius: 0.25em;box-sizing: border-box;margin-bottom: 0.5em;}#sk-container-id-1 div.sk-estimator:hover {background-color: #d4ebff;}#sk-container-id-1 div.sk-parallel-item::after {content: \"\";width: 100%;border-bottom: 1px solid gray;flex-grow: 1;}#sk-container-id-1 div.sk-label:hover label.sk-toggleable__label {background-color: #d4ebff;}#sk-container-id-1 div.sk-serial::before {content: \"\";position: absolute;border-left: 1px solid gray;box-sizing: border-box;top: 0;bottom: 0;left: 50%;z-index: 0;}#sk-container-id-1 div.sk-serial {display: flex;flex-direction: column;align-items: center;background-color: white;padding-right: 0.2em;padding-left: 0.2em;position: relative;}#sk-container-id-1 div.sk-item {position: relative;z-index: 1;}#sk-container-id-1 div.sk-parallel {display: flex;align-items: stretch;justify-content: center;background-color: white;position: relative;}#sk-container-id-1 div.sk-item::before, #sk-container-id-1 div.sk-parallel-item::before {content: \"\";position: absolute;border-left: 1px solid gray;box-sizing: border-box;top: 0;bottom: 0;left: 50%;z-index: -1;}#sk-container-id-1 div.sk-parallel-item {display: flex;flex-direction: column;z-index: 1;position: relative;background-color: white;}#sk-container-id-1 div.sk-parallel-item:first-child::after {align-self: flex-end;width: 50%;}#sk-container-id-1 div.sk-parallel-item:last-child::after {align-self: flex-start;width: 50%;}#sk-container-id-1 div.sk-parallel-item:only-child::after {width: 0;}#sk-container-id-1 div.sk-dashed-wrapped {border: 1px dashed gray;margin: 0 0.4em 0.5em 0.4em;box-sizing: border-box;padding-bottom: 0.4em;background-color: white;}#sk-container-id-1 div.sk-label label {font-family: monospace;font-weight: bold;display: inline-block;line-height: 1.2em;}#sk-container-id-1 div.sk-label-container {text-align: center;}#sk-container-id-1 div.sk-container {/* jupyter's `normalize.less` sets `[hidden] { display: none; }` but bootstrap.min.css set `[hidden] { display: none !important; }` so we also need the `!important` here to be able to override the default hidden behavior on the sphinx rendered scikit-learn.org. See: https://github.com/scikit-learn/scikit-learn/issues/21755 */display: inline-block !important;position: relative;}#sk-container-id-1 div.sk-text-repr-fallback {display: none;}</style><div id=\"sk-container-id-1\" class=\"sk-top-container\"><div class=\"sk-text-repr-fallback\"><pre>LogisticRegression()</pre><b>In a Jupyter environment, please rerun this cell to show the HTML representation or trust the notebook. <br />On GitHub, the HTML representation is unable to render, please try loading this page with nbviewer.org.</b></div><div class=\"sk-container\" hidden><div class=\"sk-item\"><div class=\"sk-estimator sk-toggleable\"><input class=\"sk-toggleable__control sk-hidden--visually\" id=\"sk-estimator-id-1\" type=\"checkbox\" checked><label for=\"sk-estimator-id-1\" class=\"sk-toggleable__label sk-toggleable__label-arrow\">LogisticRegression</label><div class=\"sk-toggleable__content\"><pre>LogisticRegression()</pre></div></div></div></div></div>"
      ],
      "text/plain": [
       "LogisticRegression()"
      ]
     },
     "execution_count": 12,
     "metadata": {},
     "output_type": "execute_result"
    }
   ],
   "source": [
    "X_train1 = train_df.drop(['is_recid','race'], axis=1)\n",
    "y_train1 = train_df['is_recid']\n",
    "                       \n",
    "X_train2 = train_df_algo1.drop(['is_recid','race'], axis=1)\n",
    "y_train2 = train_df_algo1['is_recid']                                \n",
    "                                \n",
    "X_train3 = train_df_algo2.drop(['is_recid','race','proba'], axis=1)\n",
    "y_train3 = train_df_algo2['is_recid']\n",
    "\n",
    "\n",
    "\n",
    "# Fit logistic regression model for X_train1\n",
    "logreg1 = LogisticRegression()\n",
    "logreg1.fit(X_train1, y_train1)\n",
    "\n",
    "\n",
    "# Fit logistic regression model for X_train2\n",
    "logreg2 = LogisticRegression()\n",
    "logreg2.fit(X_train2, y_train2)\n",
    "\n",
    "# Fit logistic regression model for X_train3\n",
    "logreg3 = LogisticRegression()\n",
    "logreg3.fit(X_train3, y_train3)\n",
    "\n"
   ]
  },
  {
   "cell_type": "code",
   "execution_count": 13,
   "id": "1b53b82e",
   "metadata": {},
   "outputs": [],
   "source": [
    "#Get results for validation set\n",
    "# For X_val1\n",
    "X_val1 = val_df.drop(['is_recid','race'], axis=1)\n",
    "y_val1 = val_df['is_recid']\n",
    "y_pred_val1 = logreg1.predict(X_val1)\n",
    "\n",
    "\n",
    "# For X_val2\n",
    "X_val2 = val_df_algo1.drop(['is_recid','race'], axis=1)\n",
    "y_val2 = val_df_algo1['is_recid']\n",
    "y_pred_val2 = logreg2.predict(X_val2)\n",
    "\n",
    "\n",
    "# For X_val3\n",
    "X_val3 = val_df_algo2.drop(['is_recid','race','proba'], axis=1)\n",
    "y_val3 = val_df_algo2['is_recid']\n",
    "y_pred_val3 = logreg3.predict(X_val3)\n",
    "\n"
   ]
  },
  {
   "cell_type": "code",
   "execution_count": 14,
   "id": "f5a7787a",
   "metadata": {},
   "outputs": [],
   "source": [
    "#Get results for test set\n",
    "# For X_test1\n",
    "X_test1 = test_df.drop(['is_recid','race'], axis=1)\n",
    "y_test1 = test_df['is_recid']\n",
    "y_pred_test1 = logreg1.predict(X_test1)\n",
    "\n",
    "\n",
    "# For X_test2\n",
    "X_test2 = test_df_algo1.drop(['is_recid','race'], axis=1)\n",
    "y_test2 = test_df_algo1['is_recid']\n",
    "y_pred_test2 = logreg2.predict(X_test2)\n",
    "\n",
    "\n",
    "# For X_test3\n",
    "X_test3 = test_df_algo2.drop(['is_recid','race','proba'], axis=1)\n",
    "y_test3 = test_df_algo2['is_recid']\n",
    "y_pred_test3 = logreg3.predict(X_test3)\n",
    "\n"
   ]
  },
  {
   "cell_type": "code",
   "execution_count": 15,
   "id": "8df83e39",
   "metadata": {},
   "outputs": [],
   "source": [
    "# Make a copy of the original test dataframes\n",
    "test_df1 = test_df.copy()\n",
    "test_df2 = test_df_algo1.copy()\n",
    "test_df3 = test_df_algo2.copy()\n",
    "\n",
    "# Replace the \"two_year_recid\" column with predicted labels for each model\n",
    "test_df1[\"two_year_recid\"] = y_pred_test1\n",
    "test_df2[\"two_year_recid\"] = y_pred_test2\n",
    "test_df3[\"two_year_recid\"] = y_pred_test3\n"
   ]
  },
  {
   "cell_type": "code",
   "execution_count": 16,
   "id": "9d7d7311",
   "metadata": {},
   "outputs": [],
   "source": [
    "# Define function to compute D_all and D_bad\n",
    "\n",
    "\n",
    "\n",
    "def compute_D(test_df, y_pred):\n",
    "    # Compute D_all\n",
    "    D_all = test_df.loc[test_df['race'] == 'African-American', y_pred].mean() - \\\n",
    "            test_df.loc[test_df['race'] == 'Caucasian', y_pred].mean()\n",
    "\n",
    "    # Compute D_bad\n",
    "    decile_scores = list(range(1, 6))\n",
    "    D_bad = 0\n",
    "    \n",
    "    for score in decile_scores:\n",
    "        P_score = test_df.loc[(test_df['race'] == 'African-American') & (test_df['decile_score'] == score), y_pred].mean()\n",
    "        P_score -= test_df.loc[(test_df['race'] == 'Caucasian') & (test_df['decile_score'] == score), y_pred].mean()\n",
    "        P_y = test_df.loc[test_df['decile_score'] == score, y_pred].mean()\n",
    "        D_bad += ((P_score) * (P_y))\n",
    "\n",
    "    \n",
    "    \n",
    "    \n",
    "    return D_all, D_bad\n",
    "\n",
    "# Compute D_all and D_bad for the three logistic regression models on the three test sets\n",
    "D_all_1, D_bad_1 = compute_D(test_df1, 'two_year_recid')\n",
    "D_all_2, D_bad_2 = compute_D(test_df2, 'two_year_recid')\n",
    "D_all_3, D_bad_3 = compute_D(test_df3, 'two_year_recid')\n",
    "\n",
    "\n"
   ]
  },
  {
   "cell_type": "code",
   "execution_count": 17,
   "id": "02df862b",
   "metadata": {},
   "outputs": [
    {
     "data": {
      "image/png": "[encoded data removed]",
      "text/plain": [
       "<Figure size 432x288 with 1 Axes>"
      ]
     },
     "metadata": {
      "needs_background": "light"
     },
     "output_type": "display_data"
    },
    {
     "name": "stdout",
     "output_type": "stream",
     "text": [
      "[0.13995115296602711, 0.12508801267382497, 0.14627703850038287]\n",
      "[0.08925469058099628, 0.06903991985880703, 0.12349809916916824]\n"
     ]
    }
   ],
   "source": [
    "\n",
    "\n",
    "# Calculate D_all and D_bad for each model on the test set\n",
    "D_all_test = [D_all_1,D_all_2,D_all_3]\n",
    "D_bad_test = [D_bad_1, D_bad_2, D_bad_3]\n",
    "\n",
    "plt.plot(['Baseline', 'Local massaging', 'Local preferential sampling'], D_all_test, label='D_all')\n",
    "plt.plot(['Baseline', 'Local massaging', 'Local preferential sampling'], D_bad_test, label='D_bad')\n",
    "\n",
    "# Add axis labels and title\n",
    "plt.xlabel('Model')\n",
    "plt.ylabel('D')\n",
    "plt.title('D_all and D_bad for 3 models on test set')\n",
    "\n",
    "# Add legend\n",
    "plt.legend()\n",
    "\n",
    "# Show the plot\n",
    "plt.show()\n",
    "\n",
    "\n",
    "print(D_all_test)\n",
    "print(D_bad_test)"
   ]
  },
  {
   "cell_type": "markdown",
   "id": "8c2e09b3",
   "metadata": {},
   "source": [
    "From the plot, we can see that the two algorithms both achieves the original goal of reducing bad discrimination. We can also see that the Local massaging algorithm reduces bad discrimination more, which is a better choice in this dataset."
   ]
  },
  {
   "cell_type": "markdown",
   "id": "744c5c5b",
   "metadata": {},
   "source": [
    "## Accuracy and Calibration"
   ]
  },
  {
   "cell_type": "code",
   "execution_count": 18,
   "id": "eec323b7",
   "metadata": {},
   "outputs": [],
   "source": [
    "compas_df_filtered[\"race\"].replace(['African-American', 'Caucasian'],[0, 1], inplace=True)\n",
    "\n",
    "data_filtered_afram = compas_df_filtered[compas_df_filtered['race']==0]\n",
    "data_filtered_cau = compas_df_filtered[compas_df_filtered['race']==1]"
   ]
  },
  {
   "cell_type": "code",
   "execution_count": 19,
   "id": "9191d5cc",
   "metadata": {},
   "outputs": [
    {
     "name": "stdout",
     "output_type": "stream",
     "text": [
      "Baseline model Accuracy:\n"
     ]
    },
    {
     "data": {
      "text/plain": [
       "0.9772357723577236"
      ]
     },
     "execution_count": 19,
     "metadata": {},
     "output_type": "execute_result"
    }
   ],
   "source": [
    "print(\"Baseline model Accuracy:\")\n",
    "ba=sum(test_df['two_year_recid'] == y_pred_test1)/len(y_pred_test1)\n",
    "ba"
   ]
  },
  {
   "cell_type": "code",
   "execution_count": 20,
   "id": "04b3f2c6",
   "metadata": {},
   "outputs": [
    {
     "name": "stdout",
     "output_type": "stream",
     "text": [
      "Local massaging algorithm Accuracy:\n"
     ]
    },
    {
     "data": {
      "text/plain": [
       "0.967479674796748"
      ]
     },
     "execution_count": 20,
     "metadata": {},
     "output_type": "execute_result"
    }
   ],
   "source": [
    "print(\"Local massaging algorithm Accuracy:\")\n",
    "lm=sum(test_df['two_year_recid'] == y_pred_test2)/len(y_pred_test2)\n",
    "lm"
   ]
  },
  {
   "cell_type": "code",
   "execution_count": 21,
   "id": "79b87031",
   "metadata": {},
   "outputs": [],
   "source": [
    "afram = test_df[test_df['race']=='African-American']\n",
    "cau = test_df[test_df['race']=='Caucasian']\n",
    "\n",
    "afram1 = test_df1[test_df1['race']=='African-American']\n",
    "cau1 = test_df1[test_df1['race']=='Caucasian']\n",
    "\n",
    "afram2 = test_df2[test_df2['race']=='African-American']\n",
    "cau2 = test_df2[test_df2['race']=='Caucasian']"
   ]
  },
  {
   "cell_type": "code",
   "execution_count": 22,
   "id": "dae46b82",
   "metadata": {},
   "outputs": [
    {
     "name": "stdout",
     "output_type": "stream",
     "text": [
      "Baseline model African-American Accuracy:\n"
     ]
    },
    {
     "data": {
      "text/plain": [
       "0.9755434782608695"
      ]
     },
     "execution_count": 22,
     "metadata": {},
     "output_type": "execute_result"
    }
   ],
   "source": [
    "print(\"Baseline model African-American Accuracy:\")\n",
    "ba1=sum(afram['two_year_recid'] == afram1['two_year_recid'])/len(afram1['two_year_recid'])\n",
    "ba1"
   ]
  },
  {
   "cell_type": "code",
   "execution_count": 23,
   "id": "aed6a1d3",
   "metadata": {},
   "outputs": [
    {
     "name": "stdout",
     "output_type": "stream",
     "text": [
      "Baseline model Caucasian Accuracy:\n"
     ]
    },
    {
     "data": {
      "text/plain": [
       "0.979757085020243"
      ]
     },
     "execution_count": 23,
     "metadata": {},
     "output_type": "execute_result"
    }
   ],
   "source": [
    "print(\"Baseline model Caucasian Accuracy:\")\n",
    "ba2=sum(cau['two_year_recid'] == cau1['two_year_recid'])/len(cau1['two_year_recid'])\n",
    "ba2"
   ]
  },
  {
   "cell_type": "code",
   "execution_count": 24,
   "id": "817a70c3",
   "metadata": {},
   "outputs": [
    {
     "name": "stdout",
     "output_type": "stream",
     "text": [
      "Local massaging algorithm African-American Accuracy:\n"
     ]
    },
    {
     "data": {
      "text/plain": [
       "0.967391304347826"
      ]
     },
     "execution_count": 24,
     "metadata": {},
     "output_type": "execute_result"
    }
   ],
   "source": [
    "print(\"Local massaging algorithm African-American Accuracy:\")\n",
    "lm1=sum(afram['two_year_recid'] == afram2['two_year_recid'])/len(afram2['two_year_recid'])\n",
    "lm1"
   ]
  },
  {
   "cell_type": "code",
   "execution_count": 25,
   "id": "d4d351ce",
   "metadata": {},
   "outputs": [
    {
     "name": "stdout",
     "output_type": "stream",
     "text": [
      "Local massaging algorithm Caucasian Accuracy:\n"
     ]
    },
    {
     "data": {
      "text/plain": [
       "0.9676113360323887"
      ]
     },
     "execution_count": 25,
     "metadata": {},
     "output_type": "execute_result"
    }
   ],
   "source": [
    "print(\"Local massaging algorithm Caucasian Accuracy:\")\n",
    "lm2=sum(cau['two_year_recid'] == cau2['two_year_recid'])/len(cau2['two_year_recid'])\n",
    "lm2"
   ]
  },
  {
   "cell_type": "code",
   "execution_count": 26,
   "id": "0e61ec4b",
   "metadata": {},
   "outputs": [
    {
     "name": "stdout",
     "output_type": "stream",
     "text": [
      "Baseline model algorithm Calibration:\n"
     ]
    },
    {
     "data": {
      "text/plain": [
       "0.004213606759373434"
      ]
     },
     "execution_count": 26,
     "metadata": {},
     "output_type": "execute_result"
    }
   ],
   "source": [
    "print(\"Baseline model algorithm Calibration:\")\n",
    "ba3=np.abs(ba2-ba1)\n",
    "ba3"
   ]
  },
  {
   "cell_type": "code",
   "execution_count": 27,
   "id": "52cece63",
   "metadata": {},
   "outputs": [
    {
     "name": "stdout",
     "output_type": "stream",
     "text": [
      "Local massaging algorithm Calibration:\n"
     ]
    },
    {
     "data": {
      "text/plain": [
       "0.00022003168456263822"
      ]
     },
     "execution_count": 27,
     "metadata": {},
     "output_type": "execute_result"
    }
   ],
   "source": [
    "print(\"Local massaging algorithm Calibration:\")\n",
    "lm3=np.abs(lm2-lm1)\n",
    "lm3"
   ]
  },
  {
   "cell_type": "markdown",
   "id": "daffb8c9",
   "metadata": {},
   "source": [
    "# Implemntaion of algorithms A5"
   ]
  },
  {
   "cell_type": "code",
   "execution_count": 28,
   "id": "836c7bb1",
   "metadata": {},
   "outputs": [],
   "source": [
    "import torch as t\n",
    "import torch.nn as nn"
   ]
  },
  {
   "cell_type": "markdown",
   "id": "6c42bfca",
   "metadata": {},
   "source": [
    "## Process the data for the model"
   ]
  },
  {
   "cell_type": "code",
   "execution_count": 29,
   "id": "69b6d009",
   "metadata": {},
   "outputs": [],
   "source": [
    "compas_df_filtered[\"race\"].replace(['African-American', 'Caucasian'],[0, 1], inplace=True)\n",
    "\n",
    "data_filtered_afram = compas_df_filtered[compas_df_filtered['race']==0]\n",
    "data_filtered_cau = compas_df_filtered[compas_df_filtered['race']==1]\n",
    "\n",
    "X_afram = data_filtered_afram.loc[:, data_filtered_afram.columns != 'two_year_recid']\n",
    "y_afram = data_filtered_afram[['two_year_recid']]\n",
    "\n",
    "X_cau = data_filtered_cau.loc[:, data_filtered_cau.columns != 'two_year_recid']\n",
    "y_cau = data_filtered_cau[['two_year_recid']]"
   ]
  },
  {
   "cell_type": "code",
   "execution_count": 30,
   "id": "a5a08010",
   "metadata": {},
   "outputs": [],
   "source": [
    "X_train_afram, X_test_afram, y_train_afram, y_test_afram = train_test_split(X_afram, y_afram, test_size=0.2)\n",
    "X_train_cau, X_test_cau, y_train_cau, y_test_cau = train_test_split(X_cau, y_cau, test_size=0.2)"
   ]
  },
  {
   "cell_type": "markdown",
   "id": "843bfe42",
   "metadata": {},
   "source": [
    "## Use tensor flow the modify the dataset"
   ]
  },
  {
   "cell_type": "code",
   "execution_count": 31,
   "id": "bad42453",
   "metadata": {},
   "outputs": [],
   "source": [
    "def tensorX(X):\n",
    "    return t.tensor(np.array(X)).to(t.float32)\n",
    "\n",
    "def tensorY(X,Y):\n",
    "    return t.from_numpy(np.array(Y).astype('float32')).reshape(X.shape[0], 1)"
   ]
  },
  {
   "cell_type": "code",
   "execution_count": 32,
   "id": "06b85445",
   "metadata": {},
   "outputs": [],
   "source": [
    "X_train_afram = tensorX(X_train_afram)\n",
    "X_test_afram = tensorX(X_test_afram)\n",
    "X_train_cau = tensorX(X_train_cau)\n",
    "X_test_cau = tensorX(X_test_cau)\n",
    "\n",
    "y_train_afram = tensorY(X_train_afram,y_train_afram)\n",
    "y_test_afram = tensorY(X_test_afram,y_test_afram)\n",
    "y_train_cau = tensorY(X_train_cau,y_train_cau)\n",
    "y_test_cau = tensorY(X_test_cau,y_test_cau)"
   ]
  },
  {
   "cell_type": "markdown",
   "id": "9bca450c",
   "metadata": {},
   "source": [
    "## Algorithm: Prejudice Remover Regularizer Loss Function"
   ]
  },
  {
   "cell_type": "code",
   "execution_count": 33,
   "id": "42c207a8",
   "metadata": {},
   "outputs": [],
   "source": [
    "#update LogisticRegression function\n",
    "class LogisticRegression(nn.Module):\n",
    "    def __init__(self,data):\n",
    "        super(LogisticRegression, self).__init__()\n",
    "        self.w = nn.Linear(data.shape[1], out_features=1, bias=True)\n",
    "        self.sigmod = nn.Sigmoid()\n",
    "    def forward(self, x):\n",
    "        w = self.w(x)\n",
    "        output = self.sigmod(w)\n",
    "        return output"
   ]
  },
  {
   "cell_type": "code",
   "execution_count": 34,
   "id": "2ca016dd",
   "metadata": {},
   "outputs": [],
   "source": [
    "#Define the Prejudice Remover Regularizer Loss Function\n",
    "class PRLoss():\n",
    "    def __init__(self, eta=1.0):\n",
    "        super(PRLoss, self).__init__()\n",
    "        self.eta = eta       \n",
    "        \n",
    "    def PI(self,output_afram,output_cau):\n",
    "        N_afram = t.tensor(output_afram.shape[0])\n",
    "        N_cau   = t.tensor(output_cau.shape[0])\n",
    "        # calculate P[y|s]\n",
    "        P_ys = t.stack((t.sum(output_afram),t.sum(output_cau)),axis=0) / t.stack((N_afram,N_cau),axis=0)\n",
    "        # calculate P[y]\n",
    "        P_y = t.sum(t.cat((output_afram,output_cau),0)) / (X_train_afram.shape[0]+X_train_cau.shape[0])\n",
    "        # calculate PI\n",
    "        PI_s1y1 = output_afram * (t.log(P_ys[1]) - t.log(P_y))\n",
    "        PI_s1y0 =(1- output_afram) *(t.log(1-P_ys[1]) - t.log(1-P_y))\n",
    "        PI_s0y1 = output_cau * (t.log(P_ys[0]) - t.log(P_y))\n",
    "        PI_s0y0 = (1- output_cau)* (t.log(1-P_ys[0]) - t.log(1-P_y))\n",
    "        PI = t.sum(PI_s1y1) + t.sum(PI_s1y0) + t.sum(PI_s0y1) + t.sum(PI_s0y0)\n",
    "        PI = self.eta * PI\n",
    "        return PI"
   ]
  },
  {
   "cell_type": "markdown",
   "id": "6241e43a",
   "metadata": {},
   "source": [
    "## Algorithm:Logistical regression with Prejudice Remover Regularizer"
   ]
  },
  {
   "cell_type": "code",
   "execution_count": 35,
   "id": "8ef8e86f",
   "metadata": {},
   "outputs": [],
   "source": [
    "#This function has a hyperparameter eta which is the size of the regulating term in the loss function.\n",
    "#The fit method will give us the accuracy and caliberation of the fitted model\n",
    "class LogisticRegressionWithPRR():\n",
    "  \n",
    "    def __init__(self, eta=0.0, epochs=100, lr = 0.01):\n",
    "        super(LogisticRegressionWithPRR, self).__init__()\n",
    "        self.eta = eta\n",
    "        self.epochs = epochs\n",
    "        self.lr = lr\n",
    "        \n",
    "    def fit(self,X_train_afram,y_train_afram,X_train_cau,y_train_cau,X_test_afram, y_test_afram, X_test_cau, y_test_cau): \n",
    "        #LogisticRegression model\n",
    "        model_afram = LogisticRegression(X_train_afram)\n",
    "        model_cau = LogisticRegression(X_train_cau)\n",
    "        \n",
    "        criterion = nn.BCELoss()\n",
    "        PI = PRLoss(eta=self.eta)\n",
    "        epochs = self.epochs\n",
    "        \n",
    "        #L2 regularization (non-zero weight_decay)\n",
    "        optimizer = t.optim.Adam(list(model_afram.parameters())+ list(model_cau.parameters()), self.lr, weight_decay=1e-5)\n",
    "        \n",
    "        for epoch in range(epochs):\n",
    "            #train\n",
    "            model_afram.train()\n",
    "            model_cau.train()\n",
    "            \n",
    "            #zero out the gradients\n",
    "            optimizer.zero_grad()\n",
    "            \n",
    "            #compute loss\n",
    "            output_afram = model_afram(X_train_afram)\n",
    "            output_cau = model_cau(X_train_cau)\n",
    "            log_loss = criterion(output_afram, y_train_afram)+ criterion(output_cau, y_train_cau)\n",
    "            PI_loss = PI.PI(output_afram,output_cau)\n",
    "            loss = PI_loss +log_loss\n",
    "            \n",
    "            loss.backward()\n",
    "            optimizer.step()  \n",
    "        #eval\n",
    "        model_afram.eval()\n",
    "        model_cau.eval()\n",
    "        \n",
    "        #calculate accuracy\n",
    "        #Accuracy is the average of correctly predicted labels of two groups\n",
    "        #Caliberation is the difference of accuracy bewtween the two groups\n",
    "        y_pred_afram = (model_afram(X_test_afram) >= 0.5)\n",
    "        y_pred_cau = (model_cau(X_test_cau) >= 0.5)\n",
    "\n",
    "        #sum of correct prediction/total num\n",
    "        accuracy_afram  = t.sum(y_pred_afram == y_test_afram) / y_test_afram.shape[0]\n",
    "        accuracy_cau  = t.sum(y_pred_cau == y_test_cau) / y_test_cau.shape[0]\n",
    "\n",
    "        accuracy = (accuracy_afram + accuracy_cau) / 2\n",
    "        calibration = t.abs(accuracy_afram - accuracy_cau)\n",
    "        \n",
    "        return accuracy.item(), calibration.item(), accuracy_afram.item() , accuracy_cau.item()"
   ]
  },
  {
   "cell_type": "code",
   "execution_count": 36,
   "id": "c4000361",
   "metadata": {},
   "outputs": [
    {
     "data": {
      "text/plain": [
       "(0.5724294185638428,\n",
       " 0.10972368717193604,\n",
       " 0.5175675749778748,\n",
       " 0.6272912621498108)"
      ]
     },
     "execution_count": 36,
     "metadata": {},
     "output_type": "execute_result"
    }
   ],
   "source": [
    "PR = LogisticRegressionWithPRR(eta = 0.7, epochs = 100, lr = 1e-04)\n",
    "PR.fit(X_train_afram,y_train_afram,X_train_cau,y_train_cau, X_test_afram, y_test_afram, X_test_cau, y_test_cau)"
   ]
  },
  {
   "cell_type": "markdown",
   "id": "ddda605f",
   "metadata": {},
   "source": [
    "## Tuning Hyperparameter eta"
   ]
  },
  {
   "cell_type": "code",
   "execution_count": 37,
   "id": "88d6a224",
   "metadata": {},
   "outputs": [],
   "source": [
    "#Tuning the hyperparameter to find the best model\n",
    "eta=np.linspace(0, 100, num=1000)\n",
    "hist_acc=np.zeros(1000)\n",
    "hist_cal=np.zeros(1000)\n",
    "hist_afram = np.zeros(1000)\n",
    "hist_cau = np.zeros(1000)\n",
    "for i in range(1000):\n",
    "    PR = LogisticRegressionWithPRR(eta = eta[i], epochs = 100, lr = 1e-04)\n",
    "    results = PR.fit(X_train_afram,y_train_afram,X_train_cau,y_train_cau, X_test_afram, y_test_afram, X_test_cau, y_test_cau)\n",
    "    hist_acc[i]=results[0]\n",
    "    hist_cal[i]=results[1]\n",
    "    hist_afram[i]=results[2]\n",
    "    hist_cau[i]=results[3]"
   ]
  },
  {
   "cell_type": "code",
   "execution_count": 38,
   "id": "1ebff33e",
   "metadata": {},
   "outputs": [
    {
     "name": "stdout",
     "output_type": "stream",
     "text": [
      "Accuracy:\n"
     ]
    },
    {
     "data": {
      "text/plain": [
       "0.7722793817520142"
      ]
     },
     "execution_count": 38,
     "metadata": {},
     "output_type": "execute_result"
    }
   ],
   "source": [
    "clf_accuracy = np.max(hist_acc)\n",
    "print(\"Accuracy:\")\n",
    "np.max(hist_acc)"
   ]
  },
  {
   "cell_type": "code",
   "execution_count": 39,
   "id": "941f7b0e",
   "metadata": {},
   "outputs": [
    {
     "name": "stdout",
     "output_type": "stream",
     "text": [
      "Calibration Score:\n"
     ]
    },
    {
     "data": {
      "text/plain": [
       "0.1311168670654297"
      ]
     },
     "execution_count": 39,
     "metadata": {},
     "output_type": "execute_result"
    }
   ],
   "source": [
    "A5_cal_score = np.min(hist_cal)\n",
    "print(\"Calibration Score:\")\n",
    "hist_cal[np.argmax(hist_acc)] #calibration decreases"
   ]
  },
  {
   "cell_type": "code",
   "execution_count": 40,
   "id": "48bc7e7f",
   "metadata": {},
   "outputs": [
    {
     "name": "stdout",
     "output_type": "stream",
     "text": [
      "Accuracy:\n"
     ]
    },
    {
     "data": {
      "text/plain": [
       "0.6264834403991699"
      ]
     },
     "execution_count": 40,
     "metadata": {},
     "output_type": "execute_result"
    }
   ],
   "source": [
    "#clf_accuracy = hist_acc[np.argmin(hist_cal)]\n",
    "print(\"Accuracy:\")\n",
    "hist_acc[np.argmin(hist_cal)]"
   ]
  },
  {
   "cell_type": "code",
   "execution_count": 41,
   "id": "7bcf69b3",
   "metadata": {},
   "outputs": [
    {
     "name": "stdout",
     "output_type": "stream",
     "text": [
      "Calibration Score:\n"
     ]
    },
    {
     "data": {
      "text/plain": [
       "0.0016155838966369629"
      ]
     },
     "execution_count": 41,
     "metadata": {},
     "output_type": "execute_result"
    }
   ],
   "source": [
    "#A5_cal_score = np.min(hist_cal)\n",
    "print(\"Calibration Score:\")\n",
    "np.min(hist_cal) #minimum calibration"
   ]
  },
  {
   "cell_type": "code",
   "execution_count": 42,
   "id": "98fff61f",
   "metadata": {},
   "outputs": [],
   "source": [
    "pr=hist_acc[np.argmin(hist_cal)]\n",
    "pr3=np.min(hist_cal)"
   ]
  },
  {
   "cell_type": "markdown",
   "id": "ef3a2d47",
   "metadata": {},
   "source": [
    "# Comparision plots:"
   ]
  },
  {
   "cell_type": "markdown",
   "id": "e2670a16",
   "metadata": {},
   "source": [
    " ## Accuracy plot:"
   ]
  },
  {
   "cell_type": "code",
   "execution_count": 52,
   "id": "5914f0ba",
   "metadata": {},
   "outputs": [
    {
     "data": {
      "image/png": "[encoded data removed]",
      "text/plain": [
       "<Figure size 432x288 with 1 Axes>"
      ]
     },
     "metadata": {
      "needs_background": "light"
     },
     "output_type": "display_data"
    }
   ],
   "source": [
    "import matplotlib.pyplot as plt\n",
    "\n",
    "names = [\"baseline\",\"Local massaging algorithm\",\"Prejudice Remover Regularizer\"]\n",
    "acc_values = [ba,lm,pr]\n",
    "plt.barh(names, acc_values)\n",
    "plt.title('Accuracy plot')\n",
    "plt.show()"
   ]
  },
  {
   "cell_type": "markdown",
   "id": "1c0db8f8",
   "metadata": {},
   "source": [
    "## Calibration plot:"
   ]
  },
  {
   "cell_type": "code",
   "execution_count": 53,
   "id": "5ed45360",
   "metadata": {},
   "outputs": [
    {
     "data": {
      "text/plain": [
       "Text(0.5, 1.0, 'Calibration plot')"
      ]
     },
     "execution_count": 53,
     "metadata": {},
     "output_type": "execute_result"
    },
    {
     "data": {
      "image/png": "[encoded data removed]",
      "text/plain": [
       "<Figure size 432x288 with 1 Axes>"
      ]
     },
     "metadata": {
      "needs_background": "light"
     },
     "output_type": "display_data"
    }
   ],
   "source": [
    "cal_values = [ba3,lm3,pr3]\n",
    "plt.barh(names, cal_values)\n",
    "plt.title('Calibration plot')"
   ]
  },
  {
   "cell_type": "code",
   "execution_count": null,
   "id": "ac19f33f",
   "metadata": {},
   "outputs": [],
   "source": []
  }
 ],
 "metadata": {
  "hide_input": false,
  "kernelspec": {
   "display_name": "Python 3",
   "language": "python",
   "name": "python3"
  },
  "language_info": {
   "codemirror_mode": {
    "name": "ipython",
    "version": 3
   },
   "file_extension": ".py",
   "mimetype": "text/x-python",
   "name": "python",
   "nbconvert_exporter": "python",
   "pygments_lexer": "ipython3",
   "version": "3.8.8"
  }
 },
 "nbformat": 4,
 "nbformat_minor": 5
}
